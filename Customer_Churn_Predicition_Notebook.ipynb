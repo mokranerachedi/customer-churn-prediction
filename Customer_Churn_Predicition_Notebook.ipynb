{
  "cells": [
    {
      "cell_type": "markdown",
      "metadata": {
        "id": "view-in-github",
        "colab_type": "text"
      },
      "source": [
        "<a href=\"https://colab.research.google.com/github/mokranerachedi/customer-churn-prediction/blob/main/Customer_Churn_Predicition_Notebook.ipynb\" target=\"_parent\"><img src=\"https://colab.research.google.com/assets/colab-badge.svg\" alt=\"Open In Colab\"/></a>"
      ]
    },
    {
      "cell_type": "markdown",
      "metadata": {
        "id": "7mWlNAv-P0ed"
      },
      "source": [
        "# Costumer Churn Prediction using Machine Learning"
      ]
    },
    {
      "cell_type": "markdown",
      "metadata": {
        "id": "qVOz9SIpJnNr"
      },
      "source": [
        "## Problem Definition"
      ]
    },
    {
      "cell_type": "markdown",
      "metadata": {
        "id": "MG1udsPMQfht"
      },
      "source": [
        "Customer churn happens when customers decide to not continue purchasing products/services from an organization and end their association. This phenomenon is inevitable, one day or another, all companies lose customers. In fact, there can be many reasons for this: a decrease in the need, a loss of interest in the product or service offered, a better offer from a competitor, a price increase, etc…\n",
        "\n",
        "For many years now, companies have been putting in place colossal means to reduce churn and maintain their customer base. This is not surprising when you know that several researches prove that it is always more expensive (between 5 to 25 times more expensive according to [the Harvard Review study](https://hbr.org/2014/10/the-value-of-keeping-the-right-customers)) to get new customers than to keep existing ones. However, in today's world with the power of artificial intelligence, it can be done easily and automatically thanks to what is called Machine Learning.\n",
        "\n",
        "In this project, we will work on customer data from a telecom company ([published on kaggle](https://www.kaggle.com/datasets/blastchar/telco-customer-churn)) to build a machine learning model that will predict whether a customer will churn from the company's services or not. The goal is to allow the company in question to better target and retain customers with a high risk of churn."
      ]
    },
    {
      "cell_type": "markdown",
      "metadata": {
        "id": "b4vaf5XgMFOL"
      },
      "source": [
        "## Import packages"
      ]
    },
    {
      "cell_type": "code",
      "execution_count": 90,
      "metadata": {
        "id": "H_E70uXmNxiV"
      },
      "outputs": [],
      "source": [
        "import pandas as pd\n",
        "import numpy as np\n",
        "import matplotlib.pyplot as plt\n",
        "import seaborn as sns\n",
        "from ipywidgets import interact, interactive, fixed, interact_manual\n",
        "import ipywidgets as widgets\n",
        "from sklearn.model_selection import train_test_split, GridSearchCV\n",
        "from sklearn.utils import resample\n",
        "from sklearn.preprocessing import StandardScaler, MinMaxScaler\n",
        "from sklearn.ensemble import RandomForestClassifier\n",
        "from sklearn.metrics import classification_report\n",
        "from sklearn.linear_model import LogisticRegression\n",
        "from sklearn.feature_selection import RFE\n",
        "from sklearn.svm import SVC\n",
        "%matplotlib inline\n",
        "plt.style.use('ggplot')"
      ]
    },
    {
      "cell_type": "markdown",
      "metadata": {
        "id": "n-bOlwrLvD8L"
      },
      "source": [
        "## Load data"
      ]
    },
    {
      "cell_type": "code",
      "execution_count": 91,
      "metadata": {
        "id": "ful1DEQDvIVq"
      },
      "outputs": [],
      "source": [
        "url = \"https://raw.githubusercontent.com/mokranerachedi/customer-churn-prediction/main/Telco-Churn.csv\"\n",
        "df = pd.read_csv(url)"
      ]
    },
    {
      "cell_type": "markdown",
      "metadata": {
        "id": "dXjmqqWL1ENo"
      },
      "source": [
        "## Exploratory Data Analysis"
      ]
    },
    {
      "cell_type": "code",
      "execution_count": 92,
      "metadata": {
        "colab": {
          "base_uri": "https://localhost:8080/",
          "height": 386
        },
        "id": "dsk3LVkDwP7Z",
        "outputId": "5594fff4-375f-43ca-b65d-3c97cdd2e188"
      },
      "outputs": [
        {
          "output_type": "execute_result",
          "data": {
            "text/plain": [
              "   customerID  gender  SeniorCitizen Partner Dependents  tenure PhoneService  \\\n",
              "0  7590-VHVEG  Female              0     Yes         No       1           No   \n",
              "1  5575-GNVDE    Male              0      No         No      34          Yes   \n",
              "2  3668-QPYBK    Male              0      No         No       2          Yes   \n",
              "3  7795-CFOCW    Male              0      No         No      45           No   \n",
              "4  9237-HQITU  Female              0      No         No       2          Yes   \n",
              "\n",
              "      MultipleLines InternetService OnlineSecurity  ... DeviceProtection  \\\n",
              "0  No phone service             DSL             No  ...               No   \n",
              "1                No             DSL            Yes  ...              Yes   \n",
              "2                No             DSL            Yes  ...               No   \n",
              "3  No phone service             DSL            Yes  ...              Yes   \n",
              "4                No     Fiber optic             No  ...               No   \n",
              "\n",
              "  TechSupport StreamingTV StreamingMovies        Contract PaperlessBilling  \\\n",
              "0          No          No              No  Month-to-month              Yes   \n",
              "1          No          No              No        One year               No   \n",
              "2          No          No              No  Month-to-month              Yes   \n",
              "3         Yes          No              No        One year               No   \n",
              "4          No          No              No  Month-to-month              Yes   \n",
              "\n",
              "               PaymentMethod MonthlyCharges  TotalCharges Churn  \n",
              "0           Electronic check          29.85         29.85    No  \n",
              "1               Mailed check          56.95        1889.5    No  \n",
              "2               Mailed check          53.85        108.15   Yes  \n",
              "3  Bank transfer (automatic)          42.30       1840.75    No  \n",
              "4           Electronic check          70.70        151.65   Yes  \n",
              "\n",
              "[5 rows x 21 columns]"
            ],
            "text/html": [
              "\n",
              "  <div id=\"df-98ae3023-c244-4ba4-97b6-2b5c22b081e9\">\n",
              "    <div class=\"colab-df-container\">\n",
              "      <div>\n",
              "<style scoped>\n",
              "    .dataframe tbody tr th:only-of-type {\n",
              "        vertical-align: middle;\n",
              "    }\n",
              "\n",
              "    .dataframe tbody tr th {\n",
              "        vertical-align: top;\n",
              "    }\n",
              "\n",
              "    .dataframe thead th {\n",
              "        text-align: right;\n",
              "    }\n",
              "</style>\n",
              "<table border=\"1\" class=\"dataframe\">\n",
              "  <thead>\n",
              "    <tr style=\"text-align: right;\">\n",
              "      <th></th>\n",
              "      <th>customerID</th>\n",
              "      <th>gender</th>\n",
              "      <th>SeniorCitizen</th>\n",
              "      <th>Partner</th>\n",
              "      <th>Dependents</th>\n",
              "      <th>tenure</th>\n",
              "      <th>PhoneService</th>\n",
              "      <th>MultipleLines</th>\n",
              "      <th>InternetService</th>\n",
              "      <th>OnlineSecurity</th>\n",
              "      <th>...</th>\n",
              "      <th>DeviceProtection</th>\n",
              "      <th>TechSupport</th>\n",
              "      <th>StreamingTV</th>\n",
              "      <th>StreamingMovies</th>\n",
              "      <th>Contract</th>\n",
              "      <th>PaperlessBilling</th>\n",
              "      <th>PaymentMethod</th>\n",
              "      <th>MonthlyCharges</th>\n",
              "      <th>TotalCharges</th>\n",
              "      <th>Churn</th>\n",
              "    </tr>\n",
              "  </thead>\n",
              "  <tbody>\n",
              "    <tr>\n",
              "      <th>0</th>\n",
              "      <td>7590-VHVEG</td>\n",
              "      <td>Female</td>\n",
              "      <td>0</td>\n",
              "      <td>Yes</td>\n",
              "      <td>No</td>\n",
              "      <td>1</td>\n",
              "      <td>No</td>\n",
              "      <td>No phone service</td>\n",
              "      <td>DSL</td>\n",
              "      <td>No</td>\n",
              "      <td>...</td>\n",
              "      <td>No</td>\n",
              "      <td>No</td>\n",
              "      <td>No</td>\n",
              "      <td>No</td>\n",
              "      <td>Month-to-month</td>\n",
              "      <td>Yes</td>\n",
              "      <td>Electronic check</td>\n",
              "      <td>29.85</td>\n",
              "      <td>29.85</td>\n",
              "      <td>No</td>\n",
              "    </tr>\n",
              "    <tr>\n",
              "      <th>1</th>\n",
              "      <td>5575-GNVDE</td>\n",
              "      <td>Male</td>\n",
              "      <td>0</td>\n",
              "      <td>No</td>\n",
              "      <td>No</td>\n",
              "      <td>34</td>\n",
              "      <td>Yes</td>\n",
              "      <td>No</td>\n",
              "      <td>DSL</td>\n",
              "      <td>Yes</td>\n",
              "      <td>...</td>\n",
              "      <td>Yes</td>\n",
              "      <td>No</td>\n",
              "      <td>No</td>\n",
              "      <td>No</td>\n",
              "      <td>One year</td>\n",
              "      <td>No</td>\n",
              "      <td>Mailed check</td>\n",
              "      <td>56.95</td>\n",
              "      <td>1889.5</td>\n",
              "      <td>No</td>\n",
              "    </tr>\n",
              "    <tr>\n",
              "      <th>2</th>\n",
              "      <td>3668-QPYBK</td>\n",
              "      <td>Male</td>\n",
              "      <td>0</td>\n",
              "      <td>No</td>\n",
              "      <td>No</td>\n",
              "      <td>2</td>\n",
              "      <td>Yes</td>\n",
              "      <td>No</td>\n",
              "      <td>DSL</td>\n",
              "      <td>Yes</td>\n",
              "      <td>...</td>\n",
              "      <td>No</td>\n",
              "      <td>No</td>\n",
              "      <td>No</td>\n",
              "      <td>No</td>\n",
              "      <td>Month-to-month</td>\n",
              "      <td>Yes</td>\n",
              "      <td>Mailed check</td>\n",
              "      <td>53.85</td>\n",
              "      <td>108.15</td>\n",
              "      <td>Yes</td>\n",
              "    </tr>\n",
              "    <tr>\n",
              "      <th>3</th>\n",
              "      <td>7795-CFOCW</td>\n",
              "      <td>Male</td>\n",
              "      <td>0</td>\n",
              "      <td>No</td>\n",
              "      <td>No</td>\n",
              "      <td>45</td>\n",
              "      <td>No</td>\n",
              "      <td>No phone service</td>\n",
              "      <td>DSL</td>\n",
              "      <td>Yes</td>\n",
              "      <td>...</td>\n",
              "      <td>Yes</td>\n",
              "      <td>Yes</td>\n",
              "      <td>No</td>\n",
              "      <td>No</td>\n",
              "      <td>One year</td>\n",
              "      <td>No</td>\n",
              "      <td>Bank transfer (automatic)</td>\n",
              "      <td>42.30</td>\n",
              "      <td>1840.75</td>\n",
              "      <td>No</td>\n",
              "    </tr>\n",
              "    <tr>\n",
              "      <th>4</th>\n",
              "      <td>9237-HQITU</td>\n",
              "      <td>Female</td>\n",
              "      <td>0</td>\n",
              "      <td>No</td>\n",
              "      <td>No</td>\n",
              "      <td>2</td>\n",
              "      <td>Yes</td>\n",
              "      <td>No</td>\n",
              "      <td>Fiber optic</td>\n",
              "      <td>No</td>\n",
              "      <td>...</td>\n",
              "      <td>No</td>\n",
              "      <td>No</td>\n",
              "      <td>No</td>\n",
              "      <td>No</td>\n",
              "      <td>Month-to-month</td>\n",
              "      <td>Yes</td>\n",
              "      <td>Electronic check</td>\n",
              "      <td>70.70</td>\n",
              "      <td>151.65</td>\n",
              "      <td>Yes</td>\n",
              "    </tr>\n",
              "  </tbody>\n",
              "</table>\n",
              "<p>5 rows × 21 columns</p>\n",
              "</div>\n",
              "      <button class=\"colab-df-convert\" onclick=\"convertToInteractive('df-98ae3023-c244-4ba4-97b6-2b5c22b081e9')\"\n",
              "              title=\"Convert this dataframe to an interactive table.\"\n",
              "              style=\"display:none;\">\n",
              "        \n",
              "  <svg xmlns=\"http://www.w3.org/2000/svg\" height=\"24px\"viewBox=\"0 0 24 24\"\n",
              "       width=\"24px\">\n",
              "    <path d=\"M0 0h24v24H0V0z\" fill=\"none\"/>\n",
              "    <path d=\"M18.56 5.44l.94 2.06.94-2.06 2.06-.94-2.06-.94-.94-2.06-.94 2.06-2.06.94zm-11 1L8.5 8.5l.94-2.06 2.06-.94-2.06-.94L8.5 2.5l-.94 2.06-2.06.94zm10 10l.94 2.06.94-2.06 2.06-.94-2.06-.94-.94-2.06-.94 2.06-2.06.94z\"/><path d=\"M17.41 7.96l-1.37-1.37c-.4-.4-.92-.59-1.43-.59-.52 0-1.04.2-1.43.59L10.3 9.45l-7.72 7.72c-.78.78-.78 2.05 0 2.83L4 21.41c.39.39.9.59 1.41.59.51 0 1.02-.2 1.41-.59l7.78-7.78 2.81-2.81c.8-.78.8-2.07 0-2.86zM5.41 20L4 18.59l7.72-7.72 1.47 1.35L5.41 20z\"/>\n",
              "  </svg>\n",
              "      </button>\n",
              "      \n",
              "  <style>\n",
              "    .colab-df-container {\n",
              "      display:flex;\n",
              "      flex-wrap:wrap;\n",
              "      gap: 12px;\n",
              "    }\n",
              "\n",
              "    .colab-df-convert {\n",
              "      background-color: #E8F0FE;\n",
              "      border: none;\n",
              "      border-radius: 50%;\n",
              "      cursor: pointer;\n",
              "      display: none;\n",
              "      fill: #1967D2;\n",
              "      height: 32px;\n",
              "      padding: 0 0 0 0;\n",
              "      width: 32px;\n",
              "    }\n",
              "\n",
              "    .colab-df-convert:hover {\n",
              "      background-color: #E2EBFA;\n",
              "      box-shadow: 0px 1px 2px rgba(60, 64, 67, 0.3), 0px 1px 3px 1px rgba(60, 64, 67, 0.15);\n",
              "      fill: #174EA6;\n",
              "    }\n",
              "\n",
              "    [theme=dark] .colab-df-convert {\n",
              "      background-color: #3B4455;\n",
              "      fill: #D2E3FC;\n",
              "    }\n",
              "\n",
              "    [theme=dark] .colab-df-convert:hover {\n",
              "      background-color: #434B5C;\n",
              "      box-shadow: 0px 1px 3px 1px rgba(0, 0, 0, 0.15);\n",
              "      filter: drop-shadow(0px 1px 2px rgba(0, 0, 0, 0.3));\n",
              "      fill: #FFFFFF;\n",
              "    }\n",
              "  </style>\n",
              "\n",
              "      <script>\n",
              "        const buttonEl =\n",
              "          document.querySelector('#df-98ae3023-c244-4ba4-97b6-2b5c22b081e9 button.colab-df-convert');\n",
              "        buttonEl.style.display =\n",
              "          google.colab.kernel.accessAllowed ? 'block' : 'none';\n",
              "\n",
              "        async function convertToInteractive(key) {\n",
              "          const element = document.querySelector('#df-98ae3023-c244-4ba4-97b6-2b5c22b081e9');\n",
              "          const dataTable =\n",
              "            await google.colab.kernel.invokeFunction('convertToInteractive',\n",
              "                                                     [key], {});\n",
              "          if (!dataTable) return;\n",
              "\n",
              "          const docLinkHtml = 'Like what you see? Visit the ' +\n",
              "            '<a target=\"_blank\" href=https://colab.research.google.com/notebooks/data_table.ipynb>data table notebook</a>'\n",
              "            + ' to learn more about interactive tables.';\n",
              "          element.innerHTML = '';\n",
              "          dataTable['output_type'] = 'display_data';\n",
              "          await google.colab.output.renderOutput(dataTable, element);\n",
              "          const docLink = document.createElement('div');\n",
              "          docLink.innerHTML = docLinkHtml;\n",
              "          element.appendChild(docLink);\n",
              "        }\n",
              "      </script>\n",
              "    </div>\n",
              "  </div>\n",
              "  "
            ]
          },
          "metadata": {},
          "execution_count": 92
        }
      ],
      "source": [
        "df.head()"
      ]
    },
    {
      "cell_type": "markdown",
      "metadata": {
        "id": "edpVIYacxuTm"
      },
      "source": [
        "Each row represents a customer, each column contains customer’s attributes described on the column Metadata.\n",
        "\n",
        "The data set includes information about:\n",
        "\n",
        "- Customers who left within the last month – the column is called Churn\n",
        "- Services that each customer has signed up for – phone, multiple lines, internet, online security, online backup, device protection, tech support, and streaming TV and movies\n",
        "- Customer account information – how long they’ve been a customer, contract, payment method, paperless billing, monthly charges, and total charges\n",
        "- Demographic info about customers – gender, age range, and if they have partners and dependents"
      ]
    },
    {
      "cell_type": "markdown",
      "metadata": {
        "id": "kgUW-fvdz1-y"
      },
      "source": [
        "In this data set the target variable is Churn which takes two values **Yes (the customer churned)** and **No (the customer didn't churn)**.\n",
        "\n",
        "So, in this project we have a classification problem since the target variable is a categorical variable, more precisely it is a binary classification problem since the target variable takes only two values.\n"
      ]
    },
    {
      "cell_type": "code",
      "execution_count": 93,
      "metadata": {
        "colab": {
          "base_uri": "https://localhost:8080/"
        },
        "id": "EljBhua30vfg",
        "outputId": "c40731d3-4745-4926-9ed4-4bdd15d52993"
      },
      "outputs": [
        {
          "output_type": "execute_result",
          "data": {
            "text/plain": [
              "(7043, 21)"
            ]
          },
          "metadata": {},
          "execution_count": 93
        }
      ],
      "source": [
        "df.shape"
      ]
    },
    {
      "cell_type": "markdown",
      "metadata": {
        "id": "_Z1fX45v1Mrl"
      },
      "source": [
        "The raw data contains 7043 rows (customers) and 21 columns (features)."
      ]
    },
    {
      "cell_type": "code",
      "execution_count": 94,
      "metadata": {
        "colab": {
          "base_uri": "https://localhost:8080/"
        },
        "id": "DlFiqVl21O2N",
        "outputId": "8feb446d-c559-4b26-c5c9-74815098a0e1"
      },
      "outputs": [
        {
          "output_type": "stream",
          "name": "stdout",
          "text": [
            "<class 'pandas.core.frame.DataFrame'>\n",
            "RangeIndex: 7043 entries, 0 to 7042\n",
            "Data columns (total 21 columns):\n",
            " #   Column            Non-Null Count  Dtype  \n",
            "---  ------            --------------  -----  \n",
            " 0   customerID        7043 non-null   object \n",
            " 1   gender            7043 non-null   object \n",
            " 2   SeniorCitizen     7043 non-null   int64  \n",
            " 3   Partner           7043 non-null   object \n",
            " 4   Dependents        7043 non-null   object \n",
            " 5   tenure            7043 non-null   int64  \n",
            " 6   PhoneService      7043 non-null   object \n",
            " 7   MultipleLines     7043 non-null   object \n",
            " 8   InternetService   7043 non-null   object \n",
            " 9   OnlineSecurity    7043 non-null   object \n",
            " 10  OnlineBackup      7043 non-null   object \n",
            " 11  DeviceProtection  7043 non-null   object \n",
            " 12  TechSupport       7043 non-null   object \n",
            " 13  StreamingTV       7043 non-null   object \n",
            " 14  StreamingMovies   7043 non-null   object \n",
            " 15  Contract          7043 non-null   object \n",
            " 16  PaperlessBilling  7043 non-null   object \n",
            " 17  PaymentMethod     7043 non-null   object \n",
            " 18  MonthlyCharges    7043 non-null   float64\n",
            " 19  TotalCharges      7043 non-null   object \n",
            " 20  Churn             7043 non-null   object \n",
            "dtypes: float64(1), int64(2), object(18)\n",
            "memory usage: 1.1+ MB\n"
          ]
        }
      ],
      "source": [
        "df.info()"
      ]
    },
    {
      "cell_type": "markdown",
      "metadata": {
        "id": "PBU08UkQ2kUQ"
      },
      "source": [
        "Apparently, the data set does not contain any missing values, we are going to confirm this during the analysis of the variables.\n",
        "\n",
        "The variable TotalCharges is considered as an object when it should be a numeric variable of type float64, we will transform it later."
      ]
    },
    {
      "cell_type": "code",
      "execution_count": 95,
      "metadata": {
        "colab": {
          "base_uri": "https://localhost:8080/"
        },
        "id": "1J0tHK2M3Wwv",
        "outputId": "93228bfb-77a9-4be8-939c-4fa13256a60e"
      },
      "outputs": [
        {
          "output_type": "execute_result",
          "data": {
            "text/plain": [
              "customerID          7043\n",
              "gender                 2\n",
              "SeniorCitizen          2\n",
              "Partner                2\n",
              "Dependents             2\n",
              "tenure                73\n",
              "PhoneService           2\n",
              "MultipleLines          3\n",
              "InternetService        3\n",
              "OnlineSecurity         3\n",
              "OnlineBackup           3\n",
              "DeviceProtection       3\n",
              "TechSupport            3\n",
              "StreamingTV            3\n",
              "StreamingMovies        3\n",
              "Contract               3\n",
              "PaperlessBilling       2\n",
              "PaymentMethod          4\n",
              "MonthlyCharges      1585\n",
              "TotalCharges        6531\n",
              "Churn                  2\n",
              "dtype: int64"
            ]
          },
          "metadata": {},
          "execution_count": 95
        }
      ],
      "source": [
        "# The unique values of each column\n",
        "df.nunique()"
      ]
    },
    {
      "cell_type": "markdown",
      "metadata": {
        "id": "6rHEyzT032KG"
      },
      "source": [
        "The variable customerID has 7043 unique values, so we have 7043 unique customers.\n",
        "\n",
        "We notice that the categorial variables are the variables which contain generally less than 5 values."
      ]
    },
    {
      "cell_type": "markdown",
      "metadata": {
        "id": "t1UwllnG5XIC"
      },
      "source": [
        "### Univariate analysis\n"
      ]
    },
    {
      "cell_type": "code",
      "execution_count": 96,
      "metadata": {
        "id": "mhR3ISazKWdf"
      },
      "outputs": [],
      "source": [
        "df.drop(columns=[\"customerID\"], inplace=True)"
      ]
    },
    {
      "cell_type": "markdown",
      "metadata": {
        "id": "TvLvK4165g-K"
      },
      "source": [
        "#### Categorical variables"
      ]
    },
    {
      "cell_type": "code",
      "execution_count": 97,
      "metadata": {
        "colab": {
          "base_uri": "https://localhost:8080/"
        },
        "id": "xs43yGjy5auC",
        "outputId": "d798f78d-0512-497e-c9ca-54dd862d33df"
      },
      "outputs": [
        {
          "output_type": "execute_result",
          "data": {
            "text/plain": [
              "['gender',\n",
              " 'SeniorCitizen',\n",
              " 'Partner',\n",
              " 'Dependents',\n",
              " 'PhoneService',\n",
              " 'MultipleLines',\n",
              " 'InternetService',\n",
              " 'OnlineSecurity',\n",
              " 'OnlineBackup',\n",
              " 'DeviceProtection',\n",
              " 'TechSupport',\n",
              " 'StreamingTV',\n",
              " 'StreamingMovies',\n",
              " 'Contract',\n",
              " 'PaperlessBilling',\n",
              " 'PaymentMethod',\n",
              " 'Churn']"
            ]
          },
          "metadata": {},
          "execution_count": 97
        }
      ],
      "source": [
        "# The list of categorical variables\n",
        "categorical_variables = df.nunique()[df.nunique() < 5].index.to_list()\n",
        "categorical_variables"
      ]
    },
    {
      "cell_type": "markdown",
      "metadata": {
        "id": "yDuNQSvr6_lP"
      },
      "source": [
        "In the following, we will create a function that will build bar graphs for category variables in an interactive way with ipywidgets."
      ]
    },
    {
      "cell_type": "code",
      "execution_count": 98,
      "metadata": {
        "id": "NH-s7up37Azn"
      },
      "outputs": [],
      "source": [
        "def bar_plot(x):\n",
        "    \"\"\"\n",
        "    A function that displays a bar graph for each category variable of x\n",
        "    \n",
        "    x: list\n",
        "    \"\"\"\n",
        "    df[x].value_counts(normalize=True).plot(kind=\"bar\")\n",
        "    plt.xlabel(x)\n",
        "    plt.ylabel(\"Frequency\")\n",
        "    plt.title(\"The distribution of \" + str(x))\n",
        "    plt.show()"
      ]
    },
    {
      "cell_type": "code",
      "execution_count": 99,
      "metadata": {
        "colab": {
          "base_uri": "https://localhost:8080/",
          "height": 0,
          "referenced_widgets": [
            "104bbe7969654b2eac6ebb80ce9082b4",
            "429ae16f923149dcab3a357043320d8a",
            "b41413c797e74379ad8127239de051d4",
            "8072faf3cffe4ab89e2f412ac7d1b4da",
            "11cba03c678141eaa19048bdc8d8cbb8",
            "88538f81915c4347957fac21907a0e3a",
            "869c29a8ca754e018eff4162129220bb"
          ]
        },
        "id": "MJ-PViKs90KM",
        "outputId": "63f21c49-fff5-4dd6-d4cc-552d468d55f9"
      },
      "outputs": [
        {
          "output_type": "display_data",
          "data": {
            "text/plain": [
              "interactive(children=(Dropdown(description='x', options=('gender', 'SeniorCitizen', 'Partner', 'Dependents', '…"
            ],
            "application/vnd.jupyter.widget-view+json": {
              "version_major": 2,
              "version_minor": 0,
              "model_id": "104bbe7969654b2eac6ebb80ce9082b4"
            }
          },
          "metadata": {}
        }
      ],
      "source": [
        "# The interact function\n",
        "interact(bar_plot, x = categorical_variables);"
      ]
    },
    {
      "cell_type": "markdown",
      "metadata": {
        "id": "WqBm1khaBTnD"
      },
      "source": [
        "In the following, we will create a function that will build a pie charts for each categorical variable interactively with ipywidgets."
      ]
    },
    {
      "cell_type": "code",
      "execution_count": 100,
      "metadata": {
        "id": "eBaHJMhzCCsD"
      },
      "outputs": [],
      "source": [
        "def pie_plot(x):\n",
        "    \"\"\"\n",
        "    A function that A function that displays a pie chart for each category variable of x.\n",
        "\n",
        "    x: list\n",
        "    \"\"\"\n",
        "    df[x].value_counts(normalize=True).plot(kind=\"pie\", autopct='%1.0f%%')\n",
        "    plt.title(\"The distribution of \" + str(x))\n",
        "    plt.legend()\n",
        "    plt.show()"
      ]
    },
    {
      "cell_type": "code",
      "execution_count": 101,
      "metadata": {
        "colab": {
          "base_uri": "https://localhost:8080/",
          "height": 0,
          "referenced_widgets": [
            "76af2de0daa44ab0af0540c0016639f7",
            "103c0262e34248ae9258aaa3e5454890",
            "19682a338999467cb87da28a1510df99",
            "4cab2fad6fc147f88a681497eb9a27bc",
            "7b206638e0e040bb911afbd3d88d0e26",
            "f0ef4fae5859499f851801e0757b643f",
            "63652cba30414289ae3cde0f96e2a473"
          ]
        },
        "id": "fKus4RrtClpJ",
        "outputId": "bfe57779-3450-482e-e896-e7e036cc20f7"
      },
      "outputs": [
        {
          "output_type": "display_data",
          "data": {
            "text/plain": [
              "interactive(children=(Dropdown(description='x', options=('gender', 'SeniorCitizen', 'Partner', 'Dependents', '…"
            ],
            "application/vnd.jupyter.widget-view+json": {
              "version_major": 2,
              "version_minor": 0,
              "model_id": "76af2de0daa44ab0af0540c0016639f7"
            }
          },
          "metadata": {}
        }
      ],
      "source": [
        "# The interact function\n",
        "interact(pie_plot, x=categorical_variables);"
      ]
    },
    {
      "cell_type": "markdown",
      "metadata": {
        "id": "vYGijY_cEBsk"
      },
      "source": [
        "- We notice that there are more clients who didn't leave (73%) than those who left (27%).\n",
        "- We also notice that there is a class imbalance in the target variable (Churn) that we have to solve in order to not to compromise the training of the machine learning models.\n",
        "- The company has much more of a younger clientele (84%) than an older one (16%).\n",
        "- Customers who have dependents are less (30%) than those who do not (70%).\n",
        "- The gender of the customers is in equal proportions.\n",
        "- The customers who have partners and those who don't are almost equally divided. \n",
        "- There are many more customers with monthly subscriptions (55%).\n"
      ]
    },
    {
      "cell_type": "markdown",
      "metadata": {
        "id": "ua55tzunIDH5"
      },
      "source": [
        "#### Numerical variables"
      ]
    },
    {
      "cell_type": "markdown",
      "metadata": {
        "id": "jYDXDVCRIhPp"
      },
      "source": [
        "First we need to analyze the variable TotalCharges to understand why it is considered as an object type."
      ]
    },
    {
      "cell_type": "code",
      "execution_count": 102,
      "metadata": {
        "colab": {
          "base_uri": "https://localhost:8080/"
        },
        "id": "Ggi73rshIJZ1",
        "outputId": "4ef7cc95-6bd3-423e-c9ca-bd475e4c3ee5"
      },
      "outputs": [
        {
          "output_type": "execute_result",
          "data": {
            "text/plain": [
              "          11\n",
              "20.2      11\n",
              "19.75      9\n",
              "20.05      8\n",
              "19.9       8\n",
              "          ..\n",
              "6849.4     1\n",
              "692.35     1\n",
              "130.15     1\n",
              "3211.9     1\n",
              "6844.5     1\n",
              "Name: TotalCharges, Length: 6531, dtype: int64"
            ]
          },
          "metadata": {},
          "execution_count": 102
        }
      ],
      "source": [
        "df[\"TotalCharges\"].value_counts()"
      ]
    },
    {
      "cell_type": "markdown",
      "metadata": {
        "id": "YLqZ2AvVIsNs"
      },
      "source": [
        "The variable TotalCharges is considered as an object type because it has 11 empty string values. We'll transform these values into NaN values and also transform TotalCharges into float64 type."
      ]
    },
    {
      "cell_type": "code",
      "execution_count": 103,
      "metadata": {
        "id": "ZWTSEOikJrS7"
      },
      "outputs": [],
      "source": [
        "df[\"TotalCharges\"] = df[\"TotalCharges\"].replace(\" \", np.nan).astype(float)"
      ]
    },
    {
      "cell_type": "code",
      "execution_count": 104,
      "metadata": {
        "colab": {
          "base_uri": "https://localhost:8080/"
        },
        "id": "DwMii_dEKANY",
        "outputId": "02f1eaa7-ea2f-454a-f1a5-2b2446f1029d"
      },
      "outputs": [
        {
          "output_type": "stream",
          "name": "stdout",
          "text": [
            "<class 'pandas.core.frame.DataFrame'>\n",
            "RangeIndex: 7043 entries, 0 to 7042\n",
            "Data columns (total 20 columns):\n",
            " #   Column            Non-Null Count  Dtype  \n",
            "---  ------            --------------  -----  \n",
            " 0   gender            7043 non-null   object \n",
            " 1   SeniorCitizen     7043 non-null   int64  \n",
            " 2   Partner           7043 non-null   object \n",
            " 3   Dependents        7043 non-null   object \n",
            " 4   tenure            7043 non-null   int64  \n",
            " 5   PhoneService      7043 non-null   object \n",
            " 6   MultipleLines     7043 non-null   object \n",
            " 7   InternetService   7043 non-null   object \n",
            " 8   OnlineSecurity    7043 non-null   object \n",
            " 9   OnlineBackup      7043 non-null   object \n",
            " 10  DeviceProtection  7043 non-null   object \n",
            " 11  TechSupport       7043 non-null   object \n",
            " 12  StreamingTV       7043 non-null   object \n",
            " 13  StreamingMovies   7043 non-null   object \n",
            " 14  Contract          7043 non-null   object \n",
            " 15  PaperlessBilling  7043 non-null   object \n",
            " 16  PaymentMethod     7043 non-null   object \n",
            " 17  MonthlyCharges    7043 non-null   float64\n",
            " 18  TotalCharges      7032 non-null   float64\n",
            " 19  Churn             7043 non-null   object \n",
            "dtypes: float64(2), int64(2), object(16)\n",
            "memory usage: 1.1+ MB\n"
          ]
        }
      ],
      "source": [
        "df.info()"
      ]
    },
    {
      "cell_type": "code",
      "execution_count": 105,
      "metadata": {
        "colab": {
          "base_uri": "https://localhost:8080/"
        },
        "id": "34dAJQxYKFZB",
        "outputId": "76cd8e4d-c4ee-469e-dcc6-7f3f5acdeea6"
      },
      "outputs": [
        {
          "output_type": "execute_result",
          "data": {
            "text/plain": [
              "['tenure', 'MonthlyCharges', 'TotalCharges']"
            ]
          },
          "metadata": {},
          "execution_count": 105
        }
      ],
      "source": [
        "# The list of numerical variables\n",
        "numerical_variables = df.nunique()[df.nunique() > 5].index.to_list()\n",
        "numerical_variables"
      ]
    },
    {
      "cell_type": "markdown",
      "metadata": {
        "id": "HA1Y-_NeLrZo"
      },
      "source": [
        "In the following, we will create a function that allows to build a histogram for each numerical variable in an interactive way with ipywidgets."
      ]
    },
    {
      "cell_type": "code",
      "execution_count": 106,
      "metadata": {
        "id": "xyxARgOQLtsj"
      },
      "outputs": [],
      "source": [
        "def hist_plot(x):\n",
        "    \"\"\"\n",
        "    A function that displays an histogram for each numerical variable of x.\n",
        "\n",
        "    x:list\n",
        "    \"\"\"\n",
        "    sns.displot(df[x], kde=True)\n",
        "    plt.title(\"Histogram of \" + str(x))\n",
        "    plt.show()"
      ]
    },
    {
      "cell_type": "code",
      "execution_count": 107,
      "metadata": {
        "colab": {
          "base_uri": "https://localhost:8080/",
          "height": 0,
          "referenced_widgets": [
            "4c0779d54c754ceead194a79b80d508e",
            "e90bfb59116e4102bf6f9b44b2b6ea12",
            "60099a8f7af3499c8d25c34e7adb5830",
            "063e53f701e148a78b133929ef2ce2ed",
            "82e60e0193964e49b2394b13e568ce31",
            "306f926c376d4f829c807f50e1707059",
            "b83164abd82541928eeb1ed8f2e7b8db"
          ]
        },
        "id": "tgpVw-Z0MROB",
        "outputId": "62b2c580-c058-459b-8a00-46ad7e51f344"
      },
      "outputs": [
        {
          "output_type": "display_data",
          "data": {
            "text/plain": [
              "interactive(children=(Dropdown(description='x', options=('tenure', 'MonthlyCharges', 'TotalCharges'), value='t…"
            ],
            "application/vnd.jupyter.widget-view+json": {
              "version_major": 2,
              "version_minor": 0,
              "model_id": "4c0779d54c754ceead194a79b80d508e"
            }
          },
          "metadata": {}
        }
      ],
      "source": [
        "interact(hist_plot, x=numerical_variables);"
      ]
    },
    {
      "cell_type": "markdown",
      "metadata": {
        "id": "82Qcnr8rM3Cv"
      },
      "source": [
        "We notice that the variable TotalCharges is very asymmetric."
      ]
    },
    {
      "cell_type": "markdown",
      "metadata": {
        "id": "mvbbzkZvM9T5"
      },
      "source": [
        "In the following, we will create a function that allows to build a boxplot for each numerical variable in an interactive way with ipywidgets."
      ]
    },
    {
      "cell_type": "code",
      "execution_count": 108,
      "metadata": {
        "id": "dQ32F_dWNARG"
      },
      "outputs": [],
      "source": [
        "def box_plot(x):\n",
        "    \"\"\"\n",
        "    A function that displays a boxplot for each numerical variable of x.\n",
        "\n",
        "    x: list\n",
        "    \"\"\"\n",
        "    sns.boxplot(y = df[x])\n",
        "    plt.title(\"Boxplot of \" + str(x))\n",
        "    plt.show()"
      ]
    },
    {
      "cell_type": "code",
      "execution_count": 109,
      "metadata": {
        "colab": {
          "base_uri": "https://localhost:8080/",
          "height": 0,
          "referenced_widgets": [
            "23d0168bc22846668a1b56632cbc595e",
            "b8d80c86915b4f018de78ebd21846575",
            "6c6f03d43b6c4545a80b808875daace9",
            "6a6e974a417a4ca78d82a1e6d996584d",
            "09bca3bb12bd427998c25ba4ecd515ca",
            "1aa38346b1d342b08f8d0429aadb100f",
            "336250dd82e047ba825f88a40d1c8ee9"
          ]
        },
        "id": "CfS_6QoTNZ3I",
        "outputId": "3dc8dd62-ae8d-405f-ca62-4411872ef3aa"
      },
      "outputs": [
        {
          "output_type": "display_data",
          "data": {
            "text/plain": [
              "interactive(children=(Dropdown(description='x', options=('tenure', 'MonthlyCharges', 'TotalCharges'), value='t…"
            ],
            "application/vnd.jupyter.widget-view+json": {
              "version_major": 2,
              "version_minor": 0,
              "model_id": "23d0168bc22846668a1b56632cbc595e"
            }
          },
          "metadata": {}
        }
      ],
      "source": [
        "interact(box_plot, x=numerical_variables);"
      ]
    },
    {
      "cell_type": "markdown",
      "metadata": {
        "id": "TJcxQyrzNrkU"
      },
      "source": [
        "The numerical variables don't have outliers."
      ]
    },
    {
      "cell_type": "markdown",
      "metadata": {
        "id": "b2EAxX58LM1O"
      },
      "source": [
        "### Multivariate analysis"
      ]
    },
    {
      "cell_type": "code",
      "execution_count": 110,
      "metadata": {
        "colab": {
          "base_uri": "https://localhost:8080/",
          "height": 0
        },
        "id": "6I-INU2OOENn",
        "outputId": "c91049b6-68d9-4e5d-b11c-40359cdd5f77"
      },
      "outputs": [
        {
          "output_type": "display_data",
          "data": {
            "text/plain": [
              "<Figure size 432x288 with 1 Axes>"
            ],
            "image/png": "[encoded data removed]"
          },
          "metadata": {}
        }
      ],
      "source": [
        "# Churn & TotalCharges\n",
        "sns.boxplot(x=\"Churn\", y=\"TotalCharges\", data=df)\n",
        "plt.title(\"The relation between Churn and TotalCharges\")\n",
        "plt.show()"
      ]
    },
    {
      "cell_type": "markdown",
      "metadata": {
        "id": "5pwsCT9gaGuk"
      },
      "source": [
        "The total amount billed to customers who have left is less than the total amount billed to customers who have not left."
      ]
    },
    {
      "cell_type": "code",
      "execution_count": 111,
      "metadata": {
        "colab": {
          "base_uri": "https://localhost:8080/",
          "height": 0
        },
        "id": "2arzdr5waHvR",
        "outputId": "86d5cb01-fba3-4ba2-a860-c7f53d5ae24e"
      },
      "outputs": [
        {
          "output_type": "display_data",
          "data": {
            "text/plain": [
              "<Figure size 432x288 with 1 Axes>"
            ],
            "image/png": "[encoded data removed]"
          },
          "metadata": {}
        }
      ],
      "source": [
        "# Churn & MonthlyCharges\n",
        "sns.boxplot(x=\"Churn\", y=\"MonthlyCharges\", data=df)\n",
        "plt.title(\"The relation between Churn and MonthlyCharges\")\n",
        "plt.show()"
      ]
    },
    {
      "cell_type": "markdown",
      "metadata": {
        "id": "uTDDgRSVauQN"
      },
      "source": [
        "Here, we notice that the monthly amount billed to customers who have left is greater than the monthly amount billed to customers who have not left."
      ]
    },
    {
      "cell_type": "code",
      "execution_count": 112,
      "metadata": {
        "colab": {
          "base_uri": "https://localhost:8080/",
          "height": 0
        },
        "id": "yj09fvmLbCyg",
        "outputId": "70fc90db-3844-482e-e33f-5b607f3bc32c"
      },
      "outputs": [
        {
          "output_type": "display_data",
          "data": {
            "text/plain": [
              "<Figure size 432x288 with 1 Axes>"
            ],
            "image/png": "[encoded data removed]"
          },
          "metadata": {}
        }
      ],
      "source": [
        "# Churn & tenure\n",
        "sns.boxplot(x=\"Churn\", y=\"tenure\", data=df)\n",
        "plt.title(\"The relation between Churn and tenure\")\n",
        "plt.show()"
      ]
    },
    {
      "cell_type": "code",
      "execution_count": 113,
      "metadata": {
        "colab": {
          "base_uri": "https://localhost:8080/",
          "height": 0
        },
        "id": "vFnYBk_VdAsa",
        "outputId": "e3169577-a3ed-4e46-8756-181d4e933cb2"
      },
      "outputs": [
        {
          "output_type": "display_data",
          "data": {
            "text/plain": [
              "<Figure size 432x288 with 1 Axes>"
            ],
            "image/png": "[encoded data removed]"
          },
          "metadata": {}
        }
      ],
      "source": [
        "# Churn & MonthlyCharges & SeniorCitizen\n",
        "sns.boxplot(x=\"Churn\", y=\"MonthlyCharges\", hue=\"SeniorCitizen\", data=df)\n",
        "plt.title(\"The relation between Churn, MonthlyCharges and SeniorCitizen\")\n",
        "plt.show()"
      ]
    },
    {
      "cell_type": "markdown",
      "metadata": {
        "id": "uRsxeuYXd_QJ"
      },
      "source": [
        "Whether churned or not, senior customers are much more likely to be billed than younger ones."
      ]
    },
    {
      "cell_type": "markdown",
      "metadata": {
        "id": "i_4RJVD9ejIN"
      },
      "source": [
        "## Data preprocessing"
      ]
    },
    {
      "cell_type": "code",
      "execution_count": 114,
      "metadata": {
        "id": "YYhaE1Wnfsy0"
      },
      "outputs": [],
      "source": [
        "df_dp = df.copy()"
      ]
    },
    {
      "cell_type": "markdown",
      "metadata": {
        "id": "YWnuBVptgNk_"
      },
      "source": [
        "### Handling missing values"
      ]
    },
    {
      "cell_type": "code",
      "execution_count": 115,
      "metadata": {
        "colab": {
          "base_uri": "https://localhost:8080/"
        },
        "id": "YNV4s602e11P",
        "outputId": "ae2b6672-29e5-4b0c-d652-f9d2ea84e5da"
      },
      "outputs": [
        {
          "output_type": "execute_result",
          "data": {
            "text/plain": [
              "gender               0\n",
              "SeniorCitizen        0\n",
              "Partner              0\n",
              "Dependents           0\n",
              "tenure               0\n",
              "PhoneService         0\n",
              "MultipleLines        0\n",
              "InternetService      0\n",
              "OnlineSecurity       0\n",
              "OnlineBackup         0\n",
              "DeviceProtection     0\n",
              "TechSupport          0\n",
              "StreamingTV          0\n",
              "StreamingMovies      0\n",
              "Contract             0\n",
              "PaperlessBilling     0\n",
              "PaymentMethod        0\n",
              "MonthlyCharges       0\n",
              "TotalCharges        11\n",
              "Churn                0\n",
              "dtype: int64"
            ]
          },
          "metadata": {},
          "execution_count": 115
        }
      ],
      "source": [
        "df_dp.isna().sum()"
      ]
    },
    {
      "cell_type": "code",
      "execution_count": 116,
      "metadata": {
        "colab": {
          "base_uri": "https://localhost:8080/"
        },
        "id": "SHhPsic6e8cJ",
        "outputId": "eb17b2c7-f01f-4c2f-ff86-193c7c199359"
      },
      "outputs": [
        {
          "output_type": "execute_result",
          "data": {
            "text/plain": [
              "0.001561834445548772"
            ]
          },
          "metadata": {},
          "execution_count": 116
        }
      ],
      "source": [
        "(11/7043)"
      ]
    },
    {
      "cell_type": "code",
      "execution_count": 117,
      "metadata": {
        "id": "M36p8rnMfD6t"
      },
      "outputs": [],
      "source": [
        "# Drop the missing values\n",
        "df_dp.dropna(inplace=True)"
      ]
    },
    {
      "cell_type": "code",
      "execution_count": 118,
      "metadata": {
        "colab": {
          "base_uri": "https://localhost:8080/"
        },
        "id": "bi-AXsUKfMxk",
        "outputId": "50b3be1a-36b2-4510-86d5-0a1bb9c075c5"
      },
      "outputs": [
        {
          "output_type": "execute_result",
          "data": {
            "text/plain": [
              "gender              0\n",
              "SeniorCitizen       0\n",
              "Partner             0\n",
              "Dependents          0\n",
              "tenure              0\n",
              "PhoneService        0\n",
              "MultipleLines       0\n",
              "InternetService     0\n",
              "OnlineSecurity      0\n",
              "OnlineBackup        0\n",
              "DeviceProtection    0\n",
              "TechSupport         0\n",
              "StreamingTV         0\n",
              "StreamingMovies     0\n",
              "Contract            0\n",
              "PaperlessBilling    0\n",
              "PaymentMethod       0\n",
              "MonthlyCharges      0\n",
              "TotalCharges        0\n",
              "Churn               0\n",
              "dtype: int64"
            ]
          },
          "metadata": {},
          "execution_count": 118
        }
      ],
      "source": [
        "df_dp.isna().sum()"
      ]
    },
    {
      "cell_type": "markdown",
      "metadata": {
        "id": "DrdI91XafhYk"
      },
      "source": [
        "Now, there are no missing values in the data set. "
      ]
    },
    {
      "cell_type": "markdown",
      "metadata": {
        "id": "0AbAzzvigYhN"
      },
      "source": [
        "### Encoding categorical data"
      ]
    },
    {
      "cell_type": "code",
      "execution_count": 119,
      "metadata": {
        "colab": {
          "base_uri": "https://localhost:8080/",
          "height": 0
        },
        "id": "J1ANN4cChNrC",
        "outputId": "00abe64e-49cd-4a2f-fd29-622c59569082"
      },
      "outputs": [
        {
          "output_type": "execute_result",
          "data": {
            "text/plain": [
              "   gender  SeniorCitizen Partner Dependents  tenure PhoneService  \\\n",
              "0  Female              0     Yes         No       1           No   \n",
              "1    Male              0      No         No      34          Yes   \n",
              "2    Male              0      No         No       2          Yes   \n",
              "3    Male              0      No         No      45           No   \n",
              "4  Female              0      No         No       2          Yes   \n",
              "\n",
              "      MultipleLines InternetService OnlineSecurity OnlineBackup  \\\n",
              "0  No phone service             DSL             No          Yes   \n",
              "1                No             DSL            Yes           No   \n",
              "2                No             DSL            Yes          Yes   \n",
              "3  No phone service             DSL            Yes           No   \n",
              "4                No     Fiber optic             No           No   \n",
              "\n",
              "  DeviceProtection TechSupport StreamingTV StreamingMovies        Contract  \\\n",
              "0               No          No          No              No  Month-to-month   \n",
              "1              Yes          No          No              No        One year   \n",
              "2               No          No          No              No  Month-to-month   \n",
              "3              Yes         Yes          No              No        One year   \n",
              "4               No          No          No              No  Month-to-month   \n",
              "\n",
              "  PaperlessBilling              PaymentMethod  MonthlyCharges  TotalCharges  \\\n",
              "0              Yes           Electronic check           29.85         29.85   \n",
              "1               No               Mailed check           56.95       1889.50   \n",
              "2              Yes               Mailed check           53.85        108.15   \n",
              "3               No  Bank transfer (automatic)           42.30       1840.75   \n",
              "4              Yes           Electronic check           70.70        151.65   \n",
              "\n",
              "  Churn  \n",
              "0    No  \n",
              "1    No  \n",
              "2   Yes  \n",
              "3    No  \n",
              "4   Yes  "
            ],
            "text/html": [
              "\n",
              "  <div id=\"df-9ce9fa99-166d-415b-9be4-7b500a12dd08\">\n",
              "    <div class=\"colab-df-container\">\n",
              "      <div>\n",
              "<style scoped>\n",
              "    .dataframe tbody tr th:only-of-type {\n",
              "        vertical-align: middle;\n",
              "    }\n",
              "\n",
              "    .dataframe tbody tr th {\n",
              "        vertical-align: top;\n",
              "    }\n",
              "\n",
              "    .dataframe thead th {\n",
              "        text-align: right;\n",
              "    }\n",
              "</style>\n",
              "<table border=\"1\" class=\"dataframe\">\n",
              "  <thead>\n",
              "    <tr style=\"text-align: right;\">\n",
              "      <th></th>\n",
              "      <th>gender</th>\n",
              "      <th>SeniorCitizen</th>\n",
              "      <th>Partner</th>\n",
              "      <th>Dependents</th>\n",
              "      <th>tenure</th>\n",
              "      <th>PhoneService</th>\n",
              "      <th>MultipleLines</th>\n",
              "      <th>InternetService</th>\n",
              "      <th>OnlineSecurity</th>\n",
              "      <th>OnlineBackup</th>\n",
              "      <th>DeviceProtection</th>\n",
              "      <th>TechSupport</th>\n",
              "      <th>StreamingTV</th>\n",
              "      <th>StreamingMovies</th>\n",
              "      <th>Contract</th>\n",
              "      <th>PaperlessBilling</th>\n",
              "      <th>PaymentMethod</th>\n",
              "      <th>MonthlyCharges</th>\n",
              "      <th>TotalCharges</th>\n",
              "      <th>Churn</th>\n",
              "    </tr>\n",
              "  </thead>\n",
              "  <tbody>\n",
              "    <tr>\n",
              "      <th>0</th>\n",
              "      <td>Female</td>\n",
              "      <td>0</td>\n",
              "      <td>Yes</td>\n",
              "      <td>No</td>\n",
              "      <td>1</td>\n",
              "      <td>No</td>\n",
              "      <td>No phone service</td>\n",
              "      <td>DSL</td>\n",
              "      <td>No</td>\n",
              "      <td>Yes</td>\n",
              "      <td>No</td>\n",
              "      <td>No</td>\n",
              "      <td>No</td>\n",
              "      <td>No</td>\n",
              "      <td>Month-to-month</td>\n",
              "      <td>Yes</td>\n",
              "      <td>Electronic check</td>\n",
              "      <td>29.85</td>\n",
              "      <td>29.85</td>\n",
              "      <td>No</td>\n",
              "    </tr>\n",
              "    <tr>\n",
              "      <th>1</th>\n",
              "      <td>Male</td>\n",
              "      <td>0</td>\n",
              "      <td>No</td>\n",
              "      <td>No</td>\n",
              "      <td>34</td>\n",
              "      <td>Yes</td>\n",
              "      <td>No</td>\n",
              "      <td>DSL</td>\n",
              "      <td>Yes</td>\n",
              "      <td>No</td>\n",
              "      <td>Yes</td>\n",
              "      <td>No</td>\n",
              "      <td>No</td>\n",
              "      <td>No</td>\n",
              "      <td>One year</td>\n",
              "      <td>No</td>\n",
              "      <td>Mailed check</td>\n",
              "      <td>56.95</td>\n",
              "      <td>1889.50</td>\n",
              "      <td>No</td>\n",
              "    </tr>\n",
              "    <tr>\n",
              "      <th>2</th>\n",
              "      <td>Male</td>\n",
              "      <td>0</td>\n",
              "      <td>No</td>\n",
              "      <td>No</td>\n",
              "      <td>2</td>\n",
              "      <td>Yes</td>\n",
              "      <td>No</td>\n",
              "      <td>DSL</td>\n",
              "      <td>Yes</td>\n",
              "      <td>Yes</td>\n",
              "      <td>No</td>\n",
              "      <td>No</td>\n",
              "      <td>No</td>\n",
              "      <td>No</td>\n",
              "      <td>Month-to-month</td>\n",
              "      <td>Yes</td>\n",
              "      <td>Mailed check</td>\n",
              "      <td>53.85</td>\n",
              "      <td>108.15</td>\n",
              "      <td>Yes</td>\n",
              "    </tr>\n",
              "    <tr>\n",
              "      <th>3</th>\n",
              "      <td>Male</td>\n",
              "      <td>0</td>\n",
              "      <td>No</td>\n",
              "      <td>No</td>\n",
              "      <td>45</td>\n",
              "      <td>No</td>\n",
              "      <td>No phone service</td>\n",
              "      <td>DSL</td>\n",
              "      <td>Yes</td>\n",
              "      <td>No</td>\n",
              "      <td>Yes</td>\n",
              "      <td>Yes</td>\n",
              "      <td>No</td>\n",
              "      <td>No</td>\n",
              "      <td>One year</td>\n",
              "      <td>No</td>\n",
              "      <td>Bank transfer (automatic)</td>\n",
              "      <td>42.30</td>\n",
              "      <td>1840.75</td>\n",
              "      <td>No</td>\n",
              "    </tr>\n",
              "    <tr>\n",
              "      <th>4</th>\n",
              "      <td>Female</td>\n",
              "      <td>0</td>\n",
              "      <td>No</td>\n",
              "      <td>No</td>\n",
              "      <td>2</td>\n",
              "      <td>Yes</td>\n",
              "      <td>No</td>\n",
              "      <td>Fiber optic</td>\n",
              "      <td>No</td>\n",
              "      <td>No</td>\n",
              "      <td>No</td>\n",
              "      <td>No</td>\n",
              "      <td>No</td>\n",
              "      <td>No</td>\n",
              "      <td>Month-to-month</td>\n",
              "      <td>Yes</td>\n",
              "      <td>Electronic check</td>\n",
              "      <td>70.70</td>\n",
              "      <td>151.65</td>\n",
              "      <td>Yes</td>\n",
              "    </tr>\n",
              "  </tbody>\n",
              "</table>\n",
              "</div>\n",
              "      <button class=\"colab-df-convert\" onclick=\"convertToInteractive('df-9ce9fa99-166d-415b-9be4-7b500a12dd08')\"\n",
              "              title=\"Convert this dataframe to an interactive table.\"\n",
              "              style=\"display:none;\">\n",
              "        \n",
              "  <svg xmlns=\"http://www.w3.org/2000/svg\" height=\"24px\"viewBox=\"0 0 24 24\"\n",
              "       width=\"24px\">\n",
              "    <path d=\"M0 0h24v24H0V0z\" fill=\"none\"/>\n",
              "    <path d=\"M18.56 5.44l.94 2.06.94-2.06 2.06-.94-2.06-.94-.94-2.06-.94 2.06-2.06.94zm-11 1L8.5 8.5l.94-2.06 2.06-.94-2.06-.94L8.5 2.5l-.94 2.06-2.06.94zm10 10l.94 2.06.94-2.06 2.06-.94-2.06-.94-.94-2.06-.94 2.06-2.06.94z\"/><path d=\"M17.41 7.96l-1.37-1.37c-.4-.4-.92-.59-1.43-.59-.52 0-1.04.2-1.43.59L10.3 9.45l-7.72 7.72c-.78.78-.78 2.05 0 2.83L4 21.41c.39.39.9.59 1.41.59.51 0 1.02-.2 1.41-.59l7.78-7.78 2.81-2.81c.8-.78.8-2.07 0-2.86zM5.41 20L4 18.59l7.72-7.72 1.47 1.35L5.41 20z\"/>\n",
              "  </svg>\n",
              "      </button>\n",
              "      \n",
              "  <style>\n",
              "    .colab-df-container {\n",
              "      display:flex;\n",
              "      flex-wrap:wrap;\n",
              "      gap: 12px;\n",
              "    }\n",
              "\n",
              "    .colab-df-convert {\n",
              "      background-color: #E8F0FE;\n",
              "      border: none;\n",
              "      border-radius: 50%;\n",
              "      cursor: pointer;\n",
              "      display: none;\n",
              "      fill: #1967D2;\n",
              "      height: 32px;\n",
              "      padding: 0 0 0 0;\n",
              "      width: 32px;\n",
              "    }\n",
              "\n",
              "    .colab-df-convert:hover {\n",
              "      background-color: #E2EBFA;\n",
              "      box-shadow: 0px 1px 2px rgba(60, 64, 67, 0.3), 0px 1px 3px 1px rgba(60, 64, 67, 0.15);\n",
              "      fill: #174EA6;\n",
              "    }\n",
              "\n",
              "    [theme=dark] .colab-df-convert {\n",
              "      background-color: #3B4455;\n",
              "      fill: #D2E3FC;\n",
              "    }\n",
              "\n",
              "    [theme=dark] .colab-df-convert:hover {\n",
              "      background-color: #434B5C;\n",
              "      box-shadow: 0px 1px 3px 1px rgba(0, 0, 0, 0.15);\n",
              "      filter: drop-shadow(0px 1px 2px rgba(0, 0, 0, 0.3));\n",
              "      fill: #FFFFFF;\n",
              "    }\n",
              "  </style>\n",
              "\n",
              "      <script>\n",
              "        const buttonEl =\n",
              "          document.querySelector('#df-9ce9fa99-166d-415b-9be4-7b500a12dd08 button.colab-df-convert');\n",
              "        buttonEl.style.display =\n",
              "          google.colab.kernel.accessAllowed ? 'block' : 'none';\n",
              "\n",
              "        async function convertToInteractive(key) {\n",
              "          const element = document.querySelector('#df-9ce9fa99-166d-415b-9be4-7b500a12dd08');\n",
              "          const dataTable =\n",
              "            await google.colab.kernel.invokeFunction('convertToInteractive',\n",
              "                                                     [key], {});\n",
              "          if (!dataTable) return;\n",
              "\n",
              "          const docLinkHtml = 'Like what you see? Visit the ' +\n",
              "            '<a target=\"_blank\" href=https://colab.research.google.com/notebooks/data_table.ipynb>data table notebook</a>'\n",
              "            + ' to learn more about interactive tables.';\n",
              "          element.innerHTML = '';\n",
              "          dataTable['output_type'] = 'display_data';\n",
              "          await google.colab.output.renderOutput(dataTable, element);\n",
              "          const docLink = document.createElement('div');\n",
              "          docLink.innerHTML = docLinkHtml;\n",
              "          element.appendChild(docLink);\n",
              "        }\n",
              "      </script>\n",
              "    </div>\n",
              "  </div>\n",
              "  "
            ]
          },
          "metadata": {},
          "execution_count": 119
        }
      ],
      "source": [
        "df_dp.head()"
      ]
    },
    {
      "cell_type": "code",
      "execution_count": 120,
      "metadata": {
        "colab": {
          "base_uri": "https://localhost:8080/"
        },
        "id": "R8Ornejrho90",
        "outputId": "8abc325a-bf78-4722-fdd9-ee240a93aaf3"
      },
      "outputs": [
        {
          "output_type": "execute_result",
          "data": {
            "text/plain": [
              "gender                 2\n",
              "SeniorCitizen          2\n",
              "Partner                2\n",
              "Dependents             2\n",
              "tenure                72\n",
              "PhoneService           2\n",
              "MultipleLines          3\n",
              "InternetService        3\n",
              "OnlineSecurity         3\n",
              "OnlineBackup           3\n",
              "DeviceProtection       3\n",
              "TechSupport            3\n",
              "StreamingTV            3\n",
              "StreamingMovies        3\n",
              "Contract               3\n",
              "PaperlessBilling       2\n",
              "PaymentMethod          4\n",
              "MonthlyCharges      1584\n",
              "TotalCharges        6530\n",
              "Churn                  2\n",
              "dtype: int64"
            ]
          },
          "metadata": {},
          "execution_count": 120
        }
      ],
      "source": [
        "df_dp.nunique()"
      ]
    },
    {
      "cell_type": "code",
      "execution_count": 121,
      "metadata": {
        "colab": {
          "base_uri": "https://localhost:8080/"
        },
        "id": "03nwUotZg5Au",
        "outputId": "ec92ba8f-8625-48fb-b371-2c09b701f0bf"
      },
      "outputs": [
        {
          "output_type": "execute_result",
          "data": {
            "text/plain": [
              "['Partner', 'Dependents', 'PhoneService', 'PaperlessBilling', 'Churn']"
            ]
          },
          "metadata": {},
          "execution_count": 121
        }
      ],
      "source": [
        "# Binary column: variables that contain only two variables.\n",
        "binary_columns = df_dp.nunique()[df_dp.nunique() < 3].index.to_list()\n",
        "binary_columns.remove(\"gender\")\n",
        "binary_columns.remove(\"SeniorCitizen\")\n",
        "binary_columns"
      ]
    },
    {
      "cell_type": "code",
      "execution_count": 122,
      "metadata": {
        "colab": {
          "base_uri": "https://localhost:8080/",
          "height": 0
        },
        "id": "gvUtAlhdirff",
        "outputId": "438da2ea-20e8-4d0c-9dac-28d3e9c7b556"
      },
      "outputs": [
        {
          "output_type": "execute_result",
          "data": {
            "text/plain": [
              "     Partner Dependents PhoneService PaperlessBilling Churn\n",
              "0        Yes         No           No              Yes    No\n",
              "1         No         No          Yes               No    No\n",
              "2         No         No          Yes              Yes   Yes\n",
              "3         No         No           No               No    No\n",
              "4         No         No          Yes              Yes   Yes\n",
              "...      ...        ...          ...              ...   ...\n",
              "7038     Yes        Yes          Yes              Yes    No\n",
              "7039     Yes        Yes          Yes              Yes    No\n",
              "7040     Yes        Yes           No              Yes    No\n",
              "7041     Yes         No          Yes              Yes   Yes\n",
              "7042      No         No          Yes              Yes    No\n",
              "\n",
              "[7032 rows x 5 columns]"
            ],
            "text/html": [
              "\n",
              "  <div id=\"df-0100cc46-d376-4325-91b9-1bd49d4148dc\">\n",
              "    <div class=\"colab-df-container\">\n",
              "      <div>\n",
              "<style scoped>\n",
              "    .dataframe tbody tr th:only-of-type {\n",
              "        vertical-align: middle;\n",
              "    }\n",
              "\n",
              "    .dataframe tbody tr th {\n",
              "        vertical-align: top;\n",
              "    }\n",
              "\n",
              "    .dataframe thead th {\n",
              "        text-align: right;\n",
              "    }\n",
              "</style>\n",
              "<table border=\"1\" class=\"dataframe\">\n",
              "  <thead>\n",
              "    <tr style=\"text-align: right;\">\n",
              "      <th></th>\n",
              "      <th>Partner</th>\n",
              "      <th>Dependents</th>\n",
              "      <th>PhoneService</th>\n",
              "      <th>PaperlessBilling</th>\n",
              "      <th>Churn</th>\n",
              "    </tr>\n",
              "  </thead>\n",
              "  <tbody>\n",
              "    <tr>\n",
              "      <th>0</th>\n",
              "      <td>Yes</td>\n",
              "      <td>No</td>\n",
              "      <td>No</td>\n",
              "      <td>Yes</td>\n",
              "      <td>No</td>\n",
              "    </tr>\n",
              "    <tr>\n",
              "      <th>1</th>\n",
              "      <td>No</td>\n",
              "      <td>No</td>\n",
              "      <td>Yes</td>\n",
              "      <td>No</td>\n",
              "      <td>No</td>\n",
              "    </tr>\n",
              "    <tr>\n",
              "      <th>2</th>\n",
              "      <td>No</td>\n",
              "      <td>No</td>\n",
              "      <td>Yes</td>\n",
              "      <td>Yes</td>\n",
              "      <td>Yes</td>\n",
              "    </tr>\n",
              "    <tr>\n",
              "      <th>3</th>\n",
              "      <td>No</td>\n",
              "      <td>No</td>\n",
              "      <td>No</td>\n",
              "      <td>No</td>\n",
              "      <td>No</td>\n",
              "    </tr>\n",
              "    <tr>\n",
              "      <th>4</th>\n",
              "      <td>No</td>\n",
              "      <td>No</td>\n",
              "      <td>Yes</td>\n",
              "      <td>Yes</td>\n",
              "      <td>Yes</td>\n",
              "    </tr>\n",
              "    <tr>\n",
              "      <th>...</th>\n",
              "      <td>...</td>\n",
              "      <td>...</td>\n",
              "      <td>...</td>\n",
              "      <td>...</td>\n",
              "      <td>...</td>\n",
              "    </tr>\n",
              "    <tr>\n",
              "      <th>7038</th>\n",
              "      <td>Yes</td>\n",
              "      <td>Yes</td>\n",
              "      <td>Yes</td>\n",
              "      <td>Yes</td>\n",
              "      <td>No</td>\n",
              "    </tr>\n",
              "    <tr>\n",
              "      <th>7039</th>\n",
              "      <td>Yes</td>\n",
              "      <td>Yes</td>\n",
              "      <td>Yes</td>\n",
              "      <td>Yes</td>\n",
              "      <td>No</td>\n",
              "    </tr>\n",
              "    <tr>\n",
              "      <th>7040</th>\n",
              "      <td>Yes</td>\n",
              "      <td>Yes</td>\n",
              "      <td>No</td>\n",
              "      <td>Yes</td>\n",
              "      <td>No</td>\n",
              "    </tr>\n",
              "    <tr>\n",
              "      <th>7041</th>\n",
              "      <td>Yes</td>\n",
              "      <td>No</td>\n",
              "      <td>Yes</td>\n",
              "      <td>Yes</td>\n",
              "      <td>Yes</td>\n",
              "    </tr>\n",
              "    <tr>\n",
              "      <th>7042</th>\n",
              "      <td>No</td>\n",
              "      <td>No</td>\n",
              "      <td>Yes</td>\n",
              "      <td>Yes</td>\n",
              "      <td>No</td>\n",
              "    </tr>\n",
              "  </tbody>\n",
              "</table>\n",
              "<p>7032 rows × 5 columns</p>\n",
              "</div>\n",
              "      <button class=\"colab-df-convert\" onclick=\"convertToInteractive('df-0100cc46-d376-4325-91b9-1bd49d4148dc')\"\n",
              "              title=\"Convert this dataframe to an interactive table.\"\n",
              "              style=\"display:none;\">\n",
              "        \n",
              "  <svg xmlns=\"http://www.w3.org/2000/svg\" height=\"24px\"viewBox=\"0 0 24 24\"\n",
              "       width=\"24px\">\n",
              "    <path d=\"M0 0h24v24H0V0z\" fill=\"none\"/>\n",
              "    <path d=\"M18.56 5.44l.94 2.06.94-2.06 2.06-.94-2.06-.94-.94-2.06-.94 2.06-2.06.94zm-11 1L8.5 8.5l.94-2.06 2.06-.94-2.06-.94L8.5 2.5l-.94 2.06-2.06.94zm10 10l.94 2.06.94-2.06 2.06-.94-2.06-.94-.94-2.06-.94 2.06-2.06.94z\"/><path d=\"M17.41 7.96l-1.37-1.37c-.4-.4-.92-.59-1.43-.59-.52 0-1.04.2-1.43.59L10.3 9.45l-7.72 7.72c-.78.78-.78 2.05 0 2.83L4 21.41c.39.39.9.59 1.41.59.51 0 1.02-.2 1.41-.59l7.78-7.78 2.81-2.81c.8-.78.8-2.07 0-2.86zM5.41 20L4 18.59l7.72-7.72 1.47 1.35L5.41 20z\"/>\n",
              "  </svg>\n",
              "      </button>\n",
              "      \n",
              "  <style>\n",
              "    .colab-df-container {\n",
              "      display:flex;\n",
              "      flex-wrap:wrap;\n",
              "      gap: 12px;\n",
              "    }\n",
              "\n",
              "    .colab-df-convert {\n",
              "      background-color: #E8F0FE;\n",
              "      border: none;\n",
              "      border-radius: 50%;\n",
              "      cursor: pointer;\n",
              "      display: none;\n",
              "      fill: #1967D2;\n",
              "      height: 32px;\n",
              "      padding: 0 0 0 0;\n",
              "      width: 32px;\n",
              "    }\n",
              "\n",
              "    .colab-df-convert:hover {\n",
              "      background-color: #E2EBFA;\n",
              "      box-shadow: 0px 1px 2px rgba(60, 64, 67, 0.3), 0px 1px 3px 1px rgba(60, 64, 67, 0.15);\n",
              "      fill: #174EA6;\n",
              "    }\n",
              "\n",
              "    [theme=dark] .colab-df-convert {\n",
              "      background-color: #3B4455;\n",
              "      fill: #D2E3FC;\n",
              "    }\n",
              "\n",
              "    [theme=dark] .colab-df-convert:hover {\n",
              "      background-color: #434B5C;\n",
              "      box-shadow: 0px 1px 3px 1px rgba(0, 0, 0, 0.15);\n",
              "      filter: drop-shadow(0px 1px 2px rgba(0, 0, 0, 0.3));\n",
              "      fill: #FFFFFF;\n",
              "    }\n",
              "  </style>\n",
              "\n",
              "      <script>\n",
              "        const buttonEl =\n",
              "          document.querySelector('#df-0100cc46-d376-4325-91b9-1bd49d4148dc button.colab-df-convert');\n",
              "        buttonEl.style.display =\n",
              "          google.colab.kernel.accessAllowed ? 'block' : 'none';\n",
              "\n",
              "        async function convertToInteractive(key) {\n",
              "          const element = document.querySelector('#df-0100cc46-d376-4325-91b9-1bd49d4148dc');\n",
              "          const dataTable =\n",
              "            await google.colab.kernel.invokeFunction('convertToInteractive',\n",
              "                                                     [key], {});\n",
              "          if (!dataTable) return;\n",
              "\n",
              "          const docLinkHtml = 'Like what you see? Visit the ' +\n",
              "            '<a target=\"_blank\" href=https://colab.research.google.com/notebooks/data_table.ipynb>data table notebook</a>'\n",
              "            + ' to learn more about interactive tables.';\n",
              "          element.innerHTML = '';\n",
              "          dataTable['output_type'] = 'display_data';\n",
              "          await google.colab.output.renderOutput(dataTable, element);\n",
              "          const docLink = document.createElement('div');\n",
              "          docLink.innerHTML = docLinkHtml;\n",
              "          element.appendChild(docLink);\n",
              "        }\n",
              "      </script>\n",
              "    </div>\n",
              "  </div>\n",
              "  "
            ]
          },
          "metadata": {},
          "execution_count": 122
        }
      ],
      "source": [
        "df_dp[binary_columns]"
      ]
    },
    {
      "cell_type": "code",
      "execution_count": 123,
      "metadata": {
        "id": "ximgZcxqiybd"
      },
      "outputs": [],
      "source": [
        "for column in binary_columns:\n",
        "    df_dp[column] = df_dp[column].apply(lambda row: 1 if row == \"Yes\" else 0)"
      ]
    },
    {
      "cell_type": "code",
      "execution_count": 124,
      "metadata": {
        "colab": {
          "base_uri": "https://localhost:8080/",
          "height": 0
        },
        "id": "Nt0QD_0PjU2X",
        "outputId": "19ecd35f-d757-4c81-8091-aa6d0f1d9979"
      },
      "outputs": [
        {
          "output_type": "execute_result",
          "data": {
            "text/plain": [
              "      Partner  Dependents  PhoneService  PaperlessBilling  Churn\n",
              "0           1           0             0                 1      0\n",
              "1           0           0             1                 0      0\n",
              "2           0           0             1                 1      1\n",
              "3           0           0             0                 0      0\n",
              "4           0           0             1                 1      1\n",
              "...       ...         ...           ...               ...    ...\n",
              "7038        1           1             1                 1      0\n",
              "7039        1           1             1                 1      0\n",
              "7040        1           1             0                 1      0\n",
              "7041        1           0             1                 1      1\n",
              "7042        0           0             1                 1      0\n",
              "\n",
              "[7032 rows x 5 columns]"
            ],
            "text/html": [
              "\n",
              "  <div id=\"df-cec8b2eb-1e2c-4ab3-8988-af6cafd0962c\">\n",
              "    <div class=\"colab-df-container\">\n",
              "      <div>\n",
              "<style scoped>\n",
              "    .dataframe tbody tr th:only-of-type {\n",
              "        vertical-align: middle;\n",
              "    }\n",
              "\n",
              "    .dataframe tbody tr th {\n",
              "        vertical-align: top;\n",
              "    }\n",
              "\n",
              "    .dataframe thead th {\n",
              "        text-align: right;\n",
              "    }\n",
              "</style>\n",
              "<table border=\"1\" class=\"dataframe\">\n",
              "  <thead>\n",
              "    <tr style=\"text-align: right;\">\n",
              "      <th></th>\n",
              "      <th>Partner</th>\n",
              "      <th>Dependents</th>\n",
              "      <th>PhoneService</th>\n",
              "      <th>PaperlessBilling</th>\n",
              "      <th>Churn</th>\n",
              "    </tr>\n",
              "  </thead>\n",
              "  <tbody>\n",
              "    <tr>\n",
              "      <th>0</th>\n",
              "      <td>1</td>\n",
              "      <td>0</td>\n",
              "      <td>0</td>\n",
              "      <td>1</td>\n",
              "      <td>0</td>\n",
              "    </tr>\n",
              "    <tr>\n",
              "      <th>1</th>\n",
              "      <td>0</td>\n",
              "      <td>0</td>\n",
              "      <td>1</td>\n",
              "      <td>0</td>\n",
              "      <td>0</td>\n",
              "    </tr>\n",
              "    <tr>\n",
              "      <th>2</th>\n",
              "      <td>0</td>\n",
              "      <td>0</td>\n",
              "      <td>1</td>\n",
              "      <td>1</td>\n",
              "      <td>1</td>\n",
              "    </tr>\n",
              "    <tr>\n",
              "      <th>3</th>\n",
              "      <td>0</td>\n",
              "      <td>0</td>\n",
              "      <td>0</td>\n",
              "      <td>0</td>\n",
              "      <td>0</td>\n",
              "    </tr>\n",
              "    <tr>\n",
              "      <th>4</th>\n",
              "      <td>0</td>\n",
              "      <td>0</td>\n",
              "      <td>1</td>\n",
              "      <td>1</td>\n",
              "      <td>1</td>\n",
              "    </tr>\n",
              "    <tr>\n",
              "      <th>...</th>\n",
              "      <td>...</td>\n",
              "      <td>...</td>\n",
              "      <td>...</td>\n",
              "      <td>...</td>\n",
              "      <td>...</td>\n",
              "    </tr>\n",
              "    <tr>\n",
              "      <th>7038</th>\n",
              "      <td>1</td>\n",
              "      <td>1</td>\n",
              "      <td>1</td>\n",
              "      <td>1</td>\n",
              "      <td>0</td>\n",
              "    </tr>\n",
              "    <tr>\n",
              "      <th>7039</th>\n",
              "      <td>1</td>\n",
              "      <td>1</td>\n",
              "      <td>1</td>\n",
              "      <td>1</td>\n",
              "      <td>0</td>\n",
              "    </tr>\n",
              "    <tr>\n",
              "      <th>7040</th>\n",
              "      <td>1</td>\n",
              "      <td>1</td>\n",
              "      <td>0</td>\n",
              "      <td>1</td>\n",
              "      <td>0</td>\n",
              "    </tr>\n",
              "    <tr>\n",
              "      <th>7041</th>\n",
              "      <td>1</td>\n",
              "      <td>0</td>\n",
              "      <td>1</td>\n",
              "      <td>1</td>\n",
              "      <td>1</td>\n",
              "    </tr>\n",
              "    <tr>\n",
              "      <th>7042</th>\n",
              "      <td>0</td>\n",
              "      <td>0</td>\n",
              "      <td>1</td>\n",
              "      <td>1</td>\n",
              "      <td>0</td>\n",
              "    </tr>\n",
              "  </tbody>\n",
              "</table>\n",
              "<p>7032 rows × 5 columns</p>\n",
              "</div>\n",
              "      <button class=\"colab-df-convert\" onclick=\"convertToInteractive('df-cec8b2eb-1e2c-4ab3-8988-af6cafd0962c')\"\n",
              "              title=\"Convert this dataframe to an interactive table.\"\n",
              "              style=\"display:none;\">\n",
              "        \n",
              "  <svg xmlns=\"http://www.w3.org/2000/svg\" height=\"24px\"viewBox=\"0 0 24 24\"\n",
              "       width=\"24px\">\n",
              "    <path d=\"M0 0h24v24H0V0z\" fill=\"none\"/>\n",
              "    <path d=\"M18.56 5.44l.94 2.06.94-2.06 2.06-.94-2.06-.94-.94-2.06-.94 2.06-2.06.94zm-11 1L8.5 8.5l.94-2.06 2.06-.94-2.06-.94L8.5 2.5l-.94 2.06-2.06.94zm10 10l.94 2.06.94-2.06 2.06-.94-2.06-.94-.94-2.06-.94 2.06-2.06.94z\"/><path d=\"M17.41 7.96l-1.37-1.37c-.4-.4-.92-.59-1.43-.59-.52 0-1.04.2-1.43.59L10.3 9.45l-7.72 7.72c-.78.78-.78 2.05 0 2.83L4 21.41c.39.39.9.59 1.41.59.51 0 1.02-.2 1.41-.59l7.78-7.78 2.81-2.81c.8-.78.8-2.07 0-2.86zM5.41 20L4 18.59l7.72-7.72 1.47 1.35L5.41 20z\"/>\n",
              "  </svg>\n",
              "      </button>\n",
              "      \n",
              "  <style>\n",
              "    .colab-df-container {\n",
              "      display:flex;\n",
              "      flex-wrap:wrap;\n",
              "      gap: 12px;\n",
              "    }\n",
              "\n",
              "    .colab-df-convert {\n",
              "      background-color: #E8F0FE;\n",
              "      border: none;\n",
              "      border-radius: 50%;\n",
              "      cursor: pointer;\n",
              "      display: none;\n",
              "      fill: #1967D2;\n",
              "      height: 32px;\n",
              "      padding: 0 0 0 0;\n",
              "      width: 32px;\n",
              "    }\n",
              "\n",
              "    .colab-df-convert:hover {\n",
              "      background-color: #E2EBFA;\n",
              "      box-shadow: 0px 1px 2px rgba(60, 64, 67, 0.3), 0px 1px 3px 1px rgba(60, 64, 67, 0.15);\n",
              "      fill: #174EA6;\n",
              "    }\n",
              "\n",
              "    [theme=dark] .colab-df-convert {\n",
              "      background-color: #3B4455;\n",
              "      fill: #D2E3FC;\n",
              "    }\n",
              "\n",
              "    [theme=dark] .colab-df-convert:hover {\n",
              "      background-color: #434B5C;\n",
              "      box-shadow: 0px 1px 3px 1px rgba(0, 0, 0, 0.15);\n",
              "      filter: drop-shadow(0px 1px 2px rgba(0, 0, 0, 0.3));\n",
              "      fill: #FFFFFF;\n",
              "    }\n",
              "  </style>\n",
              "\n",
              "      <script>\n",
              "        const buttonEl =\n",
              "          document.querySelector('#df-cec8b2eb-1e2c-4ab3-8988-af6cafd0962c button.colab-df-convert');\n",
              "        buttonEl.style.display =\n",
              "          google.colab.kernel.accessAllowed ? 'block' : 'none';\n",
              "\n",
              "        async function convertToInteractive(key) {\n",
              "          const element = document.querySelector('#df-cec8b2eb-1e2c-4ab3-8988-af6cafd0962c');\n",
              "          const dataTable =\n",
              "            await google.colab.kernel.invokeFunction('convertToInteractive',\n",
              "                                                     [key], {});\n",
              "          if (!dataTable) return;\n",
              "\n",
              "          const docLinkHtml = 'Like what you see? Visit the ' +\n",
              "            '<a target=\"_blank\" href=https://colab.research.google.com/notebooks/data_table.ipynb>data table notebook</a>'\n",
              "            + ' to learn more about interactive tables.';\n",
              "          element.innerHTML = '';\n",
              "          dataTable['output_type'] = 'display_data';\n",
              "          await google.colab.output.renderOutput(dataTable, element);\n",
              "          const docLink = document.createElement('div');\n",
              "          docLink.innerHTML = docLinkHtml;\n",
              "          element.appendChild(docLink);\n",
              "        }\n",
              "      </script>\n",
              "    </div>\n",
              "  </div>\n",
              "  "
            ]
          },
          "metadata": {},
          "execution_count": 124
        }
      ],
      "source": [
        "df_dp[binary_columns]"
      ]
    },
    {
      "cell_type": "code",
      "execution_count": 125,
      "metadata": {
        "id": "gLOGc_Dyjb-V"
      },
      "outputs": [],
      "source": [
        "df_dp[\"gender\"] = df_dp[\"gender\"].apply(lambda row: 1 if row == \"Female\" else 0)"
      ]
    },
    {
      "cell_type": "code",
      "execution_count": 126,
      "metadata": {
        "colab": {
          "base_uri": "https://localhost:8080/"
        },
        "id": "RDhYnVklj5tr",
        "outputId": "05d70299-f97b-4516-c6cb-39627011ed9f"
      },
      "outputs": [
        {
          "output_type": "stream",
          "name": "stdout",
          "text": [
            "<class 'pandas.core.frame.DataFrame'>\n",
            "Int64Index: 7032 entries, 0 to 7042\n",
            "Data columns (total 20 columns):\n",
            " #   Column            Non-Null Count  Dtype  \n",
            "---  ------            --------------  -----  \n",
            " 0   gender            7032 non-null   int64  \n",
            " 1   SeniorCitizen     7032 non-null   int64  \n",
            " 2   Partner           7032 non-null   int64  \n",
            " 3   Dependents        7032 non-null   int64  \n",
            " 4   tenure            7032 non-null   int64  \n",
            " 5   PhoneService      7032 non-null   int64  \n",
            " 6   MultipleLines     7032 non-null   object \n",
            " 7   InternetService   7032 non-null   object \n",
            " 8   OnlineSecurity    7032 non-null   object \n",
            " 9   OnlineBackup      7032 non-null   object \n",
            " 10  DeviceProtection  7032 non-null   object \n",
            " 11  TechSupport       7032 non-null   object \n",
            " 12  StreamingTV       7032 non-null   object \n",
            " 13  StreamingMovies   7032 non-null   object \n",
            " 14  Contract          7032 non-null   object \n",
            " 15  PaperlessBilling  7032 non-null   int64  \n",
            " 16  PaymentMethod     7032 non-null   object \n",
            " 17  MonthlyCharges    7032 non-null   float64\n",
            " 18  TotalCharges      7032 non-null   float64\n",
            " 19  Churn             7032 non-null   int64  \n",
            "dtypes: float64(2), int64(8), object(10)\n",
            "memory usage: 1.1+ MB\n"
          ]
        }
      ],
      "source": [
        "df_dp.info()"
      ]
    },
    {
      "cell_type": "code",
      "execution_count": 127,
      "metadata": {
        "colab": {
          "base_uri": "https://localhost:8080/"
        },
        "id": "KMtiz1xLkLVL",
        "outputId": "97aff139-882a-4f6a-8511-c1e418e4abda"
      },
      "outputs": [
        {
          "output_type": "execute_result",
          "data": {
            "text/plain": [
              "['MultipleLines',\n",
              " 'InternetService',\n",
              " 'OnlineSecurity',\n",
              " 'OnlineBackup',\n",
              " 'DeviceProtection',\n",
              " 'TechSupport',\n",
              " 'StreamingTV',\n",
              " 'StreamingMovies',\n",
              " 'Contract',\n",
              " 'PaymentMethod']"
            ]
          },
          "metadata": {},
          "execution_count": 127
        }
      ],
      "source": [
        "remaining_categorical_columns = df_dp[categorical_variables].nunique()[df_dp[categorical_variables].nunique() > 2].index.to_list()\n",
        "remaining_categorical_columns"
      ]
    },
    {
      "cell_type": "markdown",
      "metadata": {
        "id": "Xqm7Ss3_nbxx"
      },
      "source": [
        "We'll transform these remaining categorical variables with pd.getdummies()."
      ]
    },
    {
      "cell_type": "code",
      "execution_count": 128,
      "metadata": {
        "id": "LvOyI8XYnkgt"
      },
      "outputs": [],
      "source": [
        "remaining_categorical_columns_dummies = pd.get_dummies(data=df_dp[remaining_categorical_columns], columns=remaining_categorical_columns, drop_first=True)"
      ]
    },
    {
      "cell_type": "code",
      "execution_count": 129,
      "metadata": {
        "colab": {
          "base_uri": "https://localhost:8080/",
          "height": 0
        },
        "id": "8NoPMDKSoMcI",
        "outputId": "4db2bdef-a0fa-4c56-fe46-dda766fb7980"
      },
      "outputs": [
        {
          "output_type": "execute_result",
          "data": {
            "text/plain": [
              "   MultipleLines_No phone service  MultipleLines_Yes  \\\n",
              "0                               1                  0   \n",
              "1                               0                  0   \n",
              "2                               0                  0   \n",
              "3                               1                  0   \n",
              "4                               0                  0   \n",
              "\n",
              "   InternetService_Fiber optic  InternetService_No  \\\n",
              "0                            0                   0   \n",
              "1                            0                   0   \n",
              "2                            0                   0   \n",
              "3                            0                   0   \n",
              "4                            1                   0   \n",
              "\n",
              "   OnlineSecurity_No internet service  OnlineSecurity_Yes  \\\n",
              "0                                   0                   0   \n",
              "1                                   0                   1   \n",
              "2                                   0                   1   \n",
              "3                                   0                   1   \n",
              "4                                   0                   0   \n",
              "\n",
              "   OnlineBackup_No internet service  OnlineBackup_Yes  \\\n",
              "0                                 0                 1   \n",
              "1                                 0                 0   \n",
              "2                                 0                 1   \n",
              "3                                 0                 0   \n",
              "4                                 0                 0   \n",
              "\n",
              "   DeviceProtection_No internet service  DeviceProtection_Yes  ...  \\\n",
              "0                                     0                     0  ...   \n",
              "1                                     0                     1  ...   \n",
              "2                                     0                     0  ...   \n",
              "3                                     0                     1  ...   \n",
              "4                                     0                     0  ...   \n",
              "\n",
              "   TechSupport_Yes  StreamingTV_No internet service  StreamingTV_Yes  \\\n",
              "0                0                                0                0   \n",
              "1                0                                0                0   \n",
              "2                0                                0                0   \n",
              "3                1                                0                0   \n",
              "4                0                                0                0   \n",
              "\n",
              "   StreamingMovies_No internet service  StreamingMovies_Yes  \\\n",
              "0                                    0                    0   \n",
              "1                                    0                    0   \n",
              "2                                    0                    0   \n",
              "3                                    0                    0   \n",
              "4                                    0                    0   \n",
              "\n",
              "   Contract_One year  Contract_Two year  \\\n",
              "0                  0                  0   \n",
              "1                  1                  0   \n",
              "2                  0                  0   \n",
              "3                  1                  0   \n",
              "4                  0                  0   \n",
              "\n",
              "   PaymentMethod_Credit card (automatic)  PaymentMethod_Electronic check  \\\n",
              "0                                      0                               1   \n",
              "1                                      0                               0   \n",
              "2                                      0                               0   \n",
              "3                                      0                               0   \n",
              "4                                      0                               1   \n",
              "\n",
              "   PaymentMethod_Mailed check  \n",
              "0                           0  \n",
              "1                           1  \n",
              "2                           1  \n",
              "3                           0  \n",
              "4                           0  \n",
              "\n",
              "[5 rows x 21 columns]"
            ],
            "text/html": [
              "\n",
              "  <div id=\"df-0dc37cd0-12df-4b15-9448-6b8f563ff3be\">\n",
              "    <div class=\"colab-df-container\">\n",
              "      <div>\n",
              "<style scoped>\n",
              "    .dataframe tbody tr th:only-of-type {\n",
              "        vertical-align: middle;\n",
              "    }\n",
              "\n",
              "    .dataframe tbody tr th {\n",
              "        vertical-align: top;\n",
              "    }\n",
              "\n",
              "    .dataframe thead th {\n",
              "        text-align: right;\n",
              "    }\n",
              "</style>\n",
              "<table border=\"1\" class=\"dataframe\">\n",
              "  <thead>\n",
              "    <tr style=\"text-align: right;\">\n",
              "      <th></th>\n",
              "      <th>MultipleLines_No phone service</th>\n",
              "      <th>MultipleLines_Yes</th>\n",
              "      <th>InternetService_Fiber optic</th>\n",
              "      <th>InternetService_No</th>\n",
              "      <th>OnlineSecurity_No internet service</th>\n",
              "      <th>OnlineSecurity_Yes</th>\n",
              "      <th>OnlineBackup_No internet service</th>\n",
              "      <th>OnlineBackup_Yes</th>\n",
              "      <th>DeviceProtection_No internet service</th>\n",
              "      <th>DeviceProtection_Yes</th>\n",
              "      <th>...</th>\n",
              "      <th>TechSupport_Yes</th>\n",
              "      <th>StreamingTV_No internet service</th>\n",
              "      <th>StreamingTV_Yes</th>\n",
              "      <th>StreamingMovies_No internet service</th>\n",
              "      <th>StreamingMovies_Yes</th>\n",
              "      <th>Contract_One year</th>\n",
              "      <th>Contract_Two year</th>\n",
              "      <th>PaymentMethod_Credit card (automatic)</th>\n",
              "      <th>PaymentMethod_Electronic check</th>\n",
              "      <th>PaymentMethod_Mailed check</th>\n",
              "    </tr>\n",
              "  </thead>\n",
              "  <tbody>\n",
              "    <tr>\n",
              "      <th>0</th>\n",
              "      <td>1</td>\n",
              "      <td>0</td>\n",
              "      <td>0</td>\n",
              "      <td>0</td>\n",
              "      <td>0</td>\n",
              "      <td>0</td>\n",
              "      <td>0</td>\n",
              "      <td>1</td>\n",
              "      <td>0</td>\n",
              "      <td>0</td>\n",
              "      <td>...</td>\n",
              "      <td>0</td>\n",
              "      <td>0</td>\n",
              "      <td>0</td>\n",
              "      <td>0</td>\n",
              "      <td>0</td>\n",
              "      <td>0</td>\n",
              "      <td>0</td>\n",
              "      <td>0</td>\n",
              "      <td>1</td>\n",
              "      <td>0</td>\n",
              "    </tr>\n",
              "    <tr>\n",
              "      <th>1</th>\n",
              "      <td>0</td>\n",
              "      <td>0</td>\n",
              "      <td>0</td>\n",
              "      <td>0</td>\n",
              "      <td>0</td>\n",
              "      <td>1</td>\n",
              "      <td>0</td>\n",
              "      <td>0</td>\n",
              "      <td>0</td>\n",
              "      <td>1</td>\n",
              "      <td>...</td>\n",
              "      <td>0</td>\n",
              "      <td>0</td>\n",
              "      <td>0</td>\n",
              "      <td>0</td>\n",
              "      <td>0</td>\n",
              "      <td>1</td>\n",
              "      <td>0</td>\n",
              "      <td>0</td>\n",
              "      <td>0</td>\n",
              "      <td>1</td>\n",
              "    </tr>\n",
              "    <tr>\n",
              "      <th>2</th>\n",
              "      <td>0</td>\n",
              "      <td>0</td>\n",
              "      <td>0</td>\n",
              "      <td>0</td>\n",
              "      <td>0</td>\n",
              "      <td>1</td>\n",
              "      <td>0</td>\n",
              "      <td>1</td>\n",
              "      <td>0</td>\n",
              "      <td>0</td>\n",
              "      <td>...</td>\n",
              "      <td>0</td>\n",
              "      <td>0</td>\n",
              "      <td>0</td>\n",
              "      <td>0</td>\n",
              "      <td>0</td>\n",
              "      <td>0</td>\n",
              "      <td>0</td>\n",
              "      <td>0</td>\n",
              "      <td>0</td>\n",
              "      <td>1</td>\n",
              "    </tr>\n",
              "    <tr>\n",
              "      <th>3</th>\n",
              "      <td>1</td>\n",
              "      <td>0</td>\n",
              "      <td>0</td>\n",
              "      <td>0</td>\n",
              "      <td>0</td>\n",
              "      <td>1</td>\n",
              "      <td>0</td>\n",
              "      <td>0</td>\n",
              "      <td>0</td>\n",
              "      <td>1</td>\n",
              "      <td>...</td>\n",
              "      <td>1</td>\n",
              "      <td>0</td>\n",
              "      <td>0</td>\n",
              "      <td>0</td>\n",
              "      <td>0</td>\n",
              "      <td>1</td>\n",
              "      <td>0</td>\n",
              "      <td>0</td>\n",
              "      <td>0</td>\n",
              "      <td>0</td>\n",
              "    </tr>\n",
              "    <tr>\n",
              "      <th>4</th>\n",
              "      <td>0</td>\n",
              "      <td>0</td>\n",
              "      <td>1</td>\n",
              "      <td>0</td>\n",
              "      <td>0</td>\n",
              "      <td>0</td>\n",
              "      <td>0</td>\n",
              "      <td>0</td>\n",
              "      <td>0</td>\n",
              "      <td>0</td>\n",
              "      <td>...</td>\n",
              "      <td>0</td>\n",
              "      <td>0</td>\n",
              "      <td>0</td>\n",
              "      <td>0</td>\n",
              "      <td>0</td>\n",
              "      <td>0</td>\n",
              "      <td>0</td>\n",
              "      <td>0</td>\n",
              "      <td>1</td>\n",
              "      <td>0</td>\n",
              "    </tr>\n",
              "  </tbody>\n",
              "</table>\n",
              "<p>5 rows × 21 columns</p>\n",
              "</div>\n",
              "      <button class=\"colab-df-convert\" onclick=\"convertToInteractive('df-0dc37cd0-12df-4b15-9448-6b8f563ff3be')\"\n",
              "              title=\"Convert this dataframe to an interactive table.\"\n",
              "              style=\"display:none;\">\n",
              "        \n",
              "  <svg xmlns=\"http://www.w3.org/2000/svg\" height=\"24px\"viewBox=\"0 0 24 24\"\n",
              "       width=\"24px\">\n",
              "    <path d=\"M0 0h24v24H0V0z\" fill=\"none\"/>\n",
              "    <path d=\"M18.56 5.44l.94 2.06.94-2.06 2.06-.94-2.06-.94-.94-2.06-.94 2.06-2.06.94zm-11 1L8.5 8.5l.94-2.06 2.06-.94-2.06-.94L8.5 2.5l-.94 2.06-2.06.94zm10 10l.94 2.06.94-2.06 2.06-.94-2.06-.94-.94-2.06-.94 2.06-2.06.94z\"/><path d=\"M17.41 7.96l-1.37-1.37c-.4-.4-.92-.59-1.43-.59-.52 0-1.04.2-1.43.59L10.3 9.45l-7.72 7.72c-.78.78-.78 2.05 0 2.83L4 21.41c.39.39.9.59 1.41.59.51 0 1.02-.2 1.41-.59l7.78-7.78 2.81-2.81c.8-.78.8-2.07 0-2.86zM5.41 20L4 18.59l7.72-7.72 1.47 1.35L5.41 20z\"/>\n",
              "  </svg>\n",
              "      </button>\n",
              "      \n",
              "  <style>\n",
              "    .colab-df-container {\n",
              "      display:flex;\n",
              "      flex-wrap:wrap;\n",
              "      gap: 12px;\n",
              "    }\n",
              "\n",
              "    .colab-df-convert {\n",
              "      background-color: #E8F0FE;\n",
              "      border: none;\n",
              "      border-radius: 50%;\n",
              "      cursor: pointer;\n",
              "      display: none;\n",
              "      fill: #1967D2;\n",
              "      height: 32px;\n",
              "      padding: 0 0 0 0;\n",
              "      width: 32px;\n",
              "    }\n",
              "\n",
              "    .colab-df-convert:hover {\n",
              "      background-color: #E2EBFA;\n",
              "      box-shadow: 0px 1px 2px rgba(60, 64, 67, 0.3), 0px 1px 3px 1px rgba(60, 64, 67, 0.15);\n",
              "      fill: #174EA6;\n",
              "    }\n",
              "\n",
              "    [theme=dark] .colab-df-convert {\n",
              "      background-color: #3B4455;\n",
              "      fill: #D2E3FC;\n",
              "    }\n",
              "\n",
              "    [theme=dark] .colab-df-convert:hover {\n",
              "      background-color: #434B5C;\n",
              "      box-shadow: 0px 1px 3px 1px rgba(0, 0, 0, 0.15);\n",
              "      filter: drop-shadow(0px 1px 2px rgba(0, 0, 0, 0.3));\n",
              "      fill: #FFFFFF;\n",
              "    }\n",
              "  </style>\n",
              "\n",
              "      <script>\n",
              "        const buttonEl =\n",
              "          document.querySelector('#df-0dc37cd0-12df-4b15-9448-6b8f563ff3be button.colab-df-convert');\n",
              "        buttonEl.style.display =\n",
              "          google.colab.kernel.accessAllowed ? 'block' : 'none';\n",
              "\n",
              "        async function convertToInteractive(key) {\n",
              "          const element = document.querySelector('#df-0dc37cd0-12df-4b15-9448-6b8f563ff3be');\n",
              "          const dataTable =\n",
              "            await google.colab.kernel.invokeFunction('convertToInteractive',\n",
              "                                                     [key], {});\n",
              "          if (!dataTable) return;\n",
              "\n",
              "          const docLinkHtml = 'Like what you see? Visit the ' +\n",
              "            '<a target=\"_blank\" href=https://colab.research.google.com/notebooks/data_table.ipynb>data table notebook</a>'\n",
              "            + ' to learn more about interactive tables.';\n",
              "          element.innerHTML = '';\n",
              "          dataTable['output_type'] = 'display_data';\n",
              "          await google.colab.output.renderOutput(dataTable, element);\n",
              "          const docLink = document.createElement('div');\n",
              "          docLink.innerHTML = docLinkHtml;\n",
              "          element.appendChild(docLink);\n",
              "        }\n",
              "      </script>\n",
              "    </div>\n",
              "  </div>\n",
              "  "
            ]
          },
          "metadata": {},
          "execution_count": 129
        }
      ],
      "source": [
        "remaining_categorical_columns_dummies.head()"
      ]
    },
    {
      "cell_type": "markdown",
      "metadata": {
        "id": "Y7iPU8jgokvg"
      },
      "source": [
        "We will create a new dataframe with the encoded data."
      ]
    },
    {
      "cell_type": "code",
      "execution_count": 130,
      "metadata": {
        "id": "-2uV5jzHo1L6"
      },
      "outputs": [],
      "source": [
        "df_encoded = pd.concat([df_dp[[\"gender\", \"SeniorCitizen\"]], df_dp[binary_columns], df_dp[numerical_variables], remaining_categorical_columns_dummies], axis=1)"
      ]
    },
    {
      "cell_type": "code",
      "execution_count": 131,
      "metadata": {
        "colab": {
          "base_uri": "https://localhost:8080/",
          "height": 0
        },
        "id": "y7pcw8yCqHhK",
        "outputId": "06c10dce-d6c0-4fcf-e76c-d9f70a9fe62d"
      },
      "outputs": [
        {
          "output_type": "execute_result",
          "data": {
            "text/plain": [
              "   gender  SeniorCitizen  Partner  Dependents  PhoneService  PaperlessBilling  \\\n",
              "0       1              0        1           0             0                 1   \n",
              "1       0              0        0           0             1                 0   \n",
              "2       0              0        0           0             1                 1   \n",
              "3       0              0        0           0             0                 0   \n",
              "4       1              0        0           0             1                 1   \n",
              "\n",
              "   Churn  tenure  MonthlyCharges  TotalCharges  ...  TechSupport_Yes  \\\n",
              "0      0       1           29.85         29.85  ...                0   \n",
              "1      0      34           56.95       1889.50  ...                0   \n",
              "2      1       2           53.85        108.15  ...                0   \n",
              "3      0      45           42.30       1840.75  ...                1   \n",
              "4      1       2           70.70        151.65  ...                0   \n",
              "\n",
              "   StreamingTV_No internet service  StreamingTV_Yes  \\\n",
              "0                                0                0   \n",
              "1                                0                0   \n",
              "2                                0                0   \n",
              "3                                0                0   \n",
              "4                                0                0   \n",
              "\n",
              "   StreamingMovies_No internet service  StreamingMovies_Yes  \\\n",
              "0                                    0                    0   \n",
              "1                                    0                    0   \n",
              "2                                    0                    0   \n",
              "3                                    0                    0   \n",
              "4                                    0                    0   \n",
              "\n",
              "   Contract_One year  Contract_Two year  \\\n",
              "0                  0                  0   \n",
              "1                  1                  0   \n",
              "2                  0                  0   \n",
              "3                  1                  0   \n",
              "4                  0                  0   \n",
              "\n",
              "   PaymentMethod_Credit card (automatic)  PaymentMethod_Electronic check  \\\n",
              "0                                      0                               1   \n",
              "1                                      0                               0   \n",
              "2                                      0                               0   \n",
              "3                                      0                               0   \n",
              "4                                      0                               1   \n",
              "\n",
              "   PaymentMethod_Mailed check  \n",
              "0                           0  \n",
              "1                           1  \n",
              "2                           1  \n",
              "3                           0  \n",
              "4                           0  \n",
              "\n",
              "[5 rows x 31 columns]"
            ],
            "text/html": [
              "\n",
              "  <div id=\"df-8ec3b88a-384d-4950-988c-4542a97017ce\">\n",
              "    <div class=\"colab-df-container\">\n",
              "      <div>\n",
              "<style scoped>\n",
              "    .dataframe tbody tr th:only-of-type {\n",
              "        vertical-align: middle;\n",
              "    }\n",
              "\n",
              "    .dataframe tbody tr th {\n",
              "        vertical-align: top;\n",
              "    }\n",
              "\n",
              "    .dataframe thead th {\n",
              "        text-align: right;\n",
              "    }\n",
              "</style>\n",
              "<table border=\"1\" class=\"dataframe\">\n",
              "  <thead>\n",
              "    <tr style=\"text-align: right;\">\n",
              "      <th></th>\n",
              "      <th>gender</th>\n",
              "      <th>SeniorCitizen</th>\n",
              "      <th>Partner</th>\n",
              "      <th>Dependents</th>\n",
              "      <th>PhoneService</th>\n",
              "      <th>PaperlessBilling</th>\n",
              "      <th>Churn</th>\n",
              "      <th>tenure</th>\n",
              "      <th>MonthlyCharges</th>\n",
              "      <th>TotalCharges</th>\n",
              "      <th>...</th>\n",
              "      <th>TechSupport_Yes</th>\n",
              "      <th>StreamingTV_No internet service</th>\n",
              "      <th>StreamingTV_Yes</th>\n",
              "      <th>StreamingMovies_No internet service</th>\n",
              "      <th>StreamingMovies_Yes</th>\n",
              "      <th>Contract_One year</th>\n",
              "      <th>Contract_Two year</th>\n",
              "      <th>PaymentMethod_Credit card (automatic)</th>\n",
              "      <th>PaymentMethod_Electronic check</th>\n",
              "      <th>PaymentMethod_Mailed check</th>\n",
              "    </tr>\n",
              "  </thead>\n",
              "  <tbody>\n",
              "    <tr>\n",
              "      <th>0</th>\n",
              "      <td>1</td>\n",
              "      <td>0</td>\n",
              "      <td>1</td>\n",
              "      <td>0</td>\n",
              "      <td>0</td>\n",
              "      <td>1</td>\n",
              "      <td>0</td>\n",
              "      <td>1</td>\n",
              "      <td>29.85</td>\n",
              "      <td>29.85</td>\n",
              "      <td>...</td>\n",
              "      <td>0</td>\n",
              "      <td>0</td>\n",
              "      <td>0</td>\n",
              "      <td>0</td>\n",
              "      <td>0</td>\n",
              "      <td>0</td>\n",
              "      <td>0</td>\n",
              "      <td>0</td>\n",
              "      <td>1</td>\n",
              "      <td>0</td>\n",
              "    </tr>\n",
              "    <tr>\n",
              "      <th>1</th>\n",
              "      <td>0</td>\n",
              "      <td>0</td>\n",
              "      <td>0</td>\n",
              "      <td>0</td>\n",
              "      <td>1</td>\n",
              "      <td>0</td>\n",
              "      <td>0</td>\n",
              "      <td>34</td>\n",
              "      <td>56.95</td>\n",
              "      <td>1889.50</td>\n",
              "      <td>...</td>\n",
              "      <td>0</td>\n",
              "      <td>0</td>\n",
              "      <td>0</td>\n",
              "      <td>0</td>\n",
              "      <td>0</td>\n",
              "      <td>1</td>\n",
              "      <td>0</td>\n",
              "      <td>0</td>\n",
              "      <td>0</td>\n",
              "      <td>1</td>\n",
              "    </tr>\n",
              "    <tr>\n",
              "      <th>2</th>\n",
              "      <td>0</td>\n",
              "      <td>0</td>\n",
              "      <td>0</td>\n",
              "      <td>0</td>\n",
              "      <td>1</td>\n",
              "      <td>1</td>\n",
              "      <td>1</td>\n",
              "      <td>2</td>\n",
              "      <td>53.85</td>\n",
              "      <td>108.15</td>\n",
              "      <td>...</td>\n",
              "      <td>0</td>\n",
              "      <td>0</td>\n",
              "      <td>0</td>\n",
              "      <td>0</td>\n",
              "      <td>0</td>\n",
              "      <td>0</td>\n",
              "      <td>0</td>\n",
              "      <td>0</td>\n",
              "      <td>0</td>\n",
              "      <td>1</td>\n",
              "    </tr>\n",
              "    <tr>\n",
              "      <th>3</th>\n",
              "      <td>0</td>\n",
              "      <td>0</td>\n",
              "      <td>0</td>\n",
              "      <td>0</td>\n",
              "      <td>0</td>\n",
              "      <td>0</td>\n",
              "      <td>0</td>\n",
              "      <td>45</td>\n",
              "      <td>42.30</td>\n",
              "      <td>1840.75</td>\n",
              "      <td>...</td>\n",
              "      <td>1</td>\n",
              "      <td>0</td>\n",
              "      <td>0</td>\n",
              "      <td>0</td>\n",
              "      <td>0</td>\n",
              "      <td>1</td>\n",
              "      <td>0</td>\n",
              "      <td>0</td>\n",
              "      <td>0</td>\n",
              "      <td>0</td>\n",
              "    </tr>\n",
              "    <tr>\n",
              "      <th>4</th>\n",
              "      <td>1</td>\n",
              "      <td>0</td>\n",
              "      <td>0</td>\n",
              "      <td>0</td>\n",
              "      <td>1</td>\n",
              "      <td>1</td>\n",
              "      <td>1</td>\n",
              "      <td>2</td>\n",
              "      <td>70.70</td>\n",
              "      <td>151.65</td>\n",
              "      <td>...</td>\n",
              "      <td>0</td>\n",
              "      <td>0</td>\n",
              "      <td>0</td>\n",
              "      <td>0</td>\n",
              "      <td>0</td>\n",
              "      <td>0</td>\n",
              "      <td>0</td>\n",
              "      <td>0</td>\n",
              "      <td>1</td>\n",
              "      <td>0</td>\n",
              "    </tr>\n",
              "  </tbody>\n",
              "</table>\n",
              "<p>5 rows × 31 columns</p>\n",
              "</div>\n",
              "      <button class=\"colab-df-convert\" onclick=\"convertToInteractive('df-8ec3b88a-384d-4950-988c-4542a97017ce')\"\n",
              "              title=\"Convert this dataframe to an interactive table.\"\n",
              "              style=\"display:none;\">\n",
              "        \n",
              "  <svg xmlns=\"http://www.w3.org/2000/svg\" height=\"24px\"viewBox=\"0 0 24 24\"\n",
              "       width=\"24px\">\n",
              "    <path d=\"M0 0h24v24H0V0z\" fill=\"none\"/>\n",
              "    <path d=\"M18.56 5.44l.94 2.06.94-2.06 2.06-.94-2.06-.94-.94-2.06-.94 2.06-2.06.94zm-11 1L8.5 8.5l.94-2.06 2.06-.94-2.06-.94L8.5 2.5l-.94 2.06-2.06.94zm10 10l.94 2.06.94-2.06 2.06-.94-2.06-.94-.94-2.06-.94 2.06-2.06.94z\"/><path d=\"M17.41 7.96l-1.37-1.37c-.4-.4-.92-.59-1.43-.59-.52 0-1.04.2-1.43.59L10.3 9.45l-7.72 7.72c-.78.78-.78 2.05 0 2.83L4 21.41c.39.39.9.59 1.41.59.51 0 1.02-.2 1.41-.59l7.78-7.78 2.81-2.81c.8-.78.8-2.07 0-2.86zM5.41 20L4 18.59l7.72-7.72 1.47 1.35L5.41 20z\"/>\n",
              "  </svg>\n",
              "      </button>\n",
              "      \n",
              "  <style>\n",
              "    .colab-df-container {\n",
              "      display:flex;\n",
              "      flex-wrap:wrap;\n",
              "      gap: 12px;\n",
              "    }\n",
              "\n",
              "    .colab-df-convert {\n",
              "      background-color: #E8F0FE;\n",
              "      border: none;\n",
              "      border-radius: 50%;\n",
              "      cursor: pointer;\n",
              "      display: none;\n",
              "      fill: #1967D2;\n",
              "      height: 32px;\n",
              "      padding: 0 0 0 0;\n",
              "      width: 32px;\n",
              "    }\n",
              "\n",
              "    .colab-df-convert:hover {\n",
              "      background-color: #E2EBFA;\n",
              "      box-shadow: 0px 1px 2px rgba(60, 64, 67, 0.3), 0px 1px 3px 1px rgba(60, 64, 67, 0.15);\n",
              "      fill: #174EA6;\n",
              "    }\n",
              "\n",
              "    [theme=dark] .colab-df-convert {\n",
              "      background-color: #3B4455;\n",
              "      fill: #D2E3FC;\n",
              "    }\n",
              "\n",
              "    [theme=dark] .colab-df-convert:hover {\n",
              "      background-color: #434B5C;\n",
              "      box-shadow: 0px 1px 3px 1px rgba(0, 0, 0, 0.15);\n",
              "      filter: drop-shadow(0px 1px 2px rgba(0, 0, 0, 0.3));\n",
              "      fill: #FFFFFF;\n",
              "    }\n",
              "  </style>\n",
              "\n",
              "      <script>\n",
              "        const buttonEl =\n",
              "          document.querySelector('#df-8ec3b88a-384d-4950-988c-4542a97017ce button.colab-df-convert');\n",
              "        buttonEl.style.display =\n",
              "          google.colab.kernel.accessAllowed ? 'block' : 'none';\n",
              "\n",
              "        async function convertToInteractive(key) {\n",
              "          const element = document.querySelector('#df-8ec3b88a-384d-4950-988c-4542a97017ce');\n",
              "          const dataTable =\n",
              "            await google.colab.kernel.invokeFunction('convertToInteractive',\n",
              "                                                     [key], {});\n",
              "          if (!dataTable) return;\n",
              "\n",
              "          const docLinkHtml = 'Like what you see? Visit the ' +\n",
              "            '<a target=\"_blank\" href=https://colab.research.google.com/notebooks/data_table.ipynb>data table notebook</a>'\n",
              "            + ' to learn more about interactive tables.';\n",
              "          element.innerHTML = '';\n",
              "          dataTable['output_type'] = 'display_data';\n",
              "          await google.colab.output.renderOutput(dataTable, element);\n",
              "          const docLink = document.createElement('div');\n",
              "          docLink.innerHTML = docLinkHtml;\n",
              "          element.appendChild(docLink);\n",
              "        }\n",
              "      </script>\n",
              "    </div>\n",
              "  </div>\n",
              "  "
            ]
          },
          "metadata": {},
          "execution_count": 131
        }
      ],
      "source": [
        "df_encoded.head()"
      ]
    },
    {
      "cell_type": "code",
      "execution_count": 132,
      "metadata": {
        "colab": {
          "base_uri": "https://localhost:8080/"
        },
        "id": "7EgLiNPoqYj6",
        "outputId": "11550bef-112e-4699-8300-12829f0757ef"
      },
      "outputs": [
        {
          "output_type": "execute_result",
          "data": {
            "text/plain": [
              "(7032, 31)"
            ]
          },
          "metadata": {},
          "execution_count": 132
        }
      ],
      "source": [
        "df_encoded.shape"
      ]
    },
    {
      "cell_type": "markdown",
      "metadata": {
        "id": "nSgAlMForG1D"
      },
      "source": [
        "### Solve the asymmetric problem of the variable TotalCharges "
      ]
    },
    {
      "cell_type": "code",
      "execution_count": 133,
      "metadata": {
        "colab": {
          "base_uri": "https://localhost:8080/",
          "height": 0
        },
        "id": "ETlwViJ-rI2i",
        "outputId": "ee61821d-a535-4be8-a56b-6a324e068973"
      },
      "outputs": [
        {
          "output_type": "display_data",
          "data": {
            "text/plain": [
              "<Figure size 360x360 with 1 Axes>"
            ],
            "image/png": "[encoded data removed]"
          },
          "metadata": {}
        }
      ],
      "source": [
        "sns.displot(df_encoded[\"TotalCharges\"], kde=True);"
      ]
    },
    {
      "cell_type": "code",
      "execution_count": 134,
      "metadata": {
        "colab": {
          "base_uri": "https://localhost:8080/"
        },
        "id": "crGki0a0rWaz",
        "outputId": "c3ce0eba-0b28-45d8-e09f-2de64e2b742a"
      },
      "outputs": [
        {
          "output_type": "execute_result",
          "data": {
            "text/plain": [
              "0.9616424997242504"
            ]
          },
          "metadata": {},
          "execution_count": 134
        }
      ],
      "source": [
        "df_encoded[\"TotalCharges\"].skew()"
      ]
    },
    {
      "cell_type": "code",
      "execution_count": 135,
      "metadata": {
        "id": "L0uQV7XvrgnX"
      },
      "outputs": [],
      "source": [
        "df_encoded[\"TotalCharges\"] = np.sqrt(df_encoded[\"TotalCharges\"])"
      ]
    },
    {
      "cell_type": "code",
      "execution_count": 136,
      "metadata": {
        "colab": {
          "base_uri": "https://localhost:8080/",
          "height": 0
        },
        "id": "zM98BKqCrpGy",
        "outputId": "189f9a4b-ab0d-44ac-9dcb-d47c4d1cbc80"
      },
      "outputs": [
        {
          "output_type": "display_data",
          "data": {
            "text/plain": [
              "<Figure size 360x360 with 1 Axes>"
            ],
            "image/png": "[encoded data removed]"
          },
          "metadata": {}
        }
      ],
      "source": [
        "sns.displot(df_encoded[\"TotalCharges\"], kde=True);"
      ]
    },
    {
      "cell_type": "code",
      "execution_count": 137,
      "metadata": {
        "colab": {
          "base_uri": "https://localhost:8080/"
        },
        "id": "phioqVBprvWO",
        "outputId": "cb415aa5-a9b8-4a46-9692-e4d38b96a3ac"
      },
      "outputs": [
        {
          "output_type": "execute_result",
          "data": {
            "text/plain": [
              "0.3089261418986736"
            ]
          },
          "metadata": {},
          "execution_count": 137
        }
      ],
      "source": [
        "df_encoded[\"TotalCharges\"].skew()"
      ]
    },
    {
      "cell_type": "markdown",
      "metadata": {
        "id": "TXXBhdyQszUy"
      },
      "source": [
        "### Splitting the dataset"
      ]
    },
    {
      "cell_type": "markdown",
      "metadata": {
        "id": "gLUPA4PmtNgc"
      },
      "source": [
        "In this section, we will divide the dataset into three parts, one part for model training, a second for validation and the last for testing.\n",
        "\n",
        "- 60%: Training\n",
        "- 20%: Validation\n",
        "- 20%: test"
      ]
    },
    {
      "cell_type": "code",
      "execution_count": 138,
      "metadata": {
        "id": "5HjdZNeytyl4"
      },
      "outputs": [],
      "source": [
        "# X: features \n",
        "# y: target\n",
        "\n",
        "y = df_encoded[\"Churn\"]\n",
        "X = df_encoded.drop(\"Churn\", axis=1)"
      ]
    },
    {
      "cell_type": "code",
      "execution_count": 139,
      "metadata": {
        "id": "-B23vp65uF38"
      },
      "outputs": [],
      "source": [
        "seed = 42\n",
        "\n",
        "X_train, X_test, y_train, y_test = train_test_split(X, y, test_size=0.4, random_state=seed, stratify=y)\n",
        "X_test, X_val, y_test, y_val = train_test_split(X_test, y_test, test_size=0.5, random_state=seed, stratify=y_test)"
      ]
    },
    {
      "cell_type": "code",
      "execution_count": 140,
      "metadata": {
        "colab": {
          "base_uri": "https://localhost:8080/"
        },
        "id": "LI2aWr5Wvfx-",
        "outputId": "384fac15-d526-4a6a-977a-4165c9d3810e"
      },
      "outputs": [
        {
          "output_type": "stream",
          "name": "stdout",
          "text": [
            "0    0.734297\n",
            "1    0.265703\n",
            "Name: Churn, dtype: float64\n",
            "0    0.733997\n",
            "1    0.266003\n",
            "Name: Churn, dtype: float64\n",
            "0    0.734186\n",
            "1    0.265814\n",
            "Name: Churn, dtype: float64\n"
          ]
        }
      ],
      "source": [
        "print(y_train.value_counts(normalize=True))\n",
        "print(y_test.value_counts(normalize=True))\n",
        "print(y_val.value_counts(normalize=True))"
      ]
    },
    {
      "cell_type": "markdown",
      "metadata": {
        "id": "NUMZAllMvzIK"
      },
      "source": [
        "### Solve the imbalance problem of the target class"
      ]
    },
    {
      "cell_type": "code",
      "execution_count": 141,
      "metadata": {
        "colab": {
          "base_uri": "https://localhost:8080/",
          "height": 282
        },
        "id": "gPJKNYjov0pG",
        "outputId": "a595d20f-5a59-4f81-c237-99cbd84af57e"
      },
      "outputs": [
        {
          "output_type": "display_data",
          "data": {
            "text/plain": [
              "<Figure size 432x288 with 1 Axes>"
            ],
            "image/png": "[encoded data removed]"
          },
          "metadata": {}
        }
      ],
      "source": [
        "sns.countplot(x=\"Churn\", data=df_encoded);"
      ]
    },
    {
      "cell_type": "markdown",
      "metadata": {
        "id": "fa6j2JpZw6rJ"
      },
      "source": [
        "We notice that there is really a big imbalance in the target variable. We can fix this problem with two techniques which are upsampling and downsampling."
      ]
    },
    {
      "cell_type": "code",
      "execution_count": 142,
      "metadata": {
        "id": "80er5-y84Mrc"
      },
      "outputs": [],
      "source": [
        "X_train_copy = X_train.copy()\n",
        "X_train_copy[\"Churn\"] = y_train.values\n",
        "\n",
        "minority = X_train_copy[X_train_copy[\"Churn\"] == 1]\n",
        "majority = X_train_copy[X_train_copy[\"Churn\"] == 0]"
      ]
    },
    {
      "cell_type": "markdown",
      "metadata": {
        "id": "qPzY3yjQw_u2"
      },
      "source": [
        "#### Upsampling"
      ]
    },
    {
      "cell_type": "code",
      "execution_count": 143,
      "metadata": {
        "id": "xiTM06CuwL63"
      },
      "outputs": [],
      "source": [
        "minority_upsampled = resample(minority, replace=True, n_samples=len(majority), random_state=seed)\n",
        "df_upsampled = pd.concat([majority, minority_upsampled])"
      ]
    },
    {
      "cell_type": "code",
      "execution_count": 144,
      "metadata": {
        "colab": {
          "base_uri": "https://localhost:8080/"
        },
        "id": "6NnRN8wx5e-2",
        "outputId": "f9e01755-c95e-412e-a87c-f5914fa8aae5"
      },
      "outputs": [
        {
          "output_type": "execute_result",
          "data": {
            "text/plain": [
              "0    0.5\n",
              "1    0.5\n",
              "Name: Churn, dtype: float64"
            ]
          },
          "metadata": {},
          "execution_count": 144
        }
      ],
      "source": [
        "df_upsampled[\"Churn\"].value_counts(normalize=True)"
      ]
    },
    {
      "cell_type": "code",
      "execution_count": 145,
      "metadata": {
        "id": "6Gaw2GWd54Y1"
      },
      "outputs": [],
      "source": [
        "y_train_up = df_upsampled[\"Churn\"]\n",
        "X_train_up = df_upsampled.drop(\"Churn\", axis=1) "
      ]
    },
    {
      "cell_type": "markdown",
      "metadata": {
        "id": "9chmfSp56KUl"
      },
      "source": [
        "#### Downsampling"
      ]
    },
    {
      "cell_type": "code",
      "execution_count": 146,
      "metadata": {
        "id": "dhgdxXJK6NbN"
      },
      "outputs": [],
      "source": [
        "majority_downsampled = resample(majority, replace=False, n_samples=len(minority), random_state=seed)\n",
        "df_downsampled = pd.concat([minority, majority_downsampled])"
      ]
    },
    {
      "cell_type": "code",
      "execution_count": 147,
      "metadata": {
        "colab": {
          "base_uri": "https://localhost:8080/"
        },
        "id": "RIO2AcgD6oCb",
        "outputId": "e202d800-9f3d-4023-86c2-eb12f26a64d2"
      },
      "outputs": [
        {
          "output_type": "execute_result",
          "data": {
            "text/plain": [
              "1    0.5\n",
              "0    0.5\n",
              "Name: Churn, dtype: float64"
            ]
          },
          "metadata": {},
          "execution_count": 147
        }
      ],
      "source": [
        "df_downsampled[\"Churn\"].value_counts(normalize=True)"
      ]
    },
    {
      "cell_type": "code",
      "execution_count": 148,
      "metadata": {
        "id": "mX-EBKq36w8v"
      },
      "outputs": [],
      "source": [
        "y_train_down = df_downsampled[\"Churn\"]\n",
        "X_train_down = df_downsampled.drop(\"Churn\", axis=1)"
      ]
    },
    {
      "cell_type": "markdown",
      "metadata": {
        "id": "MF6BmYPz7QOo"
      },
      "source": [
        "### Training data choices"
      ]
    },
    {
      "cell_type": "code",
      "execution_count": 149,
      "metadata": {
        "id": "bUFnF2T17Vth"
      },
      "outputs": [],
      "source": [
        "# For the training data we have several choices available:\n",
        "# 1 - (X_train, y_train)\n",
        "# 2 - (X_train_up, y_train_up)\n",
        "# 3 - (X_train_down, y_train_down)\n",
        "\n",
        "train_features = X_train_up\n",
        "train_label = y_train_up"
      ]
    },
    {
      "cell_type": "markdown",
      "metadata": {
        "id": "Qlpht4TR7vBZ"
      },
      "source": [
        "### Data normalisation"
      ]
    },
    {
      "cell_type": "code",
      "execution_count": 150,
      "metadata": {
        "id": "pWvSzvoK73N3"
      },
      "outputs": [],
      "source": [
        "scaler = StandardScaler()\n",
        "\n",
        "model_scaler = scaler.fit(train_features)\n",
        "\n",
        "train_features = model_scaler.transform(train_features) \n",
        "X_val = model_scaler.transform(X_val) \n",
        "X_test = model_scaler.transform(X_test) \n",
        "\n",
        "# Transform into dataframes\n",
        "train_features = pd.DataFrame(train_features, columns=X.columns)\n",
        "X_val = pd.DataFrame(X_val, columns=X.columns)\n",
        "X_test = pd.DataFrame(X_test, columns=X.columns)"
      ]
    },
    {
      "cell_type": "code",
      "execution_count": 151,
      "metadata": {
        "colab": {
          "base_uri": "https://localhost:8080/",
          "height": 334
        },
        "id": "ByaUC6fP8y9w",
        "outputId": "6c5be481-a062-4cea-b166-951fa31a6e5e"
      },
      "outputs": [
        {
          "output_type": "execute_result",
          "data": {
            "text/plain": [
              "     gender  SeniorCitizen   Partner  Dependents  PhoneService  \\\n",
              "0 -0.991963      -0.490854 -0.887788   -0.584060      0.318608   \n",
              "1  1.008103      -0.490854 -0.887788   -0.584060      0.318608   \n",
              "2 -0.991963      -0.490854  1.126395    1.712154      0.318608   \n",
              "3  1.008103      -0.490854  1.126395   -0.584060      0.318608   \n",
              "4 -0.991963      -0.490854 -0.887788   -0.584060      0.318608   \n",
              "\n",
              "   PaperlessBilling    tenure  MonthlyCharges  TotalCharges  \\\n",
              "0         -1.369857  1.841325        1.570264      2.139708   \n",
              "1          0.730003 -1.110673       -0.456967     -1.249635   \n",
              "2         -1.369857 -0.819631       -0.802028     -0.766715   \n",
              "3         -1.369857  0.510847       -1.683658     -0.410593   \n",
              "4          0.730003 -0.570167       -1.486974     -0.818897   \n",
              "\n",
              "   MultipleLines_No phone service  ...  TechSupport_Yes  \\\n",
              "0                       -0.318608  ...         1.712154   \n",
              "1                       -0.318608  ...        -0.584060   \n",
              "2                       -0.318608  ...        -0.584060   \n",
              "3                       -0.318608  ...        -0.584060   \n",
              "4                       -0.318608  ...        -0.584060   \n",
              "\n",
              "   StreamingTV_No internet service  StreamingTV_Yes  \\\n",
              "0                        -0.446780         1.209396   \n",
              "1                        -0.446780         1.209396   \n",
              "2                        -0.446780        -0.826859   \n",
              "3                         2.238236        -0.826859   \n",
              "4                         2.238236        -0.826859   \n",
              "\n",
              "   StreamingMovies_No internet service  StreamingMovies_Yes  \\\n",
              "0                            -0.446780             1.232771   \n",
              "1                            -0.446780            -0.811181   \n",
              "2                            -0.446780            -0.811181   \n",
              "3                             2.238236            -0.811181   \n",
              "4                             2.238236            -0.811181   \n",
              "\n",
              "   Contract_One year  Contract_Two year  \\\n",
              "0          -0.443397           2.169180   \n",
              "1          -0.443397          -0.461004   \n",
              "2          -0.443397          -0.461004   \n",
              "3          -0.443397           2.169180   \n",
              "4           2.255315          -0.461004   \n",
              "\n",
              "   PaymentMethod_Credit card (automatic)  PaymentMethod_Electronic check  \\\n",
              "0                              -0.477392                       -0.838810   \n",
              "1                              -0.477392                        1.192165   \n",
              "2                              -0.477392                       -0.838810   \n",
              "3                              -0.477392                       -0.838810   \n",
              "4                               2.094714                       -0.838810   \n",
              "\n",
              "   PaymentMethod_Mailed check  \n",
              "0                   -0.521053  \n",
              "1                   -0.521053  \n",
              "2                   -0.521053  \n",
              "3                    1.919191  \n",
              "4                   -0.521053  \n",
              "\n",
              "[5 rows x 30 columns]"
            ],
            "text/html": [
              "\n",
              "  <div id=\"df-699aac5b-2361-4a45-b297-a23f418559f2\">\n",
              "    <div class=\"colab-df-container\">\n",
              "      <div>\n",
              "<style scoped>\n",
              "    .dataframe tbody tr th:only-of-type {\n",
              "        vertical-align: middle;\n",
              "    }\n",
              "\n",
              "    .dataframe tbody tr th {\n",
              "        vertical-align: top;\n",
              "    }\n",
              "\n",
              "    .dataframe thead th {\n",
              "        text-align: right;\n",
              "    }\n",
              "</style>\n",
              "<table border=\"1\" class=\"dataframe\">\n",
              "  <thead>\n",
              "    <tr style=\"text-align: right;\">\n",
              "      <th></th>\n",
              "      <th>gender</th>\n",
              "      <th>SeniorCitizen</th>\n",
              "      <th>Partner</th>\n",
              "      <th>Dependents</th>\n",
              "      <th>PhoneService</th>\n",
              "      <th>PaperlessBilling</th>\n",
              "      <th>tenure</th>\n",
              "      <th>MonthlyCharges</th>\n",
              "      <th>TotalCharges</th>\n",
              "      <th>MultipleLines_No phone service</th>\n",
              "      <th>...</th>\n",
              "      <th>TechSupport_Yes</th>\n",
              "      <th>StreamingTV_No internet service</th>\n",
              "      <th>StreamingTV_Yes</th>\n",
              "      <th>StreamingMovies_No internet service</th>\n",
              "      <th>StreamingMovies_Yes</th>\n",
              "      <th>Contract_One year</th>\n",
              "      <th>Contract_Two year</th>\n",
              "      <th>PaymentMethod_Credit card (automatic)</th>\n",
              "      <th>PaymentMethod_Electronic check</th>\n",
              "      <th>PaymentMethod_Mailed check</th>\n",
              "    </tr>\n",
              "  </thead>\n",
              "  <tbody>\n",
              "    <tr>\n",
              "      <th>0</th>\n",
              "      <td>-0.991963</td>\n",
              "      <td>-0.490854</td>\n",
              "      <td>-0.887788</td>\n",
              "      <td>-0.584060</td>\n",
              "      <td>0.318608</td>\n",
              "      <td>-1.369857</td>\n",
              "      <td>1.841325</td>\n",
              "      <td>1.570264</td>\n",
              "      <td>2.139708</td>\n",
              "      <td>-0.318608</td>\n",
              "      <td>...</td>\n",
              "      <td>1.712154</td>\n",
              "      <td>-0.446780</td>\n",
              "      <td>1.209396</td>\n",
              "      <td>-0.446780</td>\n",
              "      <td>1.232771</td>\n",
              "      <td>-0.443397</td>\n",
              "      <td>2.169180</td>\n",
              "      <td>-0.477392</td>\n",
              "      <td>-0.838810</td>\n",
              "      <td>-0.521053</td>\n",
              "    </tr>\n",
              "    <tr>\n",
              "      <th>1</th>\n",
              "      <td>1.008103</td>\n",
              "      <td>-0.490854</td>\n",
              "      <td>-0.887788</td>\n",
              "      <td>-0.584060</td>\n",
              "      <td>0.318608</td>\n",
              "      <td>0.730003</td>\n",
              "      <td>-1.110673</td>\n",
              "      <td>-0.456967</td>\n",
              "      <td>-1.249635</td>\n",
              "      <td>-0.318608</td>\n",
              "      <td>...</td>\n",
              "      <td>-0.584060</td>\n",
              "      <td>-0.446780</td>\n",
              "      <td>1.209396</td>\n",
              "      <td>-0.446780</td>\n",
              "      <td>-0.811181</td>\n",
              "      <td>-0.443397</td>\n",
              "      <td>-0.461004</td>\n",
              "      <td>-0.477392</td>\n",
              "      <td>1.192165</td>\n",
              "      <td>-0.521053</td>\n",
              "    </tr>\n",
              "    <tr>\n",
              "      <th>2</th>\n",
              "      <td>-0.991963</td>\n",
              "      <td>-0.490854</td>\n",
              "      <td>1.126395</td>\n",
              "      <td>1.712154</td>\n",
              "      <td>0.318608</td>\n",
              "      <td>-1.369857</td>\n",
              "      <td>-0.819631</td>\n",
              "      <td>-0.802028</td>\n",
              "      <td>-0.766715</td>\n",
              "      <td>-0.318608</td>\n",
              "      <td>...</td>\n",
              "      <td>-0.584060</td>\n",
              "      <td>-0.446780</td>\n",
              "      <td>-0.826859</td>\n",
              "      <td>-0.446780</td>\n",
              "      <td>-0.811181</td>\n",
              "      <td>-0.443397</td>\n",
              "      <td>-0.461004</td>\n",
              "      <td>-0.477392</td>\n",
              "      <td>-0.838810</td>\n",
              "      <td>-0.521053</td>\n",
              "    </tr>\n",
              "    <tr>\n",
              "      <th>3</th>\n",
              "      <td>1.008103</td>\n",
              "      <td>-0.490854</td>\n",
              "      <td>1.126395</td>\n",
              "      <td>-0.584060</td>\n",
              "      <td>0.318608</td>\n",
              "      <td>-1.369857</td>\n",
              "      <td>0.510847</td>\n",
              "      <td>-1.683658</td>\n",
              "      <td>-0.410593</td>\n",
              "      <td>-0.318608</td>\n",
              "      <td>...</td>\n",
              "      <td>-0.584060</td>\n",
              "      <td>2.238236</td>\n",
              "      <td>-0.826859</td>\n",
              "      <td>2.238236</td>\n",
              "      <td>-0.811181</td>\n",
              "      <td>-0.443397</td>\n",
              "      <td>2.169180</td>\n",
              "      <td>-0.477392</td>\n",
              "      <td>-0.838810</td>\n",
              "      <td>1.919191</td>\n",
              "    </tr>\n",
              "    <tr>\n",
              "      <th>4</th>\n",
              "      <td>-0.991963</td>\n",
              "      <td>-0.490854</td>\n",
              "      <td>-0.887788</td>\n",
              "      <td>-0.584060</td>\n",
              "      <td>0.318608</td>\n",
              "      <td>0.730003</td>\n",
              "      <td>-0.570167</td>\n",
              "      <td>-1.486974</td>\n",
              "      <td>-0.818897</td>\n",
              "      <td>-0.318608</td>\n",
              "      <td>...</td>\n",
              "      <td>-0.584060</td>\n",
              "      <td>2.238236</td>\n",
              "      <td>-0.826859</td>\n",
              "      <td>2.238236</td>\n",
              "      <td>-0.811181</td>\n",
              "      <td>2.255315</td>\n",
              "      <td>-0.461004</td>\n",
              "      <td>2.094714</td>\n",
              "      <td>-0.838810</td>\n",
              "      <td>-0.521053</td>\n",
              "    </tr>\n",
              "  </tbody>\n",
              "</table>\n",
              "<p>5 rows × 30 columns</p>\n",
              "</div>\n",
              "      <button class=\"colab-df-convert\" onclick=\"convertToInteractive('df-699aac5b-2361-4a45-b297-a23f418559f2')\"\n",
              "              title=\"Convert this dataframe to an interactive table.\"\n",
              "              style=\"display:none;\">\n",
              "        \n",
              "  <svg xmlns=\"http://www.w3.org/2000/svg\" height=\"24px\"viewBox=\"0 0 24 24\"\n",
              "       width=\"24px\">\n",
              "    <path d=\"M0 0h24v24H0V0z\" fill=\"none\"/>\n",
              "    <path d=\"M18.56 5.44l.94 2.06.94-2.06 2.06-.94-2.06-.94-.94-2.06-.94 2.06-2.06.94zm-11 1L8.5 8.5l.94-2.06 2.06-.94-2.06-.94L8.5 2.5l-.94 2.06-2.06.94zm10 10l.94 2.06.94-2.06 2.06-.94-2.06-.94-.94-2.06-.94 2.06-2.06.94z\"/><path d=\"M17.41 7.96l-1.37-1.37c-.4-.4-.92-.59-1.43-.59-.52 0-1.04.2-1.43.59L10.3 9.45l-7.72 7.72c-.78.78-.78 2.05 0 2.83L4 21.41c.39.39.9.59 1.41.59.51 0 1.02-.2 1.41-.59l7.78-7.78 2.81-2.81c.8-.78.8-2.07 0-2.86zM5.41 20L4 18.59l7.72-7.72 1.47 1.35L5.41 20z\"/>\n",
              "  </svg>\n",
              "      </button>\n",
              "      \n",
              "  <style>\n",
              "    .colab-df-container {\n",
              "      display:flex;\n",
              "      flex-wrap:wrap;\n",
              "      gap: 12px;\n",
              "    }\n",
              "\n",
              "    .colab-df-convert {\n",
              "      background-color: #E8F0FE;\n",
              "      border: none;\n",
              "      border-radius: 50%;\n",
              "      cursor: pointer;\n",
              "      display: none;\n",
              "      fill: #1967D2;\n",
              "      height: 32px;\n",
              "      padding: 0 0 0 0;\n",
              "      width: 32px;\n",
              "    }\n",
              "\n",
              "    .colab-df-convert:hover {\n",
              "      background-color: #E2EBFA;\n",
              "      box-shadow: 0px 1px 2px rgba(60, 64, 67, 0.3), 0px 1px 3px 1px rgba(60, 64, 67, 0.15);\n",
              "      fill: #174EA6;\n",
              "    }\n",
              "\n",
              "    [theme=dark] .colab-df-convert {\n",
              "      background-color: #3B4455;\n",
              "      fill: #D2E3FC;\n",
              "    }\n",
              "\n",
              "    [theme=dark] .colab-df-convert:hover {\n",
              "      background-color: #434B5C;\n",
              "      box-shadow: 0px 1px 3px 1px rgba(0, 0, 0, 0.15);\n",
              "      filter: drop-shadow(0px 1px 2px rgba(0, 0, 0, 0.3));\n",
              "      fill: #FFFFFF;\n",
              "    }\n",
              "  </style>\n",
              "\n",
              "      <script>\n",
              "        const buttonEl =\n",
              "          document.querySelector('#df-699aac5b-2361-4a45-b297-a23f418559f2 button.colab-df-convert');\n",
              "        buttonEl.style.display =\n",
              "          google.colab.kernel.accessAllowed ? 'block' : 'none';\n",
              "\n",
              "        async function convertToInteractive(key) {\n",
              "          const element = document.querySelector('#df-699aac5b-2361-4a45-b297-a23f418559f2');\n",
              "          const dataTable =\n",
              "            await google.colab.kernel.invokeFunction('convertToInteractive',\n",
              "                                                     [key], {});\n",
              "          if (!dataTable) return;\n",
              "\n",
              "          const docLinkHtml = 'Like what you see? Visit the ' +\n",
              "            '<a target=\"_blank\" href=https://colab.research.google.com/notebooks/data_table.ipynb>data table notebook</a>'\n",
              "            + ' to learn more about interactive tables.';\n",
              "          element.innerHTML = '';\n",
              "          dataTable['output_type'] = 'display_data';\n",
              "          await google.colab.output.renderOutput(dataTable, element);\n",
              "          const docLink = document.createElement('div');\n",
              "          docLink.innerHTML = docLinkHtml;\n",
              "          element.appendChild(docLink);\n",
              "        }\n",
              "      </script>\n",
              "    </div>\n",
              "  </div>\n",
              "  "
            ]
          },
          "metadata": {},
          "execution_count": 151
        }
      ],
      "source": [
        "train_features.head()"
      ]
    },
    {
      "cell_type": "markdown",
      "metadata": {
        "id": "4Blia0if88uU"
      },
      "source": [
        "### Features selection"
      ]
    },
    {
      "cell_type": "code",
      "execution_count": 152,
      "metadata": {
        "colab": {
          "base_uri": "https://localhost:8080/"
        },
        "id": "6W6QDHHG8_ZE",
        "outputId": "33307de3-41fb-4c3c-c498-ebda56a35126"
      },
      "outputs": [
        {
          "output_type": "stream",
          "name": "stdout",
          "text": [
            "              precision    recall  f1-score   support\n",
            "\n",
            "           0       0.86      0.86      0.86      1033\n",
            "           1       0.61      0.60      0.60       374\n",
            "\n",
            "    accuracy                           0.79      1407\n",
            "   macro avg       0.73      0.73      0.73      1407\n",
            "weighted avg       0.79      0.79      0.79      1407\n",
            "\n"
          ]
        }
      ],
      "source": [
        "rf = RandomForestClassifier()\n",
        "rf.fit(train_features, train_label)\n",
        "print(classification_report(y_val, rf.predict(X_val)))"
      ]
    },
    {
      "cell_type": "code",
      "execution_count": 153,
      "metadata": {
        "colab": {
          "base_uri": "https://localhost:8080/"
        },
        "id": "paZFa4-o94fX",
        "outputId": "82902543-1541-4683-aa1e-b63df9a2aebf"
      },
      "outputs": [
        {
          "output_type": "execute_result",
          "data": {
            "text/plain": [
              "array([0.02647824, 0.01847363, 0.0220131 , 0.01971432, 0.00402591,\n",
              "       0.02527274, 0.17145365, 0.14570418, 0.17236299, 0.00421981,\n",
              "       0.01736283, 0.04728774, 0.00794309, 0.00803844, 0.02821983,\n",
              "       0.00683113, 0.02049564, 0.0101358 , 0.0157207 , 0.00827581,\n",
              "       0.02344166, 0.01218066, 0.01526157, 0.00513434, 0.01623096,\n",
              "       0.02847452, 0.05972332, 0.01419396, 0.0321321 , 0.01319731])"
            ]
          },
          "metadata": {},
          "execution_count": 153
        }
      ],
      "source": [
        "rf.feature_importances_"
      ]
    },
    {
      "cell_type": "code",
      "execution_count": 154,
      "metadata": {
        "id": "FbFHlUOy95zD"
      },
      "outputs": [],
      "source": [
        "# Importance of the variables\n",
        "var_imp = pd.Series(rf.feature_importances_, index = train_features.columns).sort_values(ascending=False)"
      ]
    },
    {
      "cell_type": "code",
      "execution_count": 155,
      "metadata": {
        "colab": {
          "base_uri": "https://localhost:8080/",
          "height": 692
        },
        "id": "E3BlDzyy-Gvo",
        "outputId": "84c7da33-8104-4d3b-893a-643e04b3f45b"
      },
      "outputs": [
        {
          "output_type": "display_data",
          "data": {
            "text/plain": [
              "<Figure size 1440x576 with 1 Axes>"
            ],
            "image/png": "[encoded data removed]"
          },
          "metadata": {}
        }
      ],
      "source": [
        "plt.figure(figsize=(20,8))\n",
        "sns.barplot(x = var_imp.index, y=var_imp)\n",
        "plt.xticks(rotation=90)\n",
        "plt.xlabel(\"Name of the variable\")\n",
        "plt.ylabel(\"Importance of the variable\")\n",
        "plt.show()"
      ]
    },
    {
      "cell_type": "code",
      "execution_count": 156,
      "metadata": {
        "colab": {
          "base_uri": "https://localhost:8080/"
        },
        "id": "YR6w2qs2-blE",
        "outputId": "20457a67-ff08-4236-8fb6-85f2abf60b85"
      },
      "outputs": [
        {
          "output_type": "execute_result",
          "data": {
            "text/plain": [
              "TotalCharges                             0.172363\n",
              "tenure                                   0.171454\n",
              "MonthlyCharges                           0.145704\n",
              "Contract_Two year                        0.059723\n",
              "InternetService_Fiber optic              0.047288\n",
              "PaymentMethod_Electronic check           0.032132\n",
              "Contract_One year                        0.028475\n",
              "OnlineSecurity_Yes                       0.028220\n",
              "gender                                   0.026478\n",
              "PaperlessBilling                         0.025273\n",
              "TechSupport_Yes                          0.023442\n",
              "Partner                                  0.022013\n",
              "OnlineBackup_Yes                         0.020496\n",
              "Dependents                               0.019714\n",
              "SeniorCitizen                            0.018474\n",
              "MultipleLines_Yes                        0.017363\n",
              "StreamingMovies_Yes                      0.016231\n",
              "DeviceProtection_Yes                     0.015721\n",
              "StreamingTV_Yes                          0.015262\n",
              "PaymentMethod_Credit card (automatic)    0.014194\n",
              "PaymentMethod_Mailed check               0.013197\n",
              "StreamingTV_No internet service          0.012181\n",
              "DeviceProtection_No internet service     0.010136\n",
              "TechSupport_No internet service          0.008276\n",
              "OnlineSecurity_No internet service       0.008038\n",
              "InternetService_No                       0.007943\n",
              "OnlineBackup_No internet service         0.006831\n",
              "StreamingMovies_No internet service      0.005134\n",
              "MultipleLines_No phone service           0.004220\n",
              "PhoneService                             0.004026\n",
              "dtype: float64"
            ]
          },
          "metadata": {},
          "execution_count": 156
        }
      ],
      "source": [
        "var_imp"
      ]
    },
    {
      "cell_type": "code",
      "execution_count": 157,
      "metadata": {
        "id": "t4Ww0a5g-kvz"
      },
      "outputs": [],
      "source": [
        "# Selection of variables\n",
        "limit = 0.01\n",
        "var_selected = var_imp[var_imp > limit].index.to_list()"
      ]
    },
    {
      "cell_type": "code",
      "execution_count": 158,
      "metadata": {
        "colab": {
          "base_uri": "https://localhost:8080/"
        },
        "id": "c3iupc9v-8Tg",
        "outputId": "efa3c656-634b-44d8-d8e9-5ac21473a69a"
      },
      "outputs": [
        {
          "output_type": "execute_result",
          "data": {
            "text/plain": [
              "['TotalCharges',\n",
              " 'tenure',\n",
              " 'MonthlyCharges',\n",
              " 'Contract_Two year',\n",
              " 'InternetService_Fiber optic',\n",
              " 'PaymentMethod_Electronic check',\n",
              " 'Contract_One year',\n",
              " 'OnlineSecurity_Yes',\n",
              " 'gender',\n",
              " 'PaperlessBilling',\n",
              " 'TechSupport_Yes',\n",
              " 'Partner',\n",
              " 'OnlineBackup_Yes',\n",
              " 'Dependents',\n",
              " 'SeniorCitizen',\n",
              " 'MultipleLines_Yes',\n",
              " 'StreamingMovies_Yes',\n",
              " 'DeviceProtection_Yes',\n",
              " 'StreamingTV_Yes',\n",
              " 'PaymentMethod_Credit card (automatic)',\n",
              " 'PaymentMethod_Mailed check',\n",
              " 'StreamingTV_No internet service',\n",
              " 'DeviceProtection_No internet service']"
            ]
          },
          "metadata": {},
          "execution_count": 158
        }
      ],
      "source": [
        "var_selected"
      ]
    },
    {
      "cell_type": "code",
      "execution_count": 159,
      "metadata": {
        "id": "J5FWw7o2-5nE"
      },
      "outputs": [],
      "source": [
        "train_features = train_features[var_selected] \n",
        "X_val = X_val[var_selected]\n",
        "X_test = X_test[var_selected]"
      ]
    },
    {
      "cell_type": "markdown",
      "metadata": {
        "id": "i4wDMjzc_K7G"
      },
      "source": [
        "## Modeling"
      ]
    },
    {
      "cell_type": "markdown",
      "metadata": {
        "id": "TQsZ4mXc_hTs"
      },
      "source": [
        "Our objective is to build a model that will predict whether a customer will churn or not. The algorithms we will use for this are:\n",
        "\n",
        "1. Logistic Regression\n",
        "2. Random Forest\n",
        "3. Support Vector Machine"
      ]
    },
    {
      "cell_type": "markdown",
      "metadata": {
        "id": "uBYvGDVQ_2dH"
      },
      "source": [
        "In the following, we will build a function that will allow us to evaluate the models."
      ]
    },
    {
      "cell_type": "markdown",
      "metadata": {
        "id": "ZosroBg__5pN"
      },
      "source": [
        "### Model Evaluation Function"
      ]
    },
    {
      "cell_type": "code",
      "execution_count": 160,
      "metadata": {
        "id": "ZYrYsUr__3ak"
      },
      "outputs": [],
      "source": [
        "def model_evaluation(model, features, label):\n",
        "    pred = model.predict(features)\n",
        "    print(classification_report(label, pred))"
      ]
    },
    {
      "cell_type": "markdown",
      "metadata": {
        "id": "VF4DfnpnAO7F"
      },
      "source": [
        "### Logistic Regression"
      ]
    },
    {
      "cell_type": "code",
      "execution_count": 161,
      "metadata": {
        "colab": {
          "base_uri": "https://localhost:8080/"
        },
        "id": "r7KyngBzAS8B",
        "outputId": "8afddbf8-aedf-4c5d-d878-1fee14963908"
      },
      "outputs": [
        {
          "output_type": "execute_result",
          "data": {
            "text/plain": [
              "GridSearchCV(cv=5, estimator=LogisticRegression(max_iter=500, random_state=42),\n",
              "             param_grid={'C': [0.001, 0.01, 0.1, 1, 10, 50, 100, 500]},\n",
              "             scoring='f1')"
            ]
          },
          "metadata": {},
          "execution_count": 161
        }
      ],
      "source": [
        "log_hyp = {\"C\": [0.001, 0.01, 0.1, 1, 10, 50, 100, 500]}\n",
        "\n",
        "log_cv = GridSearchCV(LogisticRegression(random_state=seed, max_iter=500), \n",
        "                      param_grid=log_hyp,\n",
        "                      scoring=\"f1\",\n",
        "                      cv=5\n",
        "                      )\n",
        "log_cv.fit(train_features, train_label)"
      ]
    },
    {
      "cell_type": "code",
      "execution_count": 162,
      "metadata": {
        "colab": {
          "base_uri": "https://localhost:8080/"
        },
        "id": "HK6NVz6sA-VP",
        "outputId": "2d5f64e1-abed-4212-e748-83155e01bdfc"
      },
      "outputs": [
        {
          "output_type": "stream",
          "name": "stdout",
          "text": [
            "0.78\n",
            "LogisticRegression(C=0.001, max_iter=500, random_state=42)\n"
          ]
        }
      ],
      "source": [
        "print(round(log_cv.best_score_, 2))\n",
        "print(log_cv.best_estimator_)\n",
        "log_model = log_cv.best_estimator_"
      ]
    },
    {
      "cell_type": "code",
      "execution_count": 163,
      "metadata": {
        "colab": {
          "base_uri": "https://localhost:8080/"
        },
        "id": "TzW4-XOqBL3S",
        "outputId": "5a914c7d-2ce6-4fd0-f0f4-e5ecb785b8e2"
      },
      "outputs": [
        {
          "output_type": "stream",
          "name": "stdout",
          "text": [
            "              precision    recall  f1-score   support\n",
            "\n",
            "           0       0.91      0.72      0.80      1033\n",
            "           1       0.51      0.81      0.62       374\n",
            "\n",
            "    accuracy                           0.74      1407\n",
            "   macro avg       0.71      0.76      0.71      1407\n",
            "weighted avg       0.80      0.74      0.76      1407\n",
            "\n"
          ]
        }
      ],
      "source": [
        "# Evaluate the logistic regression model with validation data\n",
        "model_evaluation(log_model, X_val, y_val)"
      ]
    },
    {
      "cell_type": "markdown",
      "metadata": {
        "id": "Ub0OFoPRBwar"
      },
      "source": [
        "#### Recursive Feature Elimination"
      ]
    },
    {
      "cell_type": "markdown",
      "metadata": {
        "id": "AIyLraBtB-1y"
      },
      "source": [
        "Recursive Feature Elimination, or RFE for short, is a popular feature selection algorithm. RFE is popular because it is easy to configure and use and because it is effective at selecting those features (columns) in a training dataset that are more or most relevant in predicting the target variable."
      ]
    },
    {
      "cell_type": "code",
      "execution_count": 164,
      "metadata": {
        "id": "vEDbzP71B__S"
      },
      "outputs": [],
      "source": [
        "def model_with_rfe(model):\n",
        "    rfe_model = RFE(estimator=model)\n",
        "    rfe_model.fit(train_features, train_label)\n",
        "    mask = rfe_model.support_\n",
        "    reduced_X = train_features.loc[:, mask]\n",
        "    print(reduced_X.columns)\n",
        "    return rfe_model"
      ]
    },
    {
      "cell_type": "markdown",
      "metadata": {
        "id": "_RfwwellCWyw"
      },
      "source": [
        "#### Logistic Regression with RFE"
      ]
    },
    {
      "cell_type": "code",
      "execution_count": 165,
      "metadata": {
        "colab": {
          "base_uri": "https://localhost:8080/"
        },
        "id": "oywlL6YDCai2",
        "outputId": "ee327d95-84e2-4419-993c-8347865de8cf"
      },
      "outputs": [
        {
          "output_type": "stream",
          "name": "stdout",
          "text": [
            "Index(['TotalCharges', 'tenure', 'MonthlyCharges', 'Contract_Two year',\n",
            "       'InternetService_Fiber optic', 'PaymentMethod_Electronic check',\n",
            "       'Contract_One year', 'OnlineSecurity_Yes', 'PaperlessBilling',\n",
            "       'StreamingTV_No internet service',\n",
            "       'DeviceProtection_No internet service'],\n",
            "      dtype='object')\n"
          ]
        },
        {
          "output_type": "execute_result",
          "data": {
            "text/plain": [
              "RFE(estimator=LogisticRegression(C=0.001, max_iter=500, random_state=42))"
            ]
          },
          "metadata": {},
          "execution_count": 165
        }
      ],
      "source": [
        "log_model_rfe = model_with_rfe(log_model)\n",
        "log_model_rfe"
      ]
    },
    {
      "cell_type": "code",
      "execution_count": 166,
      "metadata": {
        "colab": {
          "base_uri": "https://localhost:8080/"
        },
        "id": "MxdlovQLCe6U",
        "outputId": "b85ba0cc-0331-44d0-99d0-f7d30b7c085f"
      },
      "outputs": [
        {
          "output_type": "stream",
          "name": "stdout",
          "text": [
            "              precision    recall  f1-score   support\n",
            "\n",
            "           0       0.91      0.72      0.80      1033\n",
            "           1       0.51      0.82      0.63       374\n",
            "\n",
            "    accuracy                           0.74      1407\n",
            "   macro avg       0.71      0.77      0.71      1407\n",
            "weighted avg       0.81      0.74      0.76      1407\n",
            "\n"
          ]
        }
      ],
      "source": [
        "model_evaluation(log_model_rfe, X_val, y_val)"
      ]
    },
    {
      "cell_type": "markdown",
      "metadata": {
        "id": "tVdatJAYC3Wx"
      },
      "source": [
        "We notice that by applying the RFE on the logistic regression model, the number of features has decreased but the model keeps the same performances."
      ]
    },
    {
      "cell_type": "markdown",
      "metadata": {
        "id": "GT49XzgtDB5Z"
      },
      "source": [
        "### 2. Random Forest"
      ]
    },
    {
      "cell_type": "code",
      "execution_count": 167,
      "metadata": {
        "colab": {
          "base_uri": "https://localhost:8080/"
        },
        "id": "mtroEu-rDIha",
        "outputId": "1318d152-ec34-4548-a750-3bd7ec70e743"
      },
      "outputs": [
        {
          "output_type": "execute_result",
          "data": {
            "text/plain": [
              "GridSearchCV(cv=5, estimator=RandomForestClassifier(random_state=42),\n",
              "             param_grid={'max_depth': [3, 5, 10, 20, None],\n",
              "                         'n_estimators': [10, 50, 100, 500, 1000]},\n",
              "             scoring='f1')"
            ]
          },
          "metadata": {},
          "execution_count": 167
        }
      ],
      "source": [
        "rf_hyp = {\"n_estimators\": [10, 50, 100, 500, 1000],\n",
        "          \"max_depth\": [3, 5, 10, 20, None]}\n",
        "\n",
        "rf_cv = GridSearchCV(RandomForestClassifier(random_state=seed), \n",
        "                     param_grid = rf_hyp,\n",
        "                     scoring=\"f1\",\n",
        "                     cv=5\n",
        "                    )\n",
        "\n",
        "rf_cv.fit(train_features, train_label)"
      ]
    },
    {
      "cell_type": "code",
      "execution_count": 168,
      "metadata": {
        "colab": {
          "base_uri": "https://localhost:8080/"
        },
        "id": "Z5Rt8C9PEXYP",
        "outputId": "648e911c-0c7e-4fed-c567-cfedceefd8fc"
      },
      "outputs": [
        {
          "output_type": "stream",
          "name": "stdout",
          "text": [
            "0.92\n",
            "RandomForestClassifier(max_depth=20, n_estimators=1000, random_state=42)\n"
          ]
        }
      ],
      "source": [
        "print(round(rf_cv.best_score_, 2))\n",
        "print(rf_cv.best_estimator_)\n",
        "\n",
        "rf_model = rf_cv.best_estimator_"
      ]
    },
    {
      "cell_type": "code",
      "execution_count": 169,
      "metadata": {
        "colab": {
          "base_uri": "https://localhost:8080/"
        },
        "id": "CXuNwcurENYf",
        "outputId": "6698b32e-c2e0-47ed-ccbc-7eb7d1baf872"
      },
      "outputs": [
        {
          "output_type": "stream",
          "name": "stdout",
          "text": [
            "              precision    recall  f1-score   support\n",
            "\n",
            "           0       0.86      0.86      0.86      1033\n",
            "           1       0.61      0.60      0.61       374\n",
            "\n",
            "    accuracy                           0.79      1407\n",
            "   macro avg       0.74      0.73      0.73      1407\n",
            "weighted avg       0.79      0.79      0.79      1407\n",
            "\n"
          ]
        }
      ],
      "source": [
        "# Evaluate the model\n",
        "model_evaluation(rf_model, X_val, y_val)"
      ]
    },
    {
      "cell_type": "markdown",
      "metadata": {
        "id": "YPHJY_7HFRo-"
      },
      "source": [
        "#### Random Forest with RFE"
      ]
    },
    {
      "cell_type": "code",
      "execution_count": 170,
      "metadata": {
        "colab": {
          "base_uri": "https://localhost:8080/"
        },
        "id": "d3yyiS31FUUH",
        "outputId": "01692901-ee58-4a53-8e8b-cf9b6dabc43a"
      },
      "outputs": [
        {
          "output_type": "stream",
          "name": "stdout",
          "text": [
            "Index(['TotalCharges', 'tenure', 'MonthlyCharges', 'Contract_Two year',\n",
            "       'InternetService_Fiber optic', 'PaymentMethod_Electronic check',\n",
            "       'Contract_One year', 'OnlineSecurity_Yes', 'gender', 'PaperlessBilling',\n",
            "       'StreamingTV_No internet service'],\n",
            "      dtype='object')\n"
          ]
        },
        {
          "output_type": "execute_result",
          "data": {
            "text/plain": [
              "RFE(estimator=RandomForestClassifier(max_depth=20, n_estimators=1000,\n",
              "                                     random_state=42))"
            ]
          },
          "metadata": {},
          "execution_count": 170
        }
      ],
      "source": [
        "# Random Forest with RFE\n",
        "rf_model_rfe = model_with_rfe(rf_model)\n",
        "rf_model_rfe"
      ]
    },
    {
      "cell_type": "code",
      "execution_count": 171,
      "metadata": {
        "colab": {
          "base_uri": "https://localhost:8080/"
        },
        "id": "9AcN09o8Fj5y",
        "outputId": "848354ad-d62a-4516-d5e8-838914beb701"
      },
      "outputs": [
        {
          "output_type": "stream",
          "name": "stdout",
          "text": [
            "              precision    recall  f1-score   support\n",
            "\n",
            "           0       0.85      0.83      0.84      1033\n",
            "           1       0.56      0.59      0.57       374\n",
            "\n",
            "    accuracy                           0.77      1407\n",
            "   macro avg       0.70      0.71      0.71      1407\n",
            "weighted avg       0.77      0.77      0.77      1407\n",
            "\n"
          ]
        }
      ],
      "source": [
        "model_evaluation(rf_model_rfe, X_val, y_val)"
      ]
    },
    {
      "cell_type": "markdown",
      "metadata": {
        "id": "jY3ivBnQGhuh"
      },
      "source": [
        "### Support Vector Machine"
      ]
    },
    {
      "cell_type": "code",
      "execution_count": 172,
      "metadata": {
        "colab": {
          "base_uri": "https://localhost:8080/"
        },
        "id": "b_dPBVxpGvr3",
        "outputId": "9d339940-528f-4017-fe28-126c8d69d2fa"
      },
      "outputs": [
        {
          "output_type": "execute_result",
          "data": {
            "text/plain": [
              "GridSearchCV(cv=5, estimator=SVC(random_state=42),\n",
              "             param_grid={'C': [0.1, 1.0, 10], 'kernel': ['linear', 'rbf']},\n",
              "             scoring='f1')"
            ]
          },
          "metadata": {},
          "execution_count": 172
        }
      ],
      "source": [
        "svc_hyp = {\"kernel\": ['linear', 'rbf'],\n",
        "           \"C\": [0.1, 1.0, 10]}\n",
        "\n",
        "svc_cv = GridSearchCV(SVC(random_state=seed),\n",
        "                      param_grid=svc_hyp,\n",
        "                      scoring='f1',\n",
        "                      cv=5\n",
        "                      )\n",
        "\n",
        "svc_cv.fit(train_features, train_label)"
      ]
    },
    {
      "cell_type": "code",
      "execution_count": 173,
      "metadata": {
        "id": "1QSX8IdfHqzT",
        "colab": {
          "base_uri": "https://localhost:8080/"
        },
        "outputId": "2421ad6d-c286-499f-a4ce-b4b5d1eefa53"
      },
      "outputs": [
        {
          "output_type": "stream",
          "name": "stdout",
          "text": [
            "0.85\n",
            "SVC(C=10, random_state=42)\n"
          ]
        }
      ],
      "source": [
        "print(round(svc_cv.best_score_, 2))\n",
        "print(svc_cv.best_estimator_)\n",
        "svc_model = svc_cv.best_estimator_"
      ]
    },
    {
      "cell_type": "code",
      "execution_count": 174,
      "metadata": {
        "id": "fS05NNsbHtri",
        "colab": {
          "base_uri": "https://localhost:8080/"
        },
        "outputId": "c1db2afd-e6ed-4cfe-f503-9ce6e21e1a3e"
      },
      "outputs": [
        {
          "output_type": "stream",
          "name": "stdout",
          "text": [
            "              precision    recall  f1-score   support\n",
            "\n",
            "           0       0.88      0.77      0.82      1033\n",
            "           1       0.53      0.70      0.60       374\n",
            "\n",
            "    accuracy                           0.75      1407\n",
            "   macro avg       0.70      0.73      0.71      1407\n",
            "weighted avg       0.78      0.75      0.76      1407\n",
            "\n"
          ]
        }
      ],
      "source": [
        "model_evaluation(svc_model, X_val, y_val)"
      ]
    },
    {
      "cell_type": "markdown",
      "source": [
        "After having built our three models, we notice that the Logistic Regression model is the one which gives the best performances. In the following, we will evaluate this model on the test data.  "
      ],
      "metadata": {
        "id": "_iEVh1S-pHSB"
      }
    },
    {
      "cell_type": "code",
      "source": [
        "model_evaluation(log_model, X_val, y_val)"
      ],
      "metadata": {
        "colab": {
          "base_uri": "https://localhost:8080/"
        },
        "id": "gtNjDiG4pG9k",
        "outputId": "60b80377-7a9c-4b5b-bccf-369faa46b1d0"
      },
      "execution_count": 175,
      "outputs": [
        {
          "output_type": "stream",
          "name": "stdout",
          "text": [
            "              precision    recall  f1-score   support\n",
            "\n",
            "           0       0.91      0.72      0.80      1033\n",
            "           1       0.51      0.81      0.62       374\n",
            "\n",
            "    accuracy                           0.74      1407\n",
            "   macro avg       0.71      0.76      0.71      1407\n",
            "weighted avg       0.80      0.74      0.76      1407\n",
            "\n"
          ]
        }
      ]
    },
    {
      "cell_type": "code",
      "source": [
        "model_evaluation(log_model, X_test, y_test)"
      ],
      "metadata": {
        "colab": {
          "base_uri": "https://localhost:8080/"
        },
        "outputId": "1e81d2f5-7c83-4077-cada-ba1701bbc300",
        "id": "W-Dg3y3Lp8e5"
      },
      "execution_count": 176,
      "outputs": [
        {
          "output_type": "stream",
          "name": "stdout",
          "text": [
            "              precision    recall  f1-score   support\n",
            "\n",
            "           0       0.91      0.71      0.80      1032\n",
            "           1       0.50      0.79      0.61       374\n",
            "\n",
            "    accuracy                           0.73      1406\n",
            "   macro avg       0.70      0.75      0.71      1406\n",
            "weighted avg       0.80      0.73      0.75      1406\n",
            "\n"
          ]
        }
      ]
    }
  ],
  "metadata": {
    "colab": {
      "collapsed_sections": [
        "qVOz9SIpJnNr",
        "b4vaf5XgMFOL",
        "n-bOlwrLvD8L",
        "t1UwllnG5XIC",
        "b2EAxX58LM1O",
        "YWnuBVptgNk_",
        "0AbAzzvigYhN",
        "nSgAlMForG1D"
      ],
      "name": "Customer Churn Predicition Notebook.ipynb",
      "provenance": [],
      "authorship_tag": "ABX9TyMao02eLf64k7moQO5VC0KY",
      "include_colab_link": true
    },
    "kernelspec": {
      "display_name": "Python 3",
      "name": "python3"
    },
    "language_info": {
      "name": "python"
    },
    "widgets": {
      "application/vnd.jupyter.widget-state+json": {
        "104bbe7969654b2eac6ebb80ce9082b4": {
          "model_module": "@jupyter-widgets/controls",
          "model_name": "VBoxModel",
          "model_module_version": "1.5.0",
          "state": {
            "_dom_classes": [
              "widget-interact"
            ],
            "_model_module": "@jupyter-widgets/controls",
            "_model_module_version": "1.5.0",
            "_model_name": "VBoxModel",
            "_view_count": null,
            "_view_module": "@jupyter-widgets/controls",
            "_view_module_version": "1.5.0",
            "_view_name": "VBoxView",
            "box_style": "",
            "children": [
              "IPY_MODEL_429ae16f923149dcab3a357043320d8a",
              "IPY_MODEL_b41413c797e74379ad8127239de051d4"
            ],
            "layout": "IPY_MODEL_8072faf3cffe4ab89e2f412ac7d1b4da"
          }
        },
        "429ae16f923149dcab3a357043320d8a": {
          "model_module": "@jupyter-widgets/controls",
          "model_name": "DropdownModel",
          "model_module_version": "1.5.0",
          "state": {
            "_dom_classes": [],
            "_model_module": "@jupyter-widgets/controls",
            "_model_module_version": "1.5.0",
            "_model_name": "DropdownModel",
            "_options_labels": [
              "gender",
              "SeniorCitizen",
              "Partner",
              "Dependents",
              "PhoneService",
              "MultipleLines",
              "InternetService",
              "OnlineSecurity",
              "OnlineBackup",
              "DeviceProtection",
              "TechSupport",
              "StreamingTV",
              "StreamingMovies",
              "Contract",
              "PaperlessBilling",
              "PaymentMethod",
              "Churn"
            ],
            "_view_count": null,
            "_view_module": "@jupyter-widgets/controls",
            "_view_module_version": "1.5.0",
            "_view_name": "DropdownView",
            "description": "x",
            "description_tooltip": null,
            "disabled": false,
            "index": 0,
            "layout": "IPY_MODEL_11cba03c678141eaa19048bdc8d8cbb8",
            "style": "IPY_MODEL_88538f81915c4347957fac21907a0e3a"
          }
        },
        "b41413c797e74379ad8127239de051d4": {
          "model_module": "@jupyter-widgets/output",
          "model_name": "OutputModel",
          "model_module_version": "1.0.0",
          "state": {
            "_dom_classes": [],
            "_model_module": "@jupyter-widgets/output",
            "_model_module_version": "1.0.0",
            "_model_name": "OutputModel",
            "_view_count": null,
            "_view_module": "@jupyter-widgets/output",
            "_view_module_version": "1.0.0",
            "_view_name": "OutputView",
            "layout": "IPY_MODEL_869c29a8ca754e018eff4162129220bb",
            "msg_id": "",
            "outputs": [
              {
                "output_type": "display_data",
                "data": {
                  "text/plain": "<Figure size 432x288 with 1 Axes>",
                  "image/png": "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\n"
                },
                "metadata": {}
              }
            ]
          }
        },
        "8072faf3cffe4ab89e2f412ac7d1b4da": {
          "model_module": "@jupyter-widgets/base",
          "model_name": "LayoutModel",
          "model_module_version": "1.2.0",
          "state": {
            "_model_module": "@jupyter-widgets/base",
            "_model_module_version": "1.2.0",
            "_model_name": "LayoutModel",
            "_view_count": null,
            "_view_module": "@jupyter-widgets/base",
            "_view_module_version": "1.2.0",
            "_view_name": "LayoutView",
            "align_content": null,
            "align_items": null,
            "align_self": null,
            "border": null,
            "bottom": null,
            "display": null,
            "flex": null,
            "flex_flow": null,
            "grid_area": null,
            "grid_auto_columns": null,
            "grid_auto_flow": null,
            "grid_auto_rows": null,
            "grid_column": null,
            "grid_gap": null,
            "grid_row": null,
            "grid_template_areas": null,
            "grid_template_columns": null,
            "grid_template_rows": null,
            "height": null,
            "justify_content": null,
            "justify_items": null,
            "left": null,
            "margin": null,
            "max_height": null,
            "max_width": null,
            "min_height": null,
            "min_width": null,
            "object_fit": null,
            "object_position": null,
            "order": null,
            "overflow": null,
            "overflow_x": null,
            "overflow_y": null,
            "padding": null,
            "right": null,
            "top": null,
            "visibility": null,
            "width": null
          }
        },
        "11cba03c678141eaa19048bdc8d8cbb8": {
          "model_module": "@jupyter-widgets/base",
          "model_name": "LayoutModel",
          "model_module_version": "1.2.0",
          "state": {
            "_model_module": "@jupyter-widgets/base",
            "_model_module_version": "1.2.0",
            "_model_name": "LayoutModel",
            "_view_count": null,
            "_view_module": "@jupyter-widgets/base",
            "_view_module_version": "1.2.0",
            "_view_name": "LayoutView",
            "align_content": null,
            "align_items": null,
            "align_self": null,
            "border": null,
            "bottom": null,
            "display": null,
            "flex": null,
            "flex_flow": null,
            "grid_area": null,
            "grid_auto_columns": null,
            "grid_auto_flow": null,
            "grid_auto_rows": null,
            "grid_column": null,
            "grid_gap": null,
            "grid_row": null,
            "grid_template_areas": null,
            "grid_template_columns": null,
            "grid_template_rows": null,
            "height": null,
            "justify_content": null,
            "justify_items": null,
            "left": null,
            "margin": null,
            "max_height": null,
            "max_width": null,
            "min_height": null,
            "min_width": null,
            "object_fit": null,
            "object_position": null,
            "order": null,
            "overflow": null,
            "overflow_x": null,
            "overflow_y": null,
            "padding": null,
            "right": null,
            "top": null,
            "visibility": null,
            "width": null
          }
        },
        "88538f81915c4347957fac21907a0e3a": {
          "model_module": "@jupyter-widgets/controls",
          "model_name": "DescriptionStyleModel",
          "model_module_version": "1.5.0",
          "state": {
            "_model_module": "@jupyter-widgets/controls",
            "_model_module_version": "1.5.0",
            "_model_name": "DescriptionStyleModel",
            "_view_count": null,
            "_view_module": "@jupyter-widgets/base",
            "_view_module_version": "1.2.0",
            "_view_name": "StyleView",
            "description_width": ""
          }
        },
        "869c29a8ca754e018eff4162129220bb": {
          "model_module": "@jupyter-widgets/base",
          "model_name": "LayoutModel",
          "model_module_version": "1.2.0",
          "state": {
            "_model_module": "@jupyter-widgets/base",
            "_model_module_version": "1.2.0",
            "_model_name": "LayoutModel",
            "_view_count": null,
            "_view_module": "@jupyter-widgets/base",
            "_view_module_version": "1.2.0",
            "_view_name": "LayoutView",
            "align_content": null,
            "align_items": null,
            "align_self": null,
            "border": null,
            "bottom": null,
            "display": null,
            "flex": null,
            "flex_flow": null,
            "grid_area": null,
            "grid_auto_columns": null,
            "grid_auto_flow": null,
            "grid_auto_rows": null,
            "grid_column": null,
            "grid_gap": null,
            "grid_row": null,
            "grid_template_areas": null,
            "grid_template_columns": null,
            "grid_template_rows": null,
            "height": null,
            "justify_content": null,
            "justify_items": null,
            "left": null,
            "margin": null,
            "max_height": null,
            "max_width": null,
            "min_height": null,
            "min_width": null,
            "object_fit": null,
            "object_position": null,
            "order": null,
            "overflow": null,
            "overflow_x": null,
            "overflow_y": null,
            "padding": null,
            "right": null,
            "top": null,
            "visibility": null,
            "width": null
          }
        },
        "76af2de0daa44ab0af0540c0016639f7": {
          "model_module": "@jupyter-widgets/controls",
          "model_name": "VBoxModel",
          "model_module_version": "1.5.0",
          "state": {
            "_dom_classes": [
              "widget-interact"
            ],
            "_model_module": "@jupyter-widgets/controls",
            "_model_module_version": "1.5.0",
            "_model_name": "VBoxModel",
            "_view_count": null,
            "_view_module": "@jupyter-widgets/controls",
            "_view_module_version": "1.5.0",
            "_view_name": "VBoxView",
            "box_style": "",
            "children": [
              "IPY_MODEL_103c0262e34248ae9258aaa3e5454890",
              "IPY_MODEL_19682a338999467cb87da28a1510df99"
            ],
            "layout": "IPY_MODEL_4cab2fad6fc147f88a681497eb9a27bc"
          }
        },
        "103c0262e34248ae9258aaa3e5454890": {
          "model_module": "@jupyter-widgets/controls",
          "model_name": "DropdownModel",
          "model_module_version": "1.5.0",
          "state": {
            "_dom_classes": [],
            "_model_module": "@jupyter-widgets/controls",
            "_model_module_version": "1.5.0",
            "_model_name": "DropdownModel",
            "_options_labels": [
              "gender",
              "SeniorCitizen",
              "Partner",
              "Dependents",
              "PhoneService",
              "MultipleLines",
              "InternetService",
              "OnlineSecurity",
              "OnlineBackup",
              "DeviceProtection",
              "TechSupport",
              "StreamingTV",
              "StreamingMovies",
              "Contract",
              "PaperlessBilling",
              "PaymentMethod",
              "Churn"
            ],
            "_view_count": null,
            "_view_module": "@jupyter-widgets/controls",
            "_view_module_version": "1.5.0",
            "_view_name": "DropdownView",
            "description": "x",
            "description_tooltip": null,
            "disabled": false,
            "index": 0,
            "layout": "IPY_MODEL_7b206638e0e040bb911afbd3d88d0e26",
            "style": "IPY_MODEL_f0ef4fae5859499f851801e0757b643f"
          }
        },
        "19682a338999467cb87da28a1510df99": {
          "model_module": "@jupyter-widgets/output",
          "model_name": "OutputModel",
          "model_module_version": "1.0.0",
          "state": {
            "_dom_classes": [],
            "_model_module": "@jupyter-widgets/output",
            "_model_module_version": "1.0.0",
            "_model_name": "OutputModel",
            "_view_count": null,
            "_view_module": "@jupyter-widgets/output",
            "_view_module_version": "1.0.0",
            "_view_name": "OutputView",
            "layout": "IPY_MODEL_63652cba30414289ae3cde0f96e2a473",
            "msg_id": "",
            "outputs": [
              {
                "output_type": "display_data",
                "data": {
                  "text/plain": "<Figure size 432x288 with 1 Axes>",
                  "image/png": "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\n"
                },
                "metadata": {}
              }
            ]
          }
        },
        "4cab2fad6fc147f88a681497eb9a27bc": {
          "model_module": "@jupyter-widgets/base",
          "model_name": "LayoutModel",
          "model_module_version": "1.2.0",
          "state": {
            "_model_module": "@jupyter-widgets/base",
            "_model_module_version": "1.2.0",
            "_model_name": "LayoutModel",
            "_view_count": null,
            "_view_module": "@jupyter-widgets/base",
            "_view_module_version": "1.2.0",
            "_view_name": "LayoutView",
            "align_content": null,
            "align_items": null,
            "align_self": null,
            "border": null,
            "bottom": null,
            "display": null,
            "flex": null,
            "flex_flow": null,
            "grid_area": null,
            "grid_auto_columns": null,
            "grid_auto_flow": null,
            "grid_auto_rows": null,
            "grid_column": null,
            "grid_gap": null,
            "grid_row": null,
            "grid_template_areas": null,
            "grid_template_columns": null,
            "grid_template_rows": null,
            "height": null,
            "justify_content": null,
            "justify_items": null,
            "left": null,
            "margin": null,
            "max_height": null,
            "max_width": null,
            "min_height": null,
            "min_width": null,
            "object_fit": null,
            "object_position": null,
            "order": null,
            "overflow": null,
            "overflow_x": null,
            "overflow_y": null,
            "padding": null,
            "right": null,
            "top": null,
            "visibility": null,
            "width": null
          }
        },
        "7b206638e0e040bb911afbd3d88d0e26": {
          "model_module": "@jupyter-widgets/base",
          "model_name": "LayoutModel",
          "model_module_version": "1.2.0",
          "state": {
            "_model_module": "@jupyter-widgets/base",
            "_model_module_version": "1.2.0",
            "_model_name": "LayoutModel",
            "_view_count": null,
            "_view_module": "@jupyter-widgets/base",
            "_view_module_version": "1.2.0",
            "_view_name": "LayoutView",
            "align_content": null,
            "align_items": null,
            "align_self": null,
            "border": null,
            "bottom": null,
            "display": null,
            "flex": null,
            "flex_flow": null,
            "grid_area": null,
            "grid_auto_columns": null,
            "grid_auto_flow": null,
            "grid_auto_rows": null,
            "grid_column": null,
            "grid_gap": null,
            "grid_row": null,
            "grid_template_areas": null,
            "grid_template_columns": null,
            "grid_template_rows": null,
            "height": null,
            "justify_content": null,
            "justify_items": null,
            "left": null,
            "margin": null,
            "max_height": null,
            "max_width": null,
            "min_height": null,
            "min_width": null,
            "object_fit": null,
            "object_position": null,
            "order": null,
            "overflow": null,
            "overflow_x": null,
            "overflow_y": null,
            "padding": null,
            "right": null,
            "top": null,
            "visibility": null,
            "width": null
          }
        },
        "f0ef4fae5859499f851801e0757b643f": {
          "model_module": "@jupyter-widgets/controls",
          "model_name": "DescriptionStyleModel",
          "model_module_version": "1.5.0",
          "state": {
            "_model_module": "@jupyter-widgets/controls",
            "_model_module_version": "1.5.0",
            "_model_name": "DescriptionStyleModel",
            "_view_count": null,
            "_view_module": "@jupyter-widgets/base",
            "_view_module_version": "1.2.0",
            "_view_name": "StyleView",
            "description_width": ""
          }
        },
        "63652cba30414289ae3cde0f96e2a473": {
          "model_module": "@jupyter-widgets/base",
          "model_name": "LayoutModel",
          "model_module_version": "1.2.0",
          "state": {
            "_model_module": "@jupyter-widgets/base",
            "_model_module_version": "1.2.0",
            "_model_name": "LayoutModel",
            "_view_count": null,
            "_view_module": "@jupyter-widgets/base",
            "_view_module_version": "1.2.0",
            "_view_name": "LayoutView",
            "align_content": null,
            "align_items": null,
            "align_self": null,
            "border": null,
            "bottom": null,
            "display": null,
            "flex": null,
            "flex_flow": null,
            "grid_area": null,
            "grid_auto_columns": null,
            "grid_auto_flow": null,
            "grid_auto_rows": null,
            "grid_column": null,
            "grid_gap": null,
            "grid_row": null,
            "grid_template_areas": null,
            "grid_template_columns": null,
            "grid_template_rows": null,
            "height": null,
            "justify_content": null,
            "justify_items": null,
            "left": null,
            "margin": null,
            "max_height": null,
            "max_width": null,
            "min_height": null,
            "min_width": null,
            "object_fit": null,
            "object_position": null,
            "order": null,
            "overflow": null,
            "overflow_x": null,
            "overflow_y": null,
            "padding": null,
            "right": null,
            "top": null,
            "visibility": null,
            "width": null
          }
        },
        "4c0779d54c754ceead194a79b80d508e": {
          "model_module": "@jupyter-widgets/controls",
          "model_name": "VBoxModel",
          "model_module_version": "1.5.0",
          "state": {
            "_dom_classes": [
              "widget-interact"
            ],
            "_model_module": "@jupyter-widgets/controls",
            "_model_module_version": "1.5.0",
            "_model_name": "VBoxModel",
            "_view_count": null,
            "_view_module": "@jupyter-widgets/controls",
            "_view_module_version": "1.5.0",
            "_view_name": "VBoxView",
            "box_style": "",
            "children": [
              "IPY_MODEL_e90bfb59116e4102bf6f9b44b2b6ea12",
              "IPY_MODEL_60099a8f7af3499c8d25c34e7adb5830"
            ],
            "layout": "IPY_MODEL_063e53f701e148a78b133929ef2ce2ed"
          }
        },
        "e90bfb59116e4102bf6f9b44b2b6ea12": {
          "model_module": "@jupyter-widgets/controls",
          "model_name": "DropdownModel",
          "model_module_version": "1.5.0",
          "state": {
            "_dom_classes": [],
            "_model_module": "@jupyter-widgets/controls",
            "_model_module_version": "1.5.0",
            "_model_name": "DropdownModel",
            "_options_labels": [
              "tenure",
              "MonthlyCharges",
              "TotalCharges"
            ],
            "_view_count": null,
            "_view_module": "@jupyter-widgets/controls",
            "_view_module_version": "1.5.0",
            "_view_name": "DropdownView",
            "description": "x",
            "description_tooltip": null,
            "disabled": false,
            "index": 0,
            "layout": "IPY_MODEL_82e60e0193964e49b2394b13e568ce31",
            "style": "IPY_MODEL_306f926c376d4f829c807f50e1707059"
          }
        },
        "60099a8f7af3499c8d25c34e7adb5830": {
          "model_module": "@jupyter-widgets/output",
          "model_name": "OutputModel",
          "model_module_version": "1.0.0",
          "state": {
            "_dom_classes": [],
            "_model_module": "@jupyter-widgets/output",
            "_model_module_version": "1.0.0",
            "_model_name": "OutputModel",
            "_view_count": null,
            "_view_module": "@jupyter-widgets/output",
            "_view_module_version": "1.0.0",
            "_view_name": "OutputView",
            "layout": "IPY_MODEL_b83164abd82541928eeb1ed8f2e7b8db",
            "msg_id": "",
            "outputs": [
              {
                "output_type": "display_data",
                "data": {
                  "text/plain": "<Figure size 360x360 with 1 Axes>",
                  "image/png": "iVBORw0KGgoAAAANSUhEUgAAAWAAAAFxCAYAAABN63JyAAAABHNCSVQICAgIfAhkiAAAAAlwSFlzAAALEgAACxIB0t1+/AAAADh0RVh0U29mdHdhcmUAbWF0cGxvdGxpYiB2ZXJzaW9uMy4yLjIsIGh0dHA6Ly9tYXRwbG90bGliLm9yZy+WH4yJAAAgAElEQVR4nO3deXxU9aH//9eZmSxMQvYQSNgSCLIvEhQXSIDc6nVpLbX01qqlblUsVO0i9f60tmqLrRQEUfSq2ILaW6+C1W/rEhFQkBoIAQzKDoIsIQsh+zLz+f0xJRJIIOucSXg/H488IGfOnPM+Seadk8+cxTLGGERExO8cdgcQETlfqYBFRGyiAhYRsYkKWETEJipgERGbqIBFRGyiApYW69+/P48++qjdMTqVuro6brnlFmJjY7Esi1WrVtkdSQKAClgAmD59OpmZmY0+ZlkWy5Ytq/88Ozube++9t1nL/fjjj7Esi3379rVHzE7r9ddf55VXXuGtt97i8OHDXHrppWfMc/DgQZXzecZldwDpfOLj4+2O0KSamhqCg4PtjnGGnTt3kpSU1GjxBjJjDHV1dQQFBdkdpUvSHrC02OlDEG+++SZjxozB7XYTFRXFRRddxKZNm9i3bx8TJkwAIDk5GcuyyMjIAHwv7CeeeIKUlBSCg4MZMGAA8+fPb7CewsJCvvvd7xIWFkZCQgIPPvggP/zhDxvsqWdkZHDrrbfy4IMP0qtXL/r27QvAK6+8wsUXX0xkZCRxcXFcffXV7Nixo/55+/btw7IsXnnlFa644grcbjeDBw9m9erVfPXVV1x11VWEhYUxdOhQPvroo7N+Pc61LRkZGTz44IPs2bMHy7Lo379/o8vp06cPAJMmTTpjvvfff5/LLruMbt26kZSUxI9+9CMKCwvrHz/5F8xzzz1Hv379iIiI4Jvf/CZHjx6tn+fhhx9m4MCBDdZ5+l8oL730Ei6Xiw8//JAxY8YQEhJCVlYWtbW1PPzwwyQnJxMaGsqwYcN49tlnz/p1kWYwIsaYH/7wh2bKlCmNPgaYpUuX1n/er18/88gjjxhjjDl8+LAJCgoyjz/+uNmzZ4/Ztm2befnll82WLVtMXV2defPNNw1gPv30U3P48GFTWFhojDHmqaeeMqGhoebZZ581O3bsMM8884wJCQkxzz//fP16rr32WpOammpWrlxpPvvsMzN9+nQTERHRIGd6eroJDw83P/7xj01eXp7ZsmWLMcaYF1980fz97383u3btMjk5Oebaa681AwcONNXV1cYYY/bu3WsAk5KSYpYvX262b99urrvuOtOzZ08zZcoU88Ybb5jt27eb73znO6Z3796mpqamya/dubalsLDQ/OxnPzP9+/c3hw8fNvn5+Y0uJycnxwDm9ddfbzDfBx98YLp162YWLFhgduzYYT799FOTkZFhJk6caLxeb/33LyIiwvzXf/2X2bp1q1m3bp3p37+/ufHGG+uX/+tf/9oMGDCgwTo/+ugjA5i9e/caY4xZsmSJsSzLjBs3zqxcudLs3r3b5Ofnmx/+8IdmxIgR5t133zV79uwxf/3rX01kZGSD75e0nApYjDG+F7DT6TRhYWFnfJytgE+WxskX8OlOf4Gf1Lt3b/OLX/yiwbR77rnHJCcnG2OM2bFjhwFMVlZW/eM1NTWmd+/eZxRwamqq8Xg8Z92+wsJCA5iPP/7YGPN1Ac+bN69+nk8//dQA5oknnqifdnL7tm7d2uSyz7UtxjRefqc7cOCAAcyHH37YYHp6erq5//77G0zbv3+/AcymTZuMMb7vX3x8vKmqqqqfZ86cOaZnz55nzdBYAQNmzZo19fPs2bPHWJZlPv/88wbP/c1vfmNGjRp11m2Ss9MQhNS7+OKLyc3NPePjbEaOHMkVV1zB8OHD+fa3v82TTz7JgQMHzvqcEydOcPDgQSZOnNhgenp6Ovv27aOiooJt27YBMH78+PrHg4KCSEtLO2N5Y8eOxeFo+KOcm5vLt7/9bZKTk+nevXv90MT+/fsbzDdq1Kj6//fs2bN+m06flp+f3+ptaavs7Gzmz59PeHh4/cfQoUMB39jySYMHDyYkJKT+88TExAZDEC0xbty4+v9v2LABYwxpaWkNMvzud79rsH5pOb0JJ/W6det2xhjhuTidTv75z3+SnZ1NVlYWr7/+OrNnz+a1117jmmuuaXMmy7LOOU9YWFiDzysqKvjGN77B5ZdfzpIlS0hISABg2LBh1NTUNJj31DeXTq6rsWler7d1G9AOvF4v999/PzfddNMZj538BQGc8eajZVmYUy526HA4GnwOUFtbe8YynU4noaGhDdYPsG7dOtxu9xnrkNbTHrC0mWVZXHTRRTzwwAOsWbOG9PR0lixZAnxdCh6Pp37+iIgIevfuzZo1axosZ/Xq1SQnJ+N2u+v38D755JP6x+vq6ti4ceM583z++eccO3aMxx57jIyMDIYMGUJxcfEZ5dMemrMtzdXY1wogLS2NvLw8Bg4ceMZHeHh4s5ffo0cP8vPzGyw/JyfnnM8bO3YsAF9++eUZ6x8wYECz1y9nUgFLm6xbt45HHnmEf/3rX3z55Zd88MEHbNmypb5A+/Xrh8Ph4B//+Af5+fmUlJQA8Ktf/YqFCxfyP//zP+zcuZNnn32WZ555hgceeACA1NRUrr32Wu6++25Wr17Ntm3b+PGPf8yJEyfOudfVr18/QkJCWLhwIbt37+aDDz7gpz/9aYftrZ1rW5orLi6O8PBw3nvvPY4cOUJxcTEAv/3tb3nzzTe57777yM3NZffu3bzzzjvceuutVFZWNnv5kyZNoqKigoceeojdu3fz2muvsWjRonM+b+DAgdxyyy3cfvvtLF26lF27drF582ZefPFFHn/88RZto5zG3iFoCRStPQris88+M//5n/9pEhISTHBwsOnbt6/5+c9/Xn+0gTHGPP744yYxMdE4HA6Tnp5ujDHG6/WaP/zhD6Z///7G5XKZ5OTkBm+IGWNMQUGB+c53vmO6detm4uPjzYMPPmiuv/56c80119TPk56ebm699dYzMr/22mtm4MCBJiQkxIwePdqsWrXKOJ1Os2TJEmPM12/CffTRR/XPaexNsMOHDxvAvP/++01+7ZqzLc15E84YY/785z+b/v37G6fTafr161c/fc2aNWbKlCkmPDzcuN1uM3jwYPPTn/7U1NbWGmMa//4tXbrUnP4Sf+GFF0xycrIJDQ01V155pXn11VfPeBPO6XSekauurs48/vjj5oILLjBBQUEmNjbWTJw40fztb3875zZJ0yxjdEcM6Rw8Hg+DBw/mm9/8JnPnzrU7jkib6U04CVhr1qwhPz+fMWPGUFpayrx589i3bx/Tp0+3O5pIu1ABS8DyeDw8+uij7Nq1i6CgIIYPH86HH37IiBEj7I4m0i40BCEiYhMdBSEiYpPzYgji0KFDLX5OTEwMRUVFHZCmdQItDwRepkDLA4GXKdDyQOBl6og8iYmJjU7XHnATTj+11W6BlgcCL1Og5YHAyxRoeSDwMvkzT2BtuYjIeUQFLCJiExWwiIhNVMAiIjZRAYuI2EQFLCJiExWwiIhNVMAiIjZRAYuI2EQFLCJiExWwiIhNVMAiIjZRAYuI2OS8uBxla1QXF+Iqaf0l6UyoG09IaDsmEpGuRgXcBG95GTWr32n184PTrwQVsIichYYgRERsogIWEbGJClhExCYqYBERm/jlTbinn36anJwcIiMjmTt3LgBLly5l48aNuFwuEhISmDFjBmFhYQAsX76clStX4nA4+NGPfsTo0aMByM3NZcmSJXi9XqZMmcJ1113nj/giIh3CL3vAGRkZPPDAAw2mjRw5krlz5/LEE0/Qq1cvli9fDsDBgwdZt24df/rTn/jv//5vXnjhBbxeL16vlxdeeIEHHniAefPmsXbtWg4ePOiP+CIiHcIvBTx06FDCw8MbTBs1ahROpxOAQYMG1d8GOjs7m0svvZSgoCB69OhBz5492bVrF7t27aJnz54kJCTgcrm49NJLyc7O9kd8EZEOERDHAa9cuZJLL70UgKKiIlJTU+sfi4mJqS/n2NjY+umxsbHs3Lmz0eVlZWWRlZUFwJw5c4iLi2txpqpDlbjd7hY/7yRnSAhRrVhvU1wuV6u2oyMFWqZAywOBlynQ8kDgZfJnHtsL+I033sDpdDJhwoR2W2ZmZiaZmZn1nxcUFLR4GWFeLxUVFa3OEFxdTXkr1tuUuLi4Vm1HRwq0TIGWBwIvU6DlgcDL1BF5EhMTG51uawGvWrWKjRs38tBDD2FZFuDb4y0sLKyfp6ioiJiYGIAG0wsLC+uni4h0RrYdhpabm8ubb77J/fffT0hISP30tLQ01q1bR21tLfn5+Rw+fJiBAwcyYMAADh8+TH5+PnV1daxbt460tDS74ouItJlf9oDnz5/Ptm3bKC0t5c4772TatGksX76curo6HnnkEQBSU1O544476NOnD5dccgn33XcfDoeDW2+9FYfD93villtu4bHHHsPr9TJp0iT69Onjj/giIh3CLwV8zz33nDFt8uTJTc4/depUpk6desb0Cy+8kAsvvLBds4mI2EVnwomI2EQFLCJiExWwiIhNVMAiIjZRAYuI2EQFLCJiExWwiIhNVMAiIjZRAYuI2EQFLCJiExWwiIhNVMAiIjZRAYuI2EQFLCJiExWwiIhNVMAiIjZRAYuI2EQFLCJiExWwiIhNVMAiIjZRAYuI2EQFLCJiExWwiIhNVMAiIjZRAYuI2EQFLCJiExWwiIhNVMAiIjZRAYuI2EQFLCJiExWwiIhNVMAiIjZRAYuI2EQFLCJiExWwiIhNVMAiIjZRAYuI2MTlj5U8/fTT5OTkEBkZydy5cwEoKytj3rx5HDt2jPj4eO69917Cw8MxxrBkyRI2bdpESEgIM2bMICUlBYBVq1bxxhtvADB16lQyMjL8EV9EpEP4ZQ84IyODBx54oMG0FStWMGLECBYsWMCIESNYsWIFAJs2beLIkSMsWLCAO+64g+effx7wFfb//d//8bvf/Y7f/e53/N///R9lZWX+iC8i0iH8UsBDhw4lPDy8wbTs7GzS09MBSE9PJzs7G4ANGzYwceJELMti0KBBlJeXU1xcTG5uLiNHjiQ8PJzw8HBGjhxJbm6uP+KLiHQI28aAS0pKiI6OBiAqKoqSkhIAioqKiIuLq58vNjaWoqIiioqKiI2NrZ8eExNDUVGRf0OLiLQjv4wBn4tlWViW1W7Ly8rKIisrC4A5c+Y0KPTmqjpUidvtbnUGZ0gIUa1Yb1NcLlertqMjBVqmQMsDgZcp0PJA4GXyZx7bCjgyMpLi4mKio6MpLi4mIiIC8O3ZFhQU1M9XWFhITEwMMTExbNu2rX56UVERQ4cObXTZmZmZZGZm1n9+6vKaK8zrpaKiosXPOym4upryVqy3KXFxca3ajo4UaJkCLQ8EXqZAywOBl6kj8iQmJjY63bYhiLS0NFavXg3A6tWrGTduXP30NWvWYIxhx44duN1uoqOjGT16NJs3b6asrIyysjI2b97M6NGj7YovItJmftkDnj9/Ptu2baO0tJQ777yTadOmcd111zFv3jxWrlxZfxgawJgxY8jJyWHWrFkEBwczY8YMAMLDw/nOd77Dr371KwCuv/76M97YExHpTCxjjLE7REc7dOhQi58TVlVO6XtvtnqdwelXUhcZ0+rnny7Q/kyDwMsUaHkg8DIFWh4IvEznxRCEiMj5TgUsImITFbCIiE1UwCIiNlEBi4jYRAUsImITFbCIiE1UwCIiNlEBi4jYRAUsImITFbCIiE1UwCIiNlEBi4jYRAUsImITFbCIiE1UwCIiNlEBi4jYRAUsImITFbCIiE1UwCIiNlEBi4jYRAUsImITFbCIiE1UwCIiNlEBi4jYRAUsImITFbCIiE1UwCIiNlEBi4jYRAUsImITFbCIiE1cdgcQEfEXZ3UVVlXFWeeprCrHVV3d6GMm1I0nJLTd8qiAReS8YVVVULP6nbPO43K7qalovKSD06+EdixgDUGIiNhEBSwiYhMVsIiITVTAIiI2UQGLiNjE9qMg3n77bVauXIllWfTp04cZM2Zw/Phx5s+fT2lpKSkpKcycOROXy0VtbS1PPfUUe/bsoXv37txzzz306NHD7k0QEWkVW/eAi4qK+Oc//8mcOXOYO3cuXq+XdevWsWzZMq6++moWLlxIWFgYK1euBGDlypWEhYWxcOFCrr76al5++WU744uItIntQxBer5eamho8Hg81NTVERUWRl5fH+PHjAcjIyCA7OxuADRs2kJGRAcD48eP57LPPMMbYFV1EpE1sHYKIiYnh2muv5a677iI4OJhRo0aRkpKC2+3G6XTWz1NUVAT49phjY2MBcDqduN1uSktLiYiIaLDcrKwssrKyAJgzZw5xcXEtzlZ1qBK3293qbXOGhBDVivU2xeVytWo7OlKgZQq0PBB4mQItD/g3U2VVOa5zvK4dDkeTr/12f12325JaoaysjOzsbBYtWoTb7eZPf/oTubm5bV5uZmYmmZmZ9Z8XFBS0eBlhXi8VTZwN0xzB1dWUt2K9TYmLi2vVdnSkQMsUaHkg8DIFWh7wbyZXdXWTZ7md5Ha7m3ztt/Z1nZiY2Oh0W4cgtm7dSo8ePYiIiMDlcnHxxRezfft2Kioq8Hg8gG+vNyYmBvDtDRcWFgLg8XioqKige/futuUXEWkLWws4Li6OnTt3Ul1djTGGrVu30rt3b4YNG8b69esBWLVqFWlpaQCMHTuWVatWAbB+/XqGDRuGZVl2xRcRaRNbhyBSU1MZP348999/P06nk/79+5OZmcmFF17I/Pnz+etf/0pycjKTJ08GYPLkyTz11FPMnDmT8PBw7rnnHjvji4i0ie3HAU+bNo1p06Y1mJaQkMDvf//7M+YNDg7mvvvu81c0EZEOZfthaCIi5ysVsIiITVTAIiI2UQGLiNhEBSwiYhMVsIiITVTAIiI2UQGLiNhEBSwiYhMVsIiITVTAIiI2UQGLiNhEBSwiYhMVsIiITZpdwJ988kmj009eOF1ERFqm2QW8ePHiRqc/++yz7RZGROR8cs4Lsh89ehTw3T4+Pz+/wW3gjx49SnBwcMel60RMbQ2UngDLgqhou+OISCdwzgKeNWtW/f9nzpzZ4LGoqCi++93vtn+qTsQYL+zeDjvywFPnmxgcgicsAjPlWt2zTkSadM4C/t///V8Afv3rX/Ob3/ymwwN1JsYY2LIBvtwDCUnQb4CvhPfuoO5/n8c6fBB+cCeWQ+91isiZmn1POJVvI3Zt85Vv6lCswSPrJ5tevXGWleFZ9Q8ICsL6r9ttDCkigarZBZyfn8+rr77Kvn37qKqqavDYM8880+7BAp0pLYHteZDYFy4Y0eAxy3LgvPq7eJ1OzAdv4e2fimN8hj1BRSRgNbuAn3zySRISErj55psJCQnpyEwBzxgDWzeAywXDL2x0nNeyLKzv3oL5cjdm2dOYlAuwevSyIa2IBKpmF/DBgwd55JFHcGg8EwrzofAYDB+LFRLa5GyW04njtp/j/fXdeF9+Bsc9v9GbciJSr9ltOmTIEPbt29eBUTqRndsgJBT6ppxzVismDmvqzbAtF/PpGj+EE5HOotl7wPHx8Tz22GNcdNFFREVFNXjse9/7XrsHC1TmeBEUHIWho7GczmY9x0r/T8zHWZjlSzEXXooVFNTBKUWkM2j2HnB1dTVjx47F4/FQWFjY4OO88uUecDibtfd7kuVw4Jh6MxTmY1b/swPDiUhn0uw94BkzZnRkjk7BeOrgq/3QqzdWUAvPABw6GgaPxPy/v2Euy8Tq5u6YkCLSaTR7D/jo0aNNfpw3Dh+EutoW7f2eZFkWjqk/hLITmPdWdEA4Eelsmr0HfOopyac7ebZcl3foS+jmhtgerXq6lZwKYy/FvL8CM/karO4R7RxQRDqTZhfw6SV7/PhxXnvtNYYMGdLuoQKRqa2FY0egf2qbDiVzfOsHeHM+wax8C+tbP2jHhCLS2bT6oN6oqCimT5/OK6+80p55Alf+IfB6oVfvNi3G6tUHRl+MWfk2pqqincKJSGfUprMqDh06RHV1dXtlCWyHD/qO/Y2Oa/OiHP/5Xagox6x+tx2CiUhn1ewhiIceeqjBn97V1dUcOHCA66+/vkOCBRLj9UD+Yejdr13OZLOSU2HIKMz7b/rGgnVcsMh5qdkFPHny5Aafh4aG0q9fP3r1Og+ub1BU4LvMZI/Edluk48rv4J33EOaTD7AmXtluyxWRzqPZBZyRkdGBMQLcsSO+O13Ete7oh0YNGQX9UzHvLsdc/h9YjuadVSciXUezC7iuro433niDNWvWUFxcTHR0NBMnTmTq1Km4XM1eTOeUfxhi4rFc7TdUYFkWjiun4l38OGz6F4y9tN2WLSKdQ7Obc9myZezevZvbb7+d+Ph4jh07xuuvv05FRQXTp0/vwIj2MlWVcOI4nHLB9XYzZjzE98T77hs4LrxEV0oTOc80+yiI9evX88tf/pJRo0aRmJjIqFGj+PnPf97k7eq7jMJ837/xPdt90ZbDifWN62DvDtiZ1+7LF5HA1uw94FPvhtyeysvLWbx4MQcOHMCyLO666y4SExOZN28ex44dIz4+nnvvvZfw8HCMMSxZsoRNmzYREhLCjBkzSElp+WnBLVKQD64giIw697ytYF06BfP3V/G+8wbOQcM7ZB0iEpiavQd8ySWX8Pjjj5Obm8vBgwfJzc3lj3/8I+PHj29TgCVLljB69Gjmz5/PH//4R5KSklixYgUjRoxgwYIFjBgxghUrfNdO2LRpE0eOHGHBggXccccdPP/8821ad7MU5kNsPJbVMReit4JDsCZdDVs3YL76skPWISKBqdmtcuONNzJixAheeOEFZs+ezYsvvsjw4cO56aabWr3yiooKPv/88/pD3FwuF2FhYWRnZ5Oeng5Aeno62dnZAGzYsIGJEydiWRaDBg2ivLyc4uLiVq//XExVJZSXtvraD81lTboKgkMw7y3v0PWISGA55xDEF198wYYNG7jxxhv53ve+1+Di68uWLWPPnj0MGjSoVSvPz88nIiKCp59+mv3795OSksL06dMpKSkhOjoa8J3yXFJSAkBRURFxcV+fiRYbG0tRUVH9vCdlZWWRlZUFwJw5cxo8p7mqDlUSUlZCNRCa1Benu2WXj3SGhBDV3PXGxXEi81oq31tB9C2zcMbGnzGLy+Vq1XZ0pEDLFGh5IPAyBVoe8G+myqpyXOd4LTscDtxNzNOi13UznLOAly9fzhVXXNHoY8OHD+eNN95g9uzZrVq5x+Nh79693HLLLaSmprJkyZL64YaTLMtq8dEBmZmZZGZm1n9eUFDQ4mxhXi/Vhw+C00VVcChWRcuu2xBcXU15C9ZrLv8G/PMNCl97Ccf1Pzrj8bi4uFZtR0cKtEyBlgcCL1Og5QH/ZnJVV1Nzjtey2+2mool5Wvq6PikxsfGTuM45BLFv3z5Gjx7d6GMjRoxg7969LQ5zUmxsLLGxsaSmpgIwfvx49u7dS2RkZP3QQnFxMRERvss2xsTENPhGFRYWEhMT0+r1n1NxIUTHYPnhRqRWfE+stMswq9/BVJR3+PpExH7nbJbKykrq6uoafczj8VBZWdnqlUdFRREbG8uhQ4cA2Lp1K7179yYtLY3Vq1cDsHr1asaNGwdAWloaa9aswRjDjh07cLvdZww/tBdTU+07/jfKf3+uWVdMhapKzEe6SI/I+eCcQxBJSUls3ry5vgRPtXnzZpKSktoU4JZbbmHBggXU1dXRo0cPZsyYgTGGefPmsXLlyvrD0ADGjBlDTk4Os2bNIjg4uENvk+Q5sBeMgejYDlvH6ax+A3wX6cn6O2bKte165p2IBJ5zFvDVV1/Nc889h9frZdy4cTgcDrxeL9nZ2bzwwgvcfPPNbQrQv39/5syZc8b0hx566IxplmVx2223tWl9zeXZt8v3Hz8WMIDjG9/G++TDmH+twbpsil/XLSL+dc4Cvvzyyzl+/DiLFi2itraWiIgITpw4QVBQENOmTePyyy/3R06/8+zbCe4wrJBQ/6542Bjo3R/z7huYSyb5ZfxZROzRrDPhrrnmGiZPnsyOHTsoKysjPDycQYMGNXmoRlfg2bfL73u/8O+jPq74NuaFebB1I4w6c+hHRLqGZp+K7Ha7mzwaoqsxRQWY40WQ1M+W9VtpEzDLl+J97w2cKmCRLkt/3zZm7w7fv+1w+6HWsFwurP/4FuzIw+zZbksGEel4XfxCvq1j9mwHlwsiOuYCPM3huiid2r+/Cm+9imv6LN8ZPC28/54JdePx9xi2iDSbCrgRZu92nL3743Xad5cKh/FCnxS8n+VQ/fdXcfVKOucZPKcLTr/SdyNREQlIGoI4jamrg/27cPYfaHcUSBkEQUGw/TO7k4hIB1ABn+6r/VBTg7N/qt1JsIKCIWUwHP0KT1Fgnb8vIm2nAj5dn/44Hl6Ia8gou5P4JA+CoGBqP8uxO4mItDMV8GkshxMrqR+WO8zuKABYQUEwYDCewwcx2gsW6VJUwJ1BcipWaDfYlttht4YSEf9TAXcCliuIoGFjoLgAjnxldxwRaScq4E7ClTIIwiPg880Yr9fuOCLSDlTAnYTlcMCQUb571O3fbXccEWkHKuDOJCHRd4PQHZ9hamrsTiMibaQC7kQsy/JdrrKmBrZvsTuOiLSRCriTsSKjIXkg7Nvlu2KbiHRaKuDO6IIRvms8bN2gw9JEOjFdjKeDWJaFq6T1e6iWx9P0Y0HBmKGjYdN63xtygXDdChFpMRVwR6muouaTD1v99JBLJp19hqR+8OUe32FpCb2wugXGmXsi0nwaguikLMuCUReB8cJmDUWIdEYq4E7MCgv3HRt87DAc2Gt3HBFpIRVwZ9c/FWLiIW8TprLc7jQi0gIq4E7OsiwYfREYAznrdZqySCeiAu4CrLDuMGIsFB2DnXl2xxGRZlIBdxFWn2To3R92bMMU5NsdR0SaQQXclYwYC2FhsOkTTFWl3WlE5BxUwF2I5QqCsZf5rhWxca3vBqMiErB0IkYXY0VGY0ZfBDmfUPf3V7B+dI/dkUQChjEGk//vwzaLjsmrjGAAABrTSURBVEFNNYR2g7gESB6EFRHl1zwq4C7ISuqHKSnGu24l1oDBOCZeaXckEduZ/EPUvjgfdn8BwSEQ39NXvhXlcHA/HNiLGTQMMzLNb5lUwF3VkJFYriDMy4sx0fFYI8banUjENmbjOrxLngSHBcPHQr8ULIfz68drquGzHNj+GTU11ZhhF/oO8exgGgPuoizLQdBNM6B3f7zPPo7Zv8vuSCK28Gb9He+zj0NSX4J/9ghWcmqD8gWwgkOwLrwEBg2jbu9O2Jbrl2wq4C7MCu2GY+ZDEB6Bd8FvMfmH7I4k4lfeD97G/O/zMGY8jp89ihUVe/YnDBqOa+AQ2LMdc/hAh+dTAXdxVlQMjp/+GrwevHMfxBTqGGE5P3g/eg/z1+dg9Hgct/8CKzjknM+xLIvg0RdBVAxs/hRTXdWhGVXA5wGrVx8c9/4Wqirwzv3/MEUFdkcS6VBmw8eYpYtg+IU47vgFlqv5b3dZTieMvhjqPB0+FKECPk9YfQfguOc3UFqCd+5/a09YuiyzbyfeF+dDygU47voVVlBQi5dhdY+EARfAwX0dusOiAj6PWMmDfCVcdgLvnPv9MsYl4k/meCHeRY9BRBSOGQ80a9ihSanDfIerdeANcFXA5xlrwGAcv/idb0z4D7/C7N1hdySRdmFqqvEu+h1UVuD4yX+3+aQKy+WC1KFQkI8pONpOKRsKiOOAvV4vs2fPJiYmhtmzZ5Ofn8/8+fMpLS0lJSWFmTNn4nK5qK2t5amnnmLPnj10796de+65hx49etgdv9Oxeifj+OUcvPMewvvHB7B+dA+OcZfbHUvknJzVVVhVFWdMN8ZQ9/Ji2L8L1/RZOLtHQiP3ZDzbvRYb1W+g78SNndt8Z8u1s4Ao4H/84x8kJSVRWem7gMyyZcu4+uqrueyyy3juuedYuXIl3/jGN1i5ciVhYWEsXLiQtWvX8vLLL3PvvffanL5zshIScTzwBN5nfo957g94Dx/AuuZ7WA79USSBy6qqoGb1O2dMNzvyYPtWGDIKT8FRPI3MA8241+Lp63M6McmDfPdeLCluVeazsf3VVlhYSE5ODlOmTAF8v8ny8vIYP348ABkZGWRnZwOwYcMGMjIyABg/fjyfffaZ7oXWBlZEFI77HsW6ZBLmrVfxLnwEU1pidyyRFjGHD/jKt3d/GDC4/VfQdwA4XbBne7sv2vY94Jdeeokbb7yxfu+3tLQUt9uN0+k7UyUmJoaiIt+fEkVFRcTG+g6kdjqduN1uSktLiYiIaLDMrKwssrKyAJgzZw5xcXEtzlV1qBK3293q7eLf+drr+Q6Ho8XLc4aEENWMbTe/eJTKd5dT+uICePReIu59mODhF57zeS6Xq1Vf244SaHkg8DIFWh5oWabKqnJcp7wOPEUFVG1ajyM2ntDxE7Gc56i0Zrwuz3itud1UJ6dSt2c7QbXVzXpNNZetBbxx40YiIyNJSUkhL6/97uSQmZlJZmZm/ecFBS0/jCTM66Wi4syxpuYK8Xiobsfnu93uFucJrq6mvLnbnjYRR4/eeJ/9A8UP/gRr0lVYU2/GCm36hzUuLq5VX9uOEmh5IPAyBVoeaFkmV3U1Nf9+HZjKCvj4fQgOwTv2Miqra4Casz6/Oa/Lxl5rJqkf7PqcynUfUhnXq1lZT5WYmNjodFsLePv27WzYsIFNmzZRU1NDZWUlL730EhUVFXg8HpxOJ0VFRcTExAC+veHCwkJiY2PxeDxUVFTQvXt3OzehS7H6puB4aD5m+VLMyrcxuZ/i+tYNOIaNafTCJJVV5biqq8+6TBPqxhMS2lGR5Txl6uog+yOorYXLM7E6+GfMiojCRMfhXb8K69rvt9uFemwt4BtuuIEbbrgBgLy8PN566y1mzZrFn/70J9avX89ll13GqlWrSEvzXR5u7NixrFq1ikGDBrF+/XqGDRvmlysWnU+skFCs/7odk3Y55qUnqXtpAcT2gGFjsCKjG8zrcrvr90aaEpx+JaiApR0ZY2DTeig5DhdN8N81fPsNwOT+C2tnHgwa3i6LtP1NuMb84Ac/4O2332bmzJmUlZUxefJkACZPnkxZWRkzZ87k7bff5gc/+IHNSbsua+AQgu57xHfpvhPHYc27mA1rMSeO2x1Nznefb4YjB2HYaKyExv+07xC9+uC6cQYkX9Bui7T9TbiThg0bxrBhwwBISEjg97///RnzBAcHc9999/k72nnLcjqxklN94197voC9O+HwAUyPXtA/FdMvxe6Icp6p+/AfvuNy+w+E5EF+XbflcuEcfRGmFac2NyVgClgClxUcDINHYlIGw94dsH8XfLqGyrwcTJ8U6JOMFdrN7pjSxXnXvIv5f3+DxL4wfGyXGH5UAUuzWcHBcMFwTOoQOPIV1oE9mC+2wBdbMXE9fC+MXr3bdv69SCO8n3yIWfY0jsEj8Q64oEuUL6iApRUshxMS+9Jt4GDKjx6Gr/bDoS9hSzZs3YCJ7+kr455JdkeVLsC7+h3My8/ABSNw3Xw3tZ98aHekdqMCljaxukf6hicuGAElxb4iPvQl5P4LLAe1+3Zhxmdgjb4YK0yHDErzGWMw76/AvLYERqThuPN+rMpyu2O1KxWwtAvLsnx3EYiKwQwZBceL4PABvEcPwUsLME4nDB6JNfYyrNHjsbpHnHuhct4ydXWYV5/DrHkHxl6K47afYbmCQAUscnaWZUF0LETHEjTxCupKin2HsG1ci/nLU5hlT8MFI3xlnHY5Vli43ZElgJjSE76baG7finXld7C+feMZN9HsKlTA0qEsy8LqNxCr30DM1JvhwF7MxnW+Ml72NOav/+Mbnrh0Cgwd7bsdjJy3zGc5eP+8AMpKsW69F8f4ll29rLNRAYvfWJYFfVOw+qZgrvsBfLkH88lKzL9WYTZ8DFExWOMnYV06GatXH7vjymmauhZvc53ttHRTWeE7Bf7D/we9+uCY+SBW3wGtXldnoQLuwizLwtXIRamb/fyWXry6Jcu2LOg3AKvfAMz102FLNt51KzHvLce88zqkXIB1WSbWuAlY3dpwVTlpN01di7e5Gjst3Xg9VGa9hXfpM3DiOFbmt7Cm3oQVFNzWuJ2CCrgrq66ipg2H7LT04tWNafYvgQGDYcBgTGkJno3r8GZ/hFm6CPPX/8ExchzOiyZgpZz9+M+mLg6kCwIFHlNXh8n+CPPuG5z4aj8MGIzjJw9iJafaHc2vVMDSsVrzS8CyMOMmwPEinDXVeHI+wbtxLbjDoW8y9E5udK+4qYsDdYULAnXkn//+ZI4d8Q05ffQeFBVArz5E/uy3lF4wqsucXNESKmAJSCePpAi6ZBKe2B5w+AAc2AtfbIUvPsP06Al9UiAh8bx4464j/vz3B2O8cLwYjh2hZks2Zv9u3wODR+L4wV0wfCyhPXpQFmDXKPYXFbAEPMvlgj7J0CcZU17qK+IDe2HjWggKxvTqA4l9MH362x31vGWMgeoqKC+F8jIoO+E7FrykCOrqfDP17o819YdYF03Eio23N3CAUAFLp2KFdf/3mXfD4dhRXxF/tR++3E1FTggkJEKvPhCXcF7sGXckU1cHpSW+y5GWluDJP4TZvR1qqqCmGqqrv/5/VRV46r5+ssMBEVHQOxli4iAugeBvXEddZIx9GxSAVMDSKVmWA3r0gh69MJ46OHYEZ/5hPF996StlpxMTmwA9euIdOhoTEX1ejjE2xdRUQ2E+HDuCOXYUCo9CSbHves8lxVB6HMpKGzzHe/I/lgXBIb4hjeAQiAqD4FAI6w5h4b6PbmG6w3YzqICl07OcLujZm9CUQZSXlkLBUcg/DMcOw2eHqP0sB2J7YA0dDanDsFKH+j4/DwrZeDxQdgLPhrV4C/Mpzj+EZ/9u3/DAqYJDIDLa99GrN9YFI3x7sJFRWN2joHskTgy1mz8FV9B58bXzBxWwdCmW0+kbhvj3nRJMeSmuyBjq9mzHbFgLH72HAYiK9RXxwCFYA4dCUr9OP2Rhqip9wwWnfpSdAGOoAwgKxtsvBWvIaN9fD/E9seISIL4ndI88Z6k6SorOm+Nz/UUFLF2aFdYd52VTMFd9F+P1wKEvMTs/h13bMDu3QfZHvkIODoY+KVj9Bv77BJGB0LN3QJbyyb3aM8q25pRjoEO7QUQ0JCRBRBRBmdfgGTCE2B4JAXdX5POZCljOG5bD6TuGuHcyTLoKAFN4DLNrG+zbidm/C7M2C1a+/XUp907GOnmh+V59fG/wxcT7ZXzTVFdD/iHMoS+p27sDk5cDpSd8Rxn4Evre7Ooe6dvjj4iq/zj9oviOHol4u+gFbTozFbCc16zYeKzYdLg4HfCdGsvRQ5j9u2D/bsyXezCbP4WP3z9ZeRAUjBUd67t2RVQMVmSM7/PwCKxuYdDN7TtRJCiIiuJjOJxBeLqFgdcDtTW+W6nXVkNFOZSVYspO+PZoiwswhflQkA9Fx3xHIPybx+HwnYjSPdJ3sfvukRARCWHd9WZXJ6YCFjmF5XBCrz6+vd1/X4nLVVJE9ftv+vY+y0p8pVlRDvmHfScWVFc1ubyalqw8KBhi4n1vEPZNgdgevnHaxL64unWjdu0Hbds4CTgqYOny2uOiRFZwCMTG+z5OY7weqKr0jcHW1n69l+v1EOxy4UnqjzcoGFwucAVDUJBvL9od5jt0KzwCwrv79mabeCPMakN++Ppr0NT1Mpq1jA68ONP5SgUsXV8HX5TIcjh9wwPuMy8sH+R2Y42baP8JCP/+GjR1vYzmaOvFmZr6RdiSXwpd7ZeAClhE/KOJX4Qt+aXQHlfoCyQavRcRsYkKWETEJipgERGbqIBFRGyiAhYRsYmOghDpYG09Dhm63uFX4qMCFulobTwOGbre4VfioyEIERGbqIBFRGyiAhYRsYkKWETEJipgERGbqIBFRGyiAhYRsYmtxwEXFBSwaNEijh8/jmVZZGZmctVVV1FWVsa8efM4duwY8fHx3HvvvYSHh2OMYcmSJWzatImQkBBmzJhBSkqKnZsgItJqtu4BO51ObrrpJubNm8djjz3Gu+++y8GDB1mxYgUjRoxgwYIFjBgxghUrVgCwadMmjhw5woIFC7jjjjt4/vnn7YwvItImthZwdHR0/R5st27dSEpKoqioiOzsbNLTfTdJTE9PJzs7G4ANGzYwceJELMti0KBBlJeXU1xcbFt+EZG2CJhTkfPz89m7dy8DBw6kpKSE6OhoAKKioigp8d0dtqioiLi4uPrnxMbGUlRUVD/vSVlZWWRlZQEwZ86cBs9prqpDlbjd7tZuDjid7fp8h8PR8uW1c4bTNStTB2doVh4/ZmgsU5vX38YMpz6/VT9H7ZzhdC3K5Ifv5dnyOENCiGpFnzQlIAq4qqqKuXPnMn369DM23LKsJm9U2JTMzEwyMzPrPy8oKGhxpjCvl4pW3jsLIMTjobodn+92u1ucp70znK45mTo6Q3Py+DNDY5k8bVx/WzOc+vzW/By1d4bTtSSTP76XZ8sTXF1NeSv6JDExsdHpth8FUVdXx9y5c5kwYQIXX3wxAJGRkfVDC8XFxURERAAQExPToEwLCwuJibH5ZociIq1kawEbY1i8eDFJSUlcc8019dPT0tJYvXo1AKtXr2bcuHH109esWYMxhh07duB2u88YfhAR6SxsHYLYvn07a9asoW/fvvziF78A4Pvf/z7XXXcd8+bNY+XKlfWHoQGMGTOGnJwcZs2aRXBwMDNmzLAzvohIm9hawIMHD+Zvf/tbo4899NBDZ0yzLIvbbruto2OJiPiF7WPAIiLnKxWwiIhNVMAiIjZRAYuI2EQFLCJiExWwiIhNVMAiIjZRAYuI2EQFLCJiExWwiIhNVMAiIjZRAYuI2EQFLCJiExWwiIhNVMAiIjZRAYuI2EQFLCJiExWwiIhNVMAiIjZRAYuI2EQFLCJiExWwiIhNVMAiIjZRAYuI2EQFLCJiExWwiIhNVMAiIjZRAYuI2EQFLCJiExWwiIhNVMAiIjZRAYuI2EQFLCJiExWwiIhNVMAiIjZRAYuI2EQFLCJiExWwiIhNXHYHaI3c3FyWLFmC1+tlypQpXHfddXZHEhFpsU63B+z1ennhhRd44IEHmDdvHmvXruXgwYN2xxIRabFOV8C7du2iZ8+eJCQk4HK5uPTSS8nOzrY7lohIi1nGGGN3iJZYv349ubm53HnnnQCsWbOGnTt3cuutt9bPk5WVRVZWFgBz5syxJaeIyLl0uj3g5sjMzGTOnDltKt/Zs2e3Y6K2C7Q8EHiZAi0PBF6mQMsDgZfJn3k6XQHHxMRQWFhY/3lhYSExMTE2JhIRaZ1OV8ADBgzg8OHD5OfnU1dXx7p160hLS7M7lohIizkffvjhh+0O0RIOh4OePXuycOFC3nnnHSZMmMD48eM7ZF0pKSkdstzWCrQ8EHiZAi0PBF6mQMsDgZfJX3k63ZtwIiJdRacbghAR6SpUwCIiNumUpyJ3pEA4zfnpp58mJyeHyMhI5s6dC0BZWRnz5s3j2LFjxMfHc++99xIeHu6XPAUFBSxatIjjx49jWRaZmZlcddVVtmaqqanh17/+NXV1dXg8HsaPH8+0adPIz89n/vz5lJaWkpKSwsyZM3G5/Pdj7vV6mT17NjExMcyePdv2PHfffTehoaE4HA6cTidz5syx9ftWXl7O4sWLOXDgAJZlcdddd5GYmGhbnkOHDjFv3rz6z/Pz85k2bRrp6en+yWSknsfjMT/5yU/MkSNHTG1trfn5z39uDhw44PcceXl5Zvfu3ea+++6rn7Z06VKzfPlyY4wxy5cvN0uXLvVbnqKiIrN7925jjDEVFRVm1qxZ5sCBA7Zm8nq9prKy0hhjTG1trfnVr35ltm/fbubOnWs+/vhjY4wxzz77rHn33Xf9lskYY9566y0zf/588/vf/94YY2zPM2PGDFNSUtJgmp3ft4ULF5qsrCxjjO/7VlZWZmueU3k8HnPbbbeZ/Px8v2XSEMQpAuU056FDh57x2zY7O5v09HQA0tPT/ZorOjq6/l3hbt26kZSURFFRka2ZLMsiNDQUAI/Hg8fjwbIs8vLy6o+KycjI8GumwsJCcnJymDJlCgDGGFvzNMWu71tFRQWff/45kydPBsDlchEWFmbrz9Gptm7dSs+ePYmPj/dbJg1BnKKoqIjY2Nj6z2NjY9m5c6eNib5WUlJCdHQ0AFFRUZSUlNiSIz8/n7179zJw4EDbM3m9Xu6//36OHDnCFVdcQUJCAm63G6fTCfhO2ikqKvJbnpdeeokbb7yRyspKAEpLS23Nc9Jjjz0GwH/8x3+QmZlp2/ctPz+fiIgInn76afbv309KSgrTp0+3/efopLVr13LZZZcB/nu9qYA7IcuysCzL7+utqqpi7ty5TJ8+HbfbbXsmh8PBH//4R8rLy3niiSc4dOiQX9d/qo0bNxIZGUlKSgp5eXm25TjdI488QkxMDCUlJTz66KMkJiY2eNyf3zePx8PevXu55ZZbSE1NZcmSJaxYscK2PKeqq6tj48aN3HDDDWc81pGZVMCnCOTTnCMjIykuLiY6Opri4mIiIiL8uv66ujrmzp3LhAkTuPjiiwMi00lhYWEMGzaMHTt2UFFRgcfjwel0UlRU5Lfv3/bt29mwYQObNm2ipqaGyspKXnrpJdvynHRyfZGRkYwbN45du3bZ9n2LjY0lNjaW1NRUAMaPH8+KFSsC4udo06ZNJCcnExUVBfjvZ1tjwKcI5NOc09LSWL16NQCrV69m3Lhxflu3MYbFixeTlJTENddcExCZTpw4QXl5OeA7ImLLli0kJSUxbNgw1q9fD8CqVav89v274YYbWLx4MYsWLeKee+5h+PDhzJo1y7Y84PuL5eRwSFVVFVu2bKFv3762fd+ioqKIjY2t/0tl69at9O7d29afo5NOHX4A//1s60y40+Tk5PDnP/8Zr9fLpEmTmDp1qt8zzJ8/n23btlFaWkpkZCTTpk1j3LhxzJs3j4KCAr8fqvPFF1/w0EMP0bdv3/o/xb7//e+TmppqW6b9+/ezaNEivF4vxhguueQSrr/+eo4ePcr8+fMpKysjOTmZmTNnEhQU5JdMJ+Xl5fHWW28xe/ZsW/McPXqUJ554AvD9+X/55ZczdepUSktLbfu+7du3j8WLF1NXV0ePHj2YMWMGxhjb8oDvl9OMGTN46qmn6ofW/PU1UgGLiNhEQxAiIjZRAYuI2EQFLCJiExWwiIhNVMAiIjZRAYuI2EQFLF3W3XffzZYtW+yOIdIkFbBIO/N4PHZHkE5CJ2JIl7Rw4UI+/vhjXC4XDoeD66+/niFDhvCXv/yFgwcPEh8fz/Tp0xk2bBgADz/8MIMHDyYvL4/9+/czaNAgZs2aRUREBHl5eSxcuJDFixfXL//uu+/mxz/+MSNHjuRvf/sbBw4cICgoiI0bN3LzzTdzySWX8Oc//5lNmzZhWRaTJk1i2rRpOBza55Gv6adBuqSZM2cSFxfH/fffz9KlS5kwYQJz5sxh6tSpvPjii9x0003MnTuXEydO1D9n7dq13HXXXTz//PPU1dXx1ltvNXt9GzZsYPz48SxZsoQJEyawaNEinE4nCxYs4A9/+AObN2/mgw8+6IhNlU5MBSznhTVr1jBmzBguvPBCHA4HI0eOZMCAAeTk5NTPk5GRQWJiIsHBwVxyySXs27ev2csfNGgQF110EQ6Hg4qKCjZt2sT06dMJDQ0lMjKSq6++mnXr1nXAlklnpstRynmhoKCA9evXs3HjxvppHo+nfggCqL8UIUBISAhVVVXNXv6pF/IvKCjA4/Fwxx131E8zxjSYRwRUwHKeiI2NZcKECdx5550tfm5ISAjV1dX1n3u93gZDF42ty+Vy8cILL9TfDUOkMRqCkC4rKiqK/Px8ACZMmMDGjRvJzc3F6/VSU1NDXl5egwvwNyUxMZHa2lpycnKoq6vj9ddfp7a2tsn5o6OjGTVqFH/5y1+oqKjA6/Vy5MgRtm3b1m7bJl2D9oCly7ruuut48cUXWbZsGVOnTuWXv/wly5Yt48knn8ThcDBw4EBuv/32cy7H7XZz2223sXjxYrxeL9/85jfPOZzwk5/8hJdffpn77ruPyspKEhIS+Na3vtVemyZdhA5DExGxiYYgRERsogIWEbGJClhExCYqYBERm6iARURsogIWEbGJClhExCYqYBERm/z/JTDNR5mRfL8AAAAASUVORK5CYII=\n"
                },
                "metadata": {}
              }
            ]
          }
        },
        "063e53f701e148a78b133929ef2ce2ed": {
          "model_module": "@jupyter-widgets/base",
          "model_name": "LayoutModel",
          "model_module_version": "1.2.0",
          "state": {
            "_model_module": "@jupyter-widgets/base",
            "_model_module_version": "1.2.0",
            "_model_name": "LayoutModel",
            "_view_count": null,
            "_view_module": "@jupyter-widgets/base",
            "_view_module_version": "1.2.0",
            "_view_name": "LayoutView",
            "align_content": null,
            "align_items": null,
            "align_self": null,
            "border": null,
            "bottom": null,
            "display": null,
            "flex": null,
            "flex_flow": null,
            "grid_area": null,
            "grid_auto_columns": null,
            "grid_auto_flow": null,
            "grid_auto_rows": null,
            "grid_column": null,
            "grid_gap": null,
            "grid_row": null,
            "grid_template_areas": null,
            "grid_template_columns": null,
            "grid_template_rows": null,
            "height": null,
            "justify_content": null,
            "justify_items": null,
            "left": null,
            "margin": null,
            "max_height": null,
            "max_width": null,
            "min_height": null,
            "min_width": null,
            "object_fit": null,
            "object_position": null,
            "order": null,
            "overflow": null,
            "overflow_x": null,
            "overflow_y": null,
            "padding": null,
            "right": null,
            "top": null,
            "visibility": null,
            "width": null
          }
        },
        "82e60e0193964e49b2394b13e568ce31": {
          "model_module": "@jupyter-widgets/base",
          "model_name": "LayoutModel",
          "model_module_version": "1.2.0",
          "state": {
            "_model_module": "@jupyter-widgets/base",
            "_model_module_version": "1.2.0",
            "_model_name": "LayoutModel",
            "_view_count": null,
            "_view_module": "@jupyter-widgets/base",
            "_view_module_version": "1.2.0",
            "_view_name": "LayoutView",
            "align_content": null,
            "align_items": null,
            "align_self": null,
            "border": null,
            "bottom": null,
            "display": null,
            "flex": null,
            "flex_flow": null,
            "grid_area": null,
            "grid_auto_columns": null,
            "grid_auto_flow": null,
            "grid_auto_rows": null,
            "grid_column": null,
            "grid_gap": null,
            "grid_row": null,
            "grid_template_areas": null,
            "grid_template_columns": null,
            "grid_template_rows": null,
            "height": null,
            "justify_content": null,
            "justify_items": null,
            "left": null,
            "margin": null,
            "max_height": null,
            "max_width": null,
            "min_height": null,
            "min_width": null,
            "object_fit": null,
            "object_position": null,
            "order": null,
            "overflow": null,
            "overflow_x": null,
            "overflow_y": null,
            "padding": null,
            "right": null,
            "top": null,
            "visibility": null,
            "width": null
          }
        },
        "306f926c376d4f829c807f50e1707059": {
          "model_module": "@jupyter-widgets/controls",
          "model_name": "DescriptionStyleModel",
          "model_module_version": "1.5.0",
          "state": {
            "_model_module": "@jupyter-widgets/controls",
            "_model_module_version": "1.5.0",
            "_model_name": "DescriptionStyleModel",
            "_view_count": null,
            "_view_module": "@jupyter-widgets/base",
            "_view_module_version": "1.2.0",
            "_view_name": "StyleView",
            "description_width": ""
          }
        },
        "b83164abd82541928eeb1ed8f2e7b8db": {
          "model_module": "@jupyter-widgets/base",
          "model_name": "LayoutModel",
          "model_module_version": "1.2.0",
          "state": {
            "_model_module": "@jupyter-widgets/base",
            "_model_module_version": "1.2.0",
            "_model_name": "LayoutModel",
            "_view_count": null,
            "_view_module": "@jupyter-widgets/base",
            "_view_module_version": "1.2.0",
            "_view_name": "LayoutView",
            "align_content": null,
            "align_items": null,
            "align_self": null,
            "border": null,
            "bottom": null,
            "display": null,
            "flex": null,
            "flex_flow": null,
            "grid_area": null,
            "grid_auto_columns": null,
            "grid_auto_flow": null,
            "grid_auto_rows": null,
            "grid_column": null,
            "grid_gap": null,
            "grid_row": null,
            "grid_template_areas": null,
            "grid_template_columns": null,
            "grid_template_rows": null,
            "height": null,
            "justify_content": null,
            "justify_items": null,
            "left": null,
            "margin": null,
            "max_height": null,
            "max_width": null,
            "min_height": null,
            "min_width": null,
            "object_fit": null,
            "object_position": null,
            "order": null,
            "overflow": null,
            "overflow_x": null,
            "overflow_y": null,
            "padding": null,
            "right": null,
            "top": null,
            "visibility": null,
            "width": null
          }
        },
        "23d0168bc22846668a1b56632cbc595e": {
          "model_module": "@jupyter-widgets/controls",
          "model_name": "VBoxModel",
          "model_module_version": "1.5.0",
          "state": {
            "_dom_classes": [
              "widget-interact"
            ],
            "_model_module": "@jupyter-widgets/controls",
            "_model_module_version": "1.5.0",
            "_model_name": "VBoxModel",
            "_view_count": null,
            "_view_module": "@jupyter-widgets/controls",
            "_view_module_version": "1.5.0",
            "_view_name": "VBoxView",
            "box_style": "",
            "children": [
              "IPY_MODEL_b8d80c86915b4f018de78ebd21846575",
              "IPY_MODEL_6c6f03d43b6c4545a80b808875daace9"
            ],
            "layout": "IPY_MODEL_6a6e974a417a4ca78d82a1e6d996584d"
          }
        },
        "b8d80c86915b4f018de78ebd21846575": {
          "model_module": "@jupyter-widgets/controls",
          "model_name": "DropdownModel",
          "model_module_version": "1.5.0",
          "state": {
            "_dom_classes": [],
            "_model_module": "@jupyter-widgets/controls",
            "_model_module_version": "1.5.0",
            "_model_name": "DropdownModel",
            "_options_labels": [
              "tenure",
              "MonthlyCharges",
              "TotalCharges"
            ],
            "_view_count": null,
            "_view_module": "@jupyter-widgets/controls",
            "_view_module_version": "1.5.0",
            "_view_name": "DropdownView",
            "description": "x",
            "description_tooltip": null,
            "disabled": false,
            "index": 0,
            "layout": "IPY_MODEL_09bca3bb12bd427998c25ba4ecd515ca",
            "style": "IPY_MODEL_1aa38346b1d342b08f8d0429aadb100f"
          }
        },
        "6c6f03d43b6c4545a80b808875daace9": {
          "model_module": "@jupyter-widgets/output",
          "model_name": "OutputModel",
          "model_module_version": "1.0.0",
          "state": {
            "_dom_classes": [],
            "_model_module": "@jupyter-widgets/output",
            "_model_module_version": "1.0.0",
            "_model_name": "OutputModel",
            "_view_count": null,
            "_view_module": "@jupyter-widgets/output",
            "_view_module_version": "1.0.0",
            "_view_name": "OutputView",
            "layout": "IPY_MODEL_336250dd82e047ba825f88a40d1c8ee9",
            "msg_id": "",
            "outputs": [
              {
                "output_type": "display_data",
                "data": {
                  "text/plain": "<Figure size 432x288 with 1 Axes>",
                  "image/png": "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\n"
                },
                "metadata": {}
              }
            ]
          }
        },
        "6a6e974a417a4ca78d82a1e6d996584d": {
          "model_module": "@jupyter-widgets/base",
          "model_name": "LayoutModel",
          "model_module_version": "1.2.0",
          "state": {
            "_model_module": "@jupyter-widgets/base",
            "_model_module_version": "1.2.0",
            "_model_name": "LayoutModel",
            "_view_count": null,
            "_view_module": "@jupyter-widgets/base",
            "_view_module_version": "1.2.0",
            "_view_name": "LayoutView",
            "align_content": null,
            "align_items": null,
            "align_self": null,
            "border": null,
            "bottom": null,
            "display": null,
            "flex": null,
            "flex_flow": null,
            "grid_area": null,
            "grid_auto_columns": null,
            "grid_auto_flow": null,
            "grid_auto_rows": null,
            "grid_column": null,
            "grid_gap": null,
            "grid_row": null,
            "grid_template_areas": null,
            "grid_template_columns": null,
            "grid_template_rows": null,
            "height": null,
            "justify_content": null,
            "justify_items": null,
            "left": null,
            "margin": null,
            "max_height": null,
            "max_width": null,
            "min_height": null,
            "min_width": null,
            "object_fit": null,
            "object_position": null,
            "order": null,
            "overflow": null,
            "overflow_x": null,
            "overflow_y": null,
            "padding": null,
            "right": null,
            "top": null,
            "visibility": null,
            "width": null
          }
        },
        "09bca3bb12bd427998c25ba4ecd515ca": {
          "model_module": "@jupyter-widgets/base",
          "model_name": "LayoutModel",
          "model_module_version": "1.2.0",
          "state": {
            "_model_module": "@jupyter-widgets/base",
            "_model_module_version": "1.2.0",
            "_model_name": "LayoutModel",
            "_view_count": null,
            "_view_module": "@jupyter-widgets/base",
            "_view_module_version": "1.2.0",
            "_view_name": "LayoutView",
            "align_content": null,
            "align_items": null,
            "align_self": null,
            "border": null,
            "bottom": null,
            "display": null,
            "flex": null,
            "flex_flow": null,
            "grid_area": null,
            "grid_auto_columns": null,
            "grid_auto_flow": null,
            "grid_auto_rows": null,
            "grid_column": null,
            "grid_gap": null,
            "grid_row": null,
            "grid_template_areas": null,
            "grid_template_columns": null,
            "grid_template_rows": null,
            "height": null,
            "justify_content": null,
            "justify_items": null,
            "left": null,
            "margin": null,
            "max_height": null,
            "max_width": null,
            "min_height": null,
            "min_width": null,
            "object_fit": null,
            "object_position": null,
            "order": null,
            "overflow": null,
            "overflow_x": null,
            "overflow_y": null,
            "padding": null,
            "right": null,
            "top": null,
            "visibility": null,
            "width": null
          }
        },
        "1aa38346b1d342b08f8d0429aadb100f": {
          "model_module": "@jupyter-widgets/controls",
          "model_name": "DescriptionStyleModel",
          "model_module_version": "1.5.0",
          "state": {
            "_model_module": "@jupyter-widgets/controls",
            "_model_module_version": "1.5.0",
            "_model_name": "DescriptionStyleModel",
            "_view_count": null,
            "_view_module": "@jupyter-widgets/base",
            "_view_module_version": "1.2.0",
            "_view_name": "StyleView",
            "description_width": ""
          }
        },
        "336250dd82e047ba825f88a40d1c8ee9": {
          "model_module": "@jupyter-widgets/base",
          "model_name": "LayoutModel",
          "model_module_version": "1.2.0",
          "state": {
            "_model_module": "@jupyter-widgets/base",
            "_model_module_version": "1.2.0",
            "_model_name": "LayoutModel",
            "_view_count": null,
            "_view_module": "@jupyter-widgets/base",
            "_view_module_version": "1.2.0",
            "_view_name": "LayoutView",
            "align_content": null,
            "align_items": null,
            "align_self": null,
            "border": null,
            "bottom": null,
            "display": null,
            "flex": null,
            "flex_flow": null,
            "grid_area": null,
            "grid_auto_columns": null,
            "grid_auto_flow": null,
            "grid_auto_rows": null,
            "grid_column": null,
            "grid_gap": null,
            "grid_row": null,
            "grid_template_areas": null,
            "grid_template_columns": null,
            "grid_template_rows": null,
            "height": null,
            "justify_content": null,
            "justify_items": null,
            "left": null,
            "margin": null,
            "max_height": null,
            "max_width": null,
            "min_height": null,
            "min_width": null,
            "object_fit": null,
            "object_position": null,
            "order": null,
            "overflow": null,
            "overflow_x": null,
            "overflow_y": null,
            "padding": null,
            "right": null,
            "top": null,
            "visibility": null,
            "width": null
          }
        }
      }
    }
  },
  "nbformat": 4,
  "nbformat_minor": 0
}